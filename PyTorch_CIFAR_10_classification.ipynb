{
  "nbformat": 4,
  "nbformat_minor": 0,
  "metadata": {
    "colab": {
      "name": "PyTorch CIFAR 10 classification.ipynb",
      "provenance": [],
      "collapsed_sections": [],
      "authorship_tag": "ABX9TyNIGJAZM4StWTsZ4r39IRqL",
      "include_colab_link": true
    },
    "kernelspec": {
      "name": "python3",
      "display_name": "Python 3"
    },
    "language_info": {
      "name": "python"
    },
    "widgets": {
      "application/vnd.jupyter.widget-state+json": {
        "2a766180b7fc4f7fab42ea06acd806c2": {
          "model_module": "@jupyter-widgets/controls",
          "model_name": "HBoxModel",
          "model_module_version": "1.5.0",
          "state": {
            "_view_name": "HBoxView",
            "_dom_classes": [],
            "_model_name": "HBoxModel",
            "_view_module": "@jupyter-widgets/controls",
            "_model_module_version": "1.5.0",
            "_view_count": null,
            "_view_module_version": "1.5.0",
            "box_style": "",
            "layout": "IPY_MODEL_6fbe8e3fae1a4ebb94f6fade21de0164",
            "_model_module": "@jupyter-widgets/controls",
            "children": [
              "IPY_MODEL_78cab62d829b433ca35e05c05378015f",
              "IPY_MODEL_6d5ad9358c064f64b1d6f38d4414c869",
              "IPY_MODEL_b0d4994959a94c5591b25b5f182aa707"
            ]
          }
        },
        "6fbe8e3fae1a4ebb94f6fade21de0164": {
          "model_module": "@jupyter-widgets/base",
          "model_name": "LayoutModel",
          "model_module_version": "1.2.0",
          "state": {
            "_view_name": "LayoutView",
            "grid_template_rows": null,
            "right": null,
            "justify_content": null,
            "_view_module": "@jupyter-widgets/base",
            "overflow": null,
            "_model_module_version": "1.2.0",
            "_view_count": null,
            "flex_flow": null,
            "width": null,
            "min_width": null,
            "border": null,
            "align_items": null,
            "bottom": null,
            "_model_module": "@jupyter-widgets/base",
            "top": null,
            "grid_column": null,
            "overflow_y": null,
            "overflow_x": null,
            "grid_auto_flow": null,
            "grid_area": null,
            "grid_template_columns": null,
            "flex": null,
            "_model_name": "LayoutModel",
            "justify_items": null,
            "grid_row": null,
            "max_height": null,
            "align_content": null,
            "visibility": null,
            "align_self": null,
            "height": null,
            "min_height": null,
            "padding": null,
            "grid_auto_rows": null,
            "grid_gap": null,
            "max_width": null,
            "order": null,
            "_view_module_version": "1.2.0",
            "grid_template_areas": null,
            "object_position": null,
            "object_fit": null,
            "grid_auto_columns": null,
            "margin": null,
            "display": null,
            "left": null
          }
        },
        "78cab62d829b433ca35e05c05378015f": {
          "model_module": "@jupyter-widgets/controls",
          "model_name": "HTMLModel",
          "model_module_version": "1.5.0",
          "state": {
            "_view_name": "HTMLView",
            "style": "IPY_MODEL_db8f816d1f854c9d9e77bfe2687608bd",
            "_dom_classes": [],
            "description": "",
            "_model_name": "HTMLModel",
            "placeholder": "​",
            "_view_module": "@jupyter-widgets/controls",
            "_model_module_version": "1.5.0",
            "value": "",
            "_view_count": null,
            "_view_module_version": "1.5.0",
            "description_tooltip": null,
            "_model_module": "@jupyter-widgets/controls",
            "layout": "IPY_MODEL_67db73a890504a52a3ea0265f06ad8d9"
          }
        },
        "6d5ad9358c064f64b1d6f38d4414c869": {
          "model_module": "@jupyter-widgets/controls",
          "model_name": "FloatProgressModel",
          "model_module_version": "1.5.0",
          "state": {
            "_view_name": "ProgressView",
            "style": "IPY_MODEL_9136125b862a475b90dc48841f842f53",
            "_dom_classes": [],
            "description": "",
            "_model_name": "FloatProgressModel",
            "bar_style": "success",
            "max": 170498071,
            "_view_module": "@jupyter-widgets/controls",
            "_model_module_version": "1.5.0",
            "value": 170498071,
            "_view_count": null,
            "_view_module_version": "1.5.0",
            "orientation": "horizontal",
            "min": 0,
            "description_tooltip": null,
            "_model_module": "@jupyter-widgets/controls",
            "layout": "IPY_MODEL_f9714f3889254a3885eb2493837af268"
          }
        },
        "b0d4994959a94c5591b25b5f182aa707": {
          "model_module": "@jupyter-widgets/controls",
          "model_name": "HTMLModel",
          "model_module_version": "1.5.0",
          "state": {
            "_view_name": "HTMLView",
            "style": "IPY_MODEL_1c0329aadefe4be4b7bfe632e55901a4",
            "_dom_classes": [],
            "description": "",
            "_model_name": "HTMLModel",
            "placeholder": "​",
            "_view_module": "@jupyter-widgets/controls",
            "_model_module_version": "1.5.0",
            "value": " 170499072/? [00:04&lt;00:00, 42947148.29it/s]",
            "_view_count": null,
            "_view_module_version": "1.5.0",
            "description_tooltip": null,
            "_model_module": "@jupyter-widgets/controls",
            "layout": "IPY_MODEL_7e0d66de234a4be1b78e25105982eb86"
          }
        },
        "db8f816d1f854c9d9e77bfe2687608bd": {
          "model_module": "@jupyter-widgets/controls",
          "model_name": "DescriptionStyleModel",
          "model_module_version": "1.5.0",
          "state": {
            "_view_name": "StyleView",
            "_model_name": "DescriptionStyleModel",
            "description_width": "",
            "_view_module": "@jupyter-widgets/base",
            "_model_module_version": "1.5.0",
            "_view_count": null,
            "_view_module_version": "1.2.0",
            "_model_module": "@jupyter-widgets/controls"
          }
        },
        "67db73a890504a52a3ea0265f06ad8d9": {
          "model_module": "@jupyter-widgets/base",
          "model_name": "LayoutModel",
          "model_module_version": "1.2.0",
          "state": {
            "_view_name": "LayoutView",
            "grid_template_rows": null,
            "right": null,
            "justify_content": null,
            "_view_module": "@jupyter-widgets/base",
            "overflow": null,
            "_model_module_version": "1.2.0",
            "_view_count": null,
            "flex_flow": null,
            "width": null,
            "min_width": null,
            "border": null,
            "align_items": null,
            "bottom": null,
            "_model_module": "@jupyter-widgets/base",
            "top": null,
            "grid_column": null,
            "overflow_y": null,
            "overflow_x": null,
            "grid_auto_flow": null,
            "grid_area": null,
            "grid_template_columns": null,
            "flex": null,
            "_model_name": "LayoutModel",
            "justify_items": null,
            "grid_row": null,
            "max_height": null,
            "align_content": null,
            "visibility": null,
            "align_self": null,
            "height": null,
            "min_height": null,
            "padding": null,
            "grid_auto_rows": null,
            "grid_gap": null,
            "max_width": null,
            "order": null,
            "_view_module_version": "1.2.0",
            "grid_template_areas": null,
            "object_position": null,
            "object_fit": null,
            "grid_auto_columns": null,
            "margin": null,
            "display": null,
            "left": null
          }
        },
        "9136125b862a475b90dc48841f842f53": {
          "model_module": "@jupyter-widgets/controls",
          "model_name": "ProgressStyleModel",
          "model_module_version": "1.5.0",
          "state": {
            "_view_name": "StyleView",
            "_model_name": "ProgressStyleModel",
            "description_width": "",
            "_view_module": "@jupyter-widgets/base",
            "_model_module_version": "1.5.0",
            "_view_count": null,
            "_view_module_version": "1.2.0",
            "bar_color": null,
            "_model_module": "@jupyter-widgets/controls"
          }
        },
        "f9714f3889254a3885eb2493837af268": {
          "model_module": "@jupyter-widgets/base",
          "model_name": "LayoutModel",
          "model_module_version": "1.2.0",
          "state": {
            "_view_name": "LayoutView",
            "grid_template_rows": null,
            "right": null,
            "justify_content": null,
            "_view_module": "@jupyter-widgets/base",
            "overflow": null,
            "_model_module_version": "1.2.0",
            "_view_count": null,
            "flex_flow": null,
            "width": null,
            "min_width": null,
            "border": null,
            "align_items": null,
            "bottom": null,
            "_model_module": "@jupyter-widgets/base",
            "top": null,
            "grid_column": null,
            "overflow_y": null,
            "overflow_x": null,
            "grid_auto_flow": null,
            "grid_area": null,
            "grid_template_columns": null,
            "flex": null,
            "_model_name": "LayoutModel",
            "justify_items": null,
            "grid_row": null,
            "max_height": null,
            "align_content": null,
            "visibility": null,
            "align_self": null,
            "height": null,
            "min_height": null,
            "padding": null,
            "grid_auto_rows": null,
            "grid_gap": null,
            "max_width": null,
            "order": null,
            "_view_module_version": "1.2.0",
            "grid_template_areas": null,
            "object_position": null,
            "object_fit": null,
            "grid_auto_columns": null,
            "margin": null,
            "display": null,
            "left": null
          }
        },
        "1c0329aadefe4be4b7bfe632e55901a4": {
          "model_module": "@jupyter-widgets/controls",
          "model_name": "DescriptionStyleModel",
          "model_module_version": "1.5.0",
          "state": {
            "_view_name": "StyleView",
            "_model_name": "DescriptionStyleModel",
            "description_width": "",
            "_view_module": "@jupyter-widgets/base",
            "_model_module_version": "1.5.0",
            "_view_count": null,
            "_view_module_version": "1.2.0",
            "_model_module": "@jupyter-widgets/controls"
          }
        },
        "7e0d66de234a4be1b78e25105982eb86": {
          "model_module": "@jupyter-widgets/base",
          "model_name": "LayoutModel",
          "model_module_version": "1.2.0",
          "state": {
            "_view_name": "LayoutView",
            "grid_template_rows": null,
            "right": null,
            "justify_content": null,
            "_view_module": "@jupyter-widgets/base",
            "overflow": null,
            "_model_module_version": "1.2.0",
            "_view_count": null,
            "flex_flow": null,
            "width": null,
            "min_width": null,
            "border": null,
            "align_items": null,
            "bottom": null,
            "_model_module": "@jupyter-widgets/base",
            "top": null,
            "grid_column": null,
            "overflow_y": null,
            "overflow_x": null,
            "grid_auto_flow": null,
            "grid_area": null,
            "grid_template_columns": null,
            "flex": null,
            "_model_name": "LayoutModel",
            "justify_items": null,
            "grid_row": null,
            "max_height": null,
            "align_content": null,
            "visibility": null,
            "align_self": null,
            "height": null,
            "min_height": null,
            "padding": null,
            "grid_auto_rows": null,
            "grid_gap": null,
            "max_width": null,
            "order": null,
            "_view_module_version": "1.2.0",
            "grid_template_areas": null,
            "object_position": null,
            "object_fit": null,
            "grid_auto_columns": null,
            "margin": null,
            "display": null,
            "left": null
          }
        }
      }
    }
  },
  "cells": [
    {
      "cell_type": "markdown",
      "metadata": {
        "id": "view-in-github",
        "colab_type": "text"
      },
      "source": [
        "<a href=\"https://colab.research.google.com/github/hamednasr/CIFAR-10-classification/blob/main/PyTorch_CIFAR_10_classification.ipynb\" target=\"_parent\"><img src=\"https://colab.research.google.com/assets/colab-badge.svg\" alt=\"Open In Colab\"/></a>"
      ]
    },
    {
      "cell_type": "markdown",
      "source": [
        "# CIFAR 10 classification using PyTorch"
      ],
      "metadata": {
        "id": "fJfHYXtBYGmk"
      }
    },
    {
      "cell_type": "code",
      "execution_count": 1,
      "metadata": {
        "id": "KhP_klLaKVD3"
      },
      "outputs": [],
      "source": [
        "import torch\n",
        "import torch.nn as nn\n",
        "import torch.nn.functional as F\n",
        "\n",
        "import torchvision\n",
        "import torchvision.transforms as T\n",
        "from torch.utils.data import DataLoader, TensorDataset\n",
        "\n",
        "import numpy as np\n",
        "import matplotlib.pyplot as plt\n",
        "from IPython import display\n",
        "display.set_matplotlib_formats('svg')"
      ]
    },
    {
      "cell_type": "code",
      "source": [
        "data = torchvision.datasets.CIFAR10(root = 'cifar10',download=True)\n",
        "data"
      ],
      "metadata": {
        "colab": {
          "base_uri": "https://localhost:8080/",
          "height": 156,
          "referenced_widgets": [
            "2a766180b7fc4f7fab42ea06acd806c2",
            "6fbe8e3fae1a4ebb94f6fade21de0164",
            "78cab62d829b433ca35e05c05378015f",
            "6d5ad9358c064f64b1d6f38d4414c869",
            "b0d4994959a94c5591b25b5f182aa707",
            "db8f816d1f854c9d9e77bfe2687608bd",
            "67db73a890504a52a3ea0265f06ad8d9",
            "9136125b862a475b90dc48841f842f53",
            "f9714f3889254a3885eb2493837af268",
            "1c0329aadefe4be4b7bfe632e55901a4",
            "7e0d66de234a4be1b78e25105982eb86"
          ]
        },
        "id": "k-arbojHZwZz",
        "outputId": "2843f943-db40-4b02-9184-cc862159eb92"
      },
      "execution_count": 4,
      "outputs": [
        {
          "output_type": "stream",
          "name": "stdout",
          "text": [
            "Downloading https://www.cs.toronto.edu/~kriz/cifar-10-python.tar.gz to cifar10/cifar-10-python.tar.gz\n"
          ]
        },
        {
          "output_type": "display_data",
          "data": {
            "application/vnd.jupyter.widget-view+json": {
              "model_id": "2a766180b7fc4f7fab42ea06acd806c2",
              "version_minor": 0,
              "version_major": 2
            },
            "text/plain": [
              "  0%|          | 0/170498071 [00:00<?, ?it/s]"
            ]
          },
          "metadata": {}
        },
        {
          "output_type": "stream",
          "name": "stdout",
          "text": [
            "Extracting cifar10/cifar-10-python.tar.gz to cifar10\n"
          ]
        },
        {
          "output_type": "execute_result",
          "data": {
            "text/plain": [
              "Dataset CIFAR10\n",
              "    Number of datapoints: 50000\n",
              "    Root location: cifar10\n",
              "    Split: Train"
            ]
          },
          "metadata": {},
          "execution_count": 4
        }
      ]
    },
    {
      "cell_type": "code",
      "source": [
        "data.data.shape"
      ],
      "metadata": {
        "colab": {
          "base_uri": "https://localhost:8080/"
        },
        "id": "Cuvt3He-pBBl",
        "outputId": "ecd6b717-77f8-4e04-ba7f-90c0b54d8792"
      },
      "execution_count": 9,
      "outputs": [
        {
          "output_type": "execute_result",
          "data": {
            "text/plain": [
              "(50000, 32, 32, 3)"
            ]
          },
          "metadata": {},
          "execution_count": 9
        }
      ]
    },
    {
      "cell_type": "code",
      "source": [
        "images = data.data"
      ],
      "metadata": {
        "id": "IP9MQSjvpcsT"
      },
      "execution_count": 10,
      "outputs": []
    },
    {
      "cell_type": "code",
      "source": [
        "labels = data.classes"
      ],
      "metadata": {
        "id": "7LURY1l3p-Qr"
      },
      "execution_count": 11,
      "outputs": []
    },
    {
      "cell_type": "code",
      "source": [
        "labels"
      ],
      "metadata": {
        "colab": {
          "base_uri": "https://localhost:8080/"
        },
        "id": "5XUOsxJCqCHq",
        "outputId": "9f4afbeb-e9c0-48e8-f437-1de3623ec673"
      },
      "execution_count": 12,
      "outputs": [
        {
          "output_type": "execute_result",
          "data": {
            "text/plain": [
              "['airplane',\n",
              " 'automobile',\n",
              " 'bird',\n",
              " 'cat',\n",
              " 'deer',\n",
              " 'dog',\n",
              " 'frog',\n",
              " 'horse',\n",
              " 'ship',\n",
              " 'truck']"
            ]
          },
          "metadata": {},
          "execution_count": 12
        }
      ]
    },
    {
      "cell_type": "code",
      "source": [
        "images.shape"
      ],
      "metadata": {
        "colab": {
          "base_uri": "https://localhost:8080/"
        },
        "id": "x3-A3toOqz58",
        "outputId": "a5a054ef-a036-4243-d30e-fd29a8cca222"
      },
      "execution_count": 13,
      "outputs": [
        {
          "output_type": "execute_result",
          "data": {
            "text/plain": [
              "(50000, 32, 32, 3)"
            ]
          },
          "metadata": {},
          "execution_count": 13
        }
      ]
    },
    {
      "cell_type": "code",
      "source": [
        "images[1].shape"
      ],
      "metadata": {
        "colab": {
          "base_uri": "https://localhost:8080/"
        },
        "id": "6RK8Sm4wq49x",
        "outputId": "fcb4c46e-93a3-4f67-8393-db6208388b4d"
      },
      "execution_count": 23,
      "outputs": [
        {
          "output_type": "execute_result",
          "data": {
            "text/plain": [
              "(32, 32, 3)"
            ]
          },
          "metadata": {},
          "execution_count": 23
        }
      ]
    },
    {
      "cell_type": "code",
      "source": [
        "plt.imshow(images[11])"
      ],
      "metadata": {
        "colab": {
          "base_uri": "https://localhost:8080/",
          "height": 370
        },
        "id": "MaPBy789qDGS",
        "outputId": "957b972b-3913-4681-843f-266c7f154209"
      },
      "execution_count": 26,
      "outputs": [
        {
          "output_type": "execute_result",
          "data": {
            "text/plain": [
              "<matplotlib.image.AxesImage at 0x7f5f8cc7b350>"
            ]
          },
          "metadata": {},
          "execution_count": 26
        },
        {
          "output_type": "display_data",
          "data": {
            "text/plain": [
              "<Figure size 432x288 with 1 Axes>"
            ],
            "image/svg+xml": "<?xml version=\"1.0\" encoding=\"utf-8\" standalone=\"no\"?>\n<!DOCTYPE svg PUBLIC \"-//W3C//DTD SVG 1.1//EN\"\n  \"http://www.w3.org/Graphics/SVG/1.1/DTD/svg11.dtd\">\n<!-- Created with matplotlib (https://matplotlib.org/) -->\n<svg height=\"248.919844pt\" version=\"1.1\" viewBox=\"0 0 251.565 248.919844\" width=\"251.565pt\" xmlns=\"http://www.w3.org/2000/svg\" xmlns:xlink=\"http://www.w3.org/1999/xlink\">\n <defs>\n  <style type=\"text/css\">\n*{stroke-linecap:butt;stroke-linejoin:round;}\n  </style>\n </defs>\n <g id=\"figure_1\">\n  <g id=\"patch_1\">\n   <path d=\"M 0 248.919844 \nL 251.565 248.919844 \nL 251.565 0 \nL 0 0 \nz\n\" style=\"fill:none;\"/>\n  </g>\n  <g id=\"axes_1\">\n   <g id=\"patch_2\">\n    <path d=\"M 26.925 225.041719 \nL 244.365 225.041719 \nL 244.365 7.601719 \nL 26.925 7.601719 \nz\n\" style=\"fill:#ffffff;\"/>\n   </g>\n   <g clip-path=\"url(#paa70853910)\">\n    <image height=\"218\" id=\"imageb669244c43\" transform=\"scale(1 -1)translate(0 -218)\" width=\"218\" x=\"26.925\" xlink:href=\"data:image/png;base64,\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\" y=\"-7.041719\"/>\n   </g>\n   <g id=\"matplotlib.axis_1\">\n    <g id=\"xtick_1\">\n     <g id=\"line2d_1\">\n      <defs>\n       <path d=\"M 0 0 \nL 0 3.5 \n\" id=\"m862b36ae34\" style=\"stroke:#000000;stroke-width:0.8;\"/>\n      </defs>\n      <g>\n       <use style=\"stroke:#000000;stroke-width:0.8;\" x=\"30.3225\" xlink:href=\"#m862b36ae34\" y=\"225.041719\"/>\n      </g>\n     </g>\n     <g id=\"text_1\">\n      <!-- 0 -->\n      <defs>\n       <path d=\"M 31.78125 66.40625 \nQ 24.171875 66.40625 20.328125 58.90625 \nQ 16.5 51.421875 16.5 36.375 \nQ 16.5 21.390625 20.328125 13.890625 \nQ 24.171875 6.390625 31.78125 6.390625 \nQ 39.453125 6.390625 43.28125 13.890625 \nQ 47.125 21.390625 47.125 36.375 \nQ 47.125 51.421875 43.28125 58.90625 \nQ 39.453125 66.40625 31.78125 66.40625 \nz\nM 31.78125 74.21875 \nQ 44.046875 74.21875 50.515625 64.515625 \nQ 56.984375 54.828125 56.984375 36.375 \nQ 56.984375 17.96875 50.515625 8.265625 \nQ 44.046875 -1.421875 31.78125 -1.421875 \nQ 19.53125 -1.421875 13.0625 8.265625 \nQ 6.59375 17.96875 6.59375 36.375 \nQ 6.59375 54.828125 13.0625 64.515625 \nQ 19.53125 74.21875 31.78125 74.21875 \nz\n\" id=\"DejaVuSans-48\"/>\n      </defs>\n      <g transform=\"translate(27.14125 239.640156)scale(0.1 -0.1)\">\n       <use xlink:href=\"#DejaVuSans-48\"/>\n      </g>\n     </g>\n    </g>\n    <g id=\"xtick_2\">\n     <g id=\"line2d_2\">\n      <g>\n       <use style=\"stroke:#000000;stroke-width:0.8;\" x=\"64.2975\" xlink:href=\"#m862b36ae34\" y=\"225.041719\"/>\n      </g>\n     </g>\n     <g id=\"text_2\">\n      <!-- 5 -->\n      <defs>\n       <path d=\"M 10.796875 72.90625 \nL 49.515625 72.90625 \nL 49.515625 64.59375 \nL 19.828125 64.59375 \nL 19.828125 46.734375 \nQ 21.96875 47.46875 24.109375 47.828125 \nQ 26.265625 48.1875 28.421875 48.1875 \nQ 40.625 48.1875 47.75 41.5 \nQ 54.890625 34.8125 54.890625 23.390625 \nQ 54.890625 11.625 47.5625 5.09375 \nQ 40.234375 -1.421875 26.90625 -1.421875 \nQ 22.3125 -1.421875 17.546875 -0.640625 \nQ 12.796875 0.140625 7.71875 1.703125 \nL 7.71875 11.625 \nQ 12.109375 9.234375 16.796875 8.0625 \nQ 21.484375 6.890625 26.703125 6.890625 \nQ 35.15625 6.890625 40.078125 11.328125 \nQ 45.015625 15.765625 45.015625 23.390625 \nQ 45.015625 31 40.078125 35.4375 \nQ 35.15625 39.890625 26.703125 39.890625 \nQ 22.75 39.890625 18.8125 39.015625 \nQ 14.890625 38.140625 10.796875 36.28125 \nz\n\" id=\"DejaVuSans-53\"/>\n      </defs>\n      <g transform=\"translate(61.11625 239.640156)scale(0.1 -0.1)\">\n       <use xlink:href=\"#DejaVuSans-53\"/>\n      </g>\n     </g>\n    </g>\n    <g id=\"xtick_3\">\n     <g id=\"line2d_3\">\n      <g>\n       <use style=\"stroke:#000000;stroke-width:0.8;\" x=\"98.2725\" xlink:href=\"#m862b36ae34\" y=\"225.041719\"/>\n      </g>\n     </g>\n     <g id=\"text_3\">\n      <!-- 10 -->\n      <defs>\n       <path d=\"M 12.40625 8.296875 \nL 28.515625 8.296875 \nL 28.515625 63.921875 \nL 10.984375 60.40625 \nL 10.984375 69.390625 \nL 28.421875 72.90625 \nL 38.28125 72.90625 \nL 38.28125 8.296875 \nL 54.390625 8.296875 \nL 54.390625 0 \nL 12.40625 0 \nz\n\" id=\"DejaVuSans-49\"/>\n      </defs>\n      <g transform=\"translate(91.91 239.640156)scale(0.1 -0.1)\">\n       <use xlink:href=\"#DejaVuSans-49\"/>\n       <use x=\"63.623047\" xlink:href=\"#DejaVuSans-48\"/>\n      </g>\n     </g>\n    </g>\n    <g id=\"xtick_4\">\n     <g id=\"line2d_4\">\n      <g>\n       <use style=\"stroke:#000000;stroke-width:0.8;\" x=\"132.2475\" xlink:href=\"#m862b36ae34\" y=\"225.041719\"/>\n      </g>\n     </g>\n     <g id=\"text_4\">\n      <!-- 15 -->\n      <g transform=\"translate(125.885 239.640156)scale(0.1 -0.1)\">\n       <use xlink:href=\"#DejaVuSans-49\"/>\n       <use x=\"63.623047\" xlink:href=\"#DejaVuSans-53\"/>\n      </g>\n     </g>\n    </g>\n    <g id=\"xtick_5\">\n     <g id=\"line2d_5\">\n      <g>\n       <use style=\"stroke:#000000;stroke-width:0.8;\" x=\"166.2225\" xlink:href=\"#m862b36ae34\" y=\"225.041719\"/>\n      </g>\n     </g>\n     <g id=\"text_5\">\n      <!-- 20 -->\n      <defs>\n       <path d=\"M 19.1875 8.296875 \nL 53.609375 8.296875 \nL 53.609375 0 \nL 7.328125 0 \nL 7.328125 8.296875 \nQ 12.9375 14.109375 22.625 23.890625 \nQ 32.328125 33.6875 34.8125 36.53125 \nQ 39.546875 41.84375 41.421875 45.53125 \nQ 43.3125 49.21875 43.3125 52.78125 \nQ 43.3125 58.59375 39.234375 62.25 \nQ 35.15625 65.921875 28.609375 65.921875 \nQ 23.96875 65.921875 18.8125 64.3125 \nQ 13.671875 62.703125 7.8125 59.421875 \nL 7.8125 69.390625 \nQ 13.765625 71.78125 18.9375 73 \nQ 24.125 74.21875 28.421875 74.21875 \nQ 39.75 74.21875 46.484375 68.546875 \nQ 53.21875 62.890625 53.21875 53.421875 \nQ 53.21875 48.921875 51.53125 44.890625 \nQ 49.859375 40.875 45.40625 35.40625 \nQ 44.1875 33.984375 37.640625 27.21875 \nQ 31.109375 20.453125 19.1875 8.296875 \nz\n\" id=\"DejaVuSans-50\"/>\n      </defs>\n      <g transform=\"translate(159.86 239.640156)scale(0.1 -0.1)\">\n       <use xlink:href=\"#DejaVuSans-50\"/>\n       <use x=\"63.623047\" xlink:href=\"#DejaVuSans-48\"/>\n      </g>\n     </g>\n    </g>\n    <g id=\"xtick_6\">\n     <g id=\"line2d_6\">\n      <g>\n       <use style=\"stroke:#000000;stroke-width:0.8;\" x=\"200.1975\" xlink:href=\"#m862b36ae34\" y=\"225.041719\"/>\n      </g>\n     </g>\n     <g id=\"text_6\">\n      <!-- 25 -->\n      <g transform=\"translate(193.835 239.640156)scale(0.1 -0.1)\">\n       <use xlink:href=\"#DejaVuSans-50\"/>\n       <use x=\"63.623047\" xlink:href=\"#DejaVuSans-53\"/>\n      </g>\n     </g>\n    </g>\n    <g id=\"xtick_7\">\n     <g id=\"line2d_7\">\n      <g>\n       <use style=\"stroke:#000000;stroke-width:0.8;\" x=\"234.1725\" xlink:href=\"#m862b36ae34\" y=\"225.041719\"/>\n      </g>\n     </g>\n     <g id=\"text_7\">\n      <!-- 30 -->\n      <defs>\n       <path d=\"M 40.578125 39.3125 \nQ 47.65625 37.796875 51.625 33 \nQ 55.609375 28.21875 55.609375 21.1875 \nQ 55.609375 10.40625 48.1875 4.484375 \nQ 40.765625 -1.421875 27.09375 -1.421875 \nQ 22.515625 -1.421875 17.65625 -0.515625 \nQ 12.796875 0.390625 7.625 2.203125 \nL 7.625 11.71875 \nQ 11.71875 9.328125 16.59375 8.109375 \nQ 21.484375 6.890625 26.8125 6.890625 \nQ 36.078125 6.890625 40.9375 10.546875 \nQ 45.796875 14.203125 45.796875 21.1875 \nQ 45.796875 27.640625 41.28125 31.265625 \nQ 36.765625 34.90625 28.71875 34.90625 \nL 20.21875 34.90625 \nL 20.21875 43.015625 \nL 29.109375 43.015625 \nQ 36.375 43.015625 40.234375 45.921875 \nQ 44.09375 48.828125 44.09375 54.296875 \nQ 44.09375 59.90625 40.109375 62.90625 \nQ 36.140625 65.921875 28.71875 65.921875 \nQ 24.65625 65.921875 20.015625 65.03125 \nQ 15.375 64.15625 9.8125 62.3125 \nL 9.8125 71.09375 \nQ 15.4375 72.65625 20.34375 73.4375 \nQ 25.25 74.21875 29.59375 74.21875 \nQ 40.828125 74.21875 47.359375 69.109375 \nQ 53.90625 64.015625 53.90625 55.328125 \nQ 53.90625 49.265625 50.4375 45.09375 \nQ 46.96875 40.921875 40.578125 39.3125 \nz\n\" id=\"DejaVuSans-51\"/>\n      </defs>\n      <g transform=\"translate(227.81 239.640156)scale(0.1 -0.1)\">\n       <use xlink:href=\"#DejaVuSans-51\"/>\n       <use x=\"63.623047\" xlink:href=\"#DejaVuSans-48\"/>\n      </g>\n     </g>\n    </g>\n   </g>\n   <g id=\"matplotlib.axis_2\">\n    <g id=\"ytick_1\">\n     <g id=\"line2d_8\">\n      <defs>\n       <path d=\"M 0 0 \nL -3.5 0 \n\" id=\"m4b763fecb0\" style=\"stroke:#000000;stroke-width:0.8;\"/>\n      </defs>\n      <g>\n       <use style=\"stroke:#000000;stroke-width:0.8;\" x=\"26.925\" xlink:href=\"#m4b763fecb0\" y=\"10.999219\"/>\n      </g>\n     </g>\n     <g id=\"text_8\">\n      <!-- 0 -->\n      <g transform=\"translate(13.5625 14.798437)scale(0.1 -0.1)\">\n       <use xlink:href=\"#DejaVuSans-48\"/>\n      </g>\n     </g>\n    </g>\n    <g id=\"ytick_2\">\n     <g id=\"line2d_9\">\n      <g>\n       <use style=\"stroke:#000000;stroke-width:0.8;\" x=\"26.925\" xlink:href=\"#m4b763fecb0\" y=\"44.974219\"/>\n      </g>\n     </g>\n     <g id=\"text_9\">\n      <!-- 5 -->\n      <g transform=\"translate(13.5625 48.773437)scale(0.1 -0.1)\">\n       <use xlink:href=\"#DejaVuSans-53\"/>\n      </g>\n     </g>\n    </g>\n    <g id=\"ytick_3\">\n     <g id=\"line2d_10\">\n      <g>\n       <use style=\"stroke:#000000;stroke-width:0.8;\" x=\"26.925\" xlink:href=\"#m4b763fecb0\" y=\"78.949219\"/>\n      </g>\n     </g>\n     <g id=\"text_10\">\n      <!-- 10 -->\n      <g transform=\"translate(7.2 82.748437)scale(0.1 -0.1)\">\n       <use xlink:href=\"#DejaVuSans-49\"/>\n       <use x=\"63.623047\" xlink:href=\"#DejaVuSans-48\"/>\n      </g>\n     </g>\n    </g>\n    <g id=\"ytick_4\">\n     <g id=\"line2d_11\">\n      <g>\n       <use style=\"stroke:#000000;stroke-width:0.8;\" x=\"26.925\" xlink:href=\"#m4b763fecb0\" y=\"112.924219\"/>\n      </g>\n     </g>\n     <g id=\"text_11\">\n      <!-- 15 -->\n      <g transform=\"translate(7.2 116.723437)scale(0.1 -0.1)\">\n       <use xlink:href=\"#DejaVuSans-49\"/>\n       <use x=\"63.623047\" xlink:href=\"#DejaVuSans-53\"/>\n      </g>\n     </g>\n    </g>\n    <g id=\"ytick_5\">\n     <g id=\"line2d_12\">\n      <g>\n       <use style=\"stroke:#000000;stroke-width:0.8;\" x=\"26.925\" xlink:href=\"#m4b763fecb0\" y=\"146.899219\"/>\n      </g>\n     </g>\n     <g id=\"text_12\">\n      <!-- 20 -->\n      <g transform=\"translate(7.2 150.698437)scale(0.1 -0.1)\">\n       <use xlink:href=\"#DejaVuSans-50\"/>\n       <use x=\"63.623047\" xlink:href=\"#DejaVuSans-48\"/>\n      </g>\n     </g>\n    </g>\n    <g id=\"ytick_6\">\n     <g id=\"line2d_13\">\n      <g>\n       <use style=\"stroke:#000000;stroke-width:0.8;\" x=\"26.925\" xlink:href=\"#m4b763fecb0\" y=\"180.874219\"/>\n      </g>\n     </g>\n     <g id=\"text_13\">\n      <!-- 25 -->\n      <g transform=\"translate(7.2 184.673437)scale(0.1 -0.1)\">\n       <use xlink:href=\"#DejaVuSans-50\"/>\n       <use x=\"63.623047\" xlink:href=\"#DejaVuSans-53\"/>\n      </g>\n     </g>\n    </g>\n    <g id=\"ytick_7\">\n     <g id=\"line2d_14\">\n      <g>\n       <use style=\"stroke:#000000;stroke-width:0.8;\" x=\"26.925\" xlink:href=\"#m4b763fecb0\" y=\"214.849219\"/>\n      </g>\n     </g>\n     <g id=\"text_14\">\n      <!-- 30 -->\n      <g transform=\"translate(7.2 218.648437)scale(0.1 -0.1)\">\n       <use xlink:href=\"#DejaVuSans-51\"/>\n       <use x=\"63.623047\" xlink:href=\"#DejaVuSans-48\"/>\n      </g>\n     </g>\n    </g>\n   </g>\n   <g id=\"patch_3\">\n    <path d=\"M 26.925 225.041719 \nL 26.925 7.601719 \n\" style=\"fill:none;stroke:#000000;stroke-linecap:square;stroke-linejoin:miter;stroke-width:0.8;\"/>\n   </g>\n   <g id=\"patch_4\">\n    <path d=\"M 244.365 225.041719 \nL 244.365 7.601719 \n\" style=\"fill:none;stroke:#000000;stroke-linecap:square;stroke-linejoin:miter;stroke-width:0.8;\"/>\n   </g>\n   <g id=\"patch_5\">\n    <path d=\"M 26.925 225.041719 \nL 244.365 225.041719 \n\" style=\"fill:none;stroke:#000000;stroke-linecap:square;stroke-linejoin:miter;stroke-width:0.8;\"/>\n   </g>\n   <g id=\"patch_6\">\n    <path d=\"M 26.925 7.601719 \nL 244.365 7.601719 \n\" style=\"fill:none;stroke:#000000;stroke-linecap:square;stroke-linejoin:miter;stroke-width:0.8;\"/>\n   </g>\n  </g>\n </g>\n <defs>\n  <clipPath id=\"paa70853910\">\n   <rect height=\"217.44\" width=\"217.44\" x=\"26.925\" y=\"7.601719\"/>\n  </clipPath>\n </defs>\n</svg>\n"
          },
          "metadata": {
            "needs_background": "light"
          }
        }
      ]
    },
    {
      "cell_type": "code",
      "source": [
        ""
      ],
      "metadata": {
        "id": "uQv2INmOrCr4"
      },
      "execution_count": null,
      "outputs": []
    }
  ]
}