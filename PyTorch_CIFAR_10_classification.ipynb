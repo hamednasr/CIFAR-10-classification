{
  "nbformat": 4,
  "nbformat_minor": 0,
  "metadata": {
    "colab": {
      "name": "PyTorch CIFAR 10 classification.ipynb",
      "provenance": [],
      "collapsed_sections": [],
      "authorship_tag": "ABX9TyOE/aBGjsdb6XTNMyjByESt",
      "include_colab_link": true
    },
    "kernelspec": {
      "name": "python3",
      "display_name": "Python 3"
    },
    "language_info": {
      "name": "python"
    }
  },
  "cells": [
    {
      "cell_type": "markdown",
      "metadata": {
        "id": "view-in-github",
        "colab_type": "text"
      },
      "source": [
        "<a href=\"https://colab.research.google.com/github/hamednasr/CIFAR-10-classification/blob/main/PyTorch_CIFAR_10_classification.ipynb\" target=\"_parent\"><img src=\"https://colab.research.google.com/assets/colab-badge.svg\" alt=\"Open In Colab\"/></a>"
      ]
    },
    {
      "cell_type": "markdown",
      "source": [
        "# CIFAR 10 classification using PyTorch"
      ],
      "metadata": {
        "id": "fJfHYXtBYGmk"
      }
    },
    {
      "cell_type": "code",
      "execution_count": 45,
      "metadata": {
        "id": "KhP_klLaKVD3"
      },
      "outputs": [],
      "source": [
        "import torch\n",
        "import torch.nn as nn\n",
        "import torch.nn.functional as F\n",
        "\n",
        "import torchvision\n",
        "import torchvision.transforms as T\n",
        "from torch.utils.data import DataLoader, TensorDataset\n",
        "from sklearn.model_selection import train_test_split\n",
        "\n",
        "import numpy as np\n",
        "import matplotlib.pyplot as plt\n",
        "from IPython import display\n",
        "display.set_matplotlib_formats('svg')"
      ]
    },
    {
      "cell_type": "code",
      "source": [
        "cifar10 = torchvision.datasets.CIFAR10(root = 'cifar10',download=True)\n",
        "cifar10"
      ],
      "metadata": {
        "colab": {
          "base_uri": "https://localhost:8080/"
        },
        "id": "k-arbojHZwZz",
        "outputId": "816d16aa-0966-45fd-cbd7-022632a0d1ca"
      },
      "execution_count": 64,
      "outputs": [
        {
          "output_type": "stream",
          "name": "stdout",
          "text": [
            "Files already downloaded and verified\n"
          ]
        },
        {
          "output_type": "execute_result",
          "data": {
            "text/plain": [
              "Dataset CIFAR10\n",
              "    Number of datapoints: 50000\n",
              "    Root location: cifar10\n",
              "    Split: Train"
            ]
          },
          "metadata": {},
          "execution_count": 64
        }
      ]
    },
    {
      "cell_type": "code",
      "source": [
        "cifar10.data.shape"
      ],
      "metadata": {
        "colab": {
          "base_uri": "https://localhost:8080/"
        },
        "id": "Cuvt3He-pBBl",
        "outputId": "1d584778-ceef-4feb-8dee-7d3ebe6c6278"
      },
      "execution_count": 66,
      "outputs": [
        {
          "output_type": "execute_result",
          "data": {
            "text/plain": [
              "(50000, 32, 32, 3)"
            ]
          },
          "metadata": {},
          "execution_count": 66
        }
      ]
    },
    {
      "cell_type": "code",
      "source": [
        "images = cifar10.data"
      ],
      "metadata": {
        "id": "IP9MQSjvpcsT"
      },
      "execution_count": 67,
      "outputs": []
    },
    {
      "cell_type": "code",
      "source": [
        "labels = cifar10.targets"
      ],
      "metadata": {
        "id": "BcuBg4_AzGxI"
      },
      "execution_count": 69,
      "outputs": []
    },
    {
      "cell_type": "code",
      "source": [
        "images.shape"
      ],
      "metadata": {
        "colab": {
          "base_uri": "https://localhost:8080/"
        },
        "id": "x3-A3toOqz58",
        "outputId": "8cf4e4a2-0c5e-4b36-a0b9-d8c346436e20"
      },
      "execution_count": 70,
      "outputs": [
        {
          "output_type": "execute_result",
          "data": {
            "text/plain": [
              "(50000, 32, 32, 3)"
            ]
          },
          "metadata": {},
          "execution_count": 70
        }
      ]
    },
    {
      "cell_type": "code",
      "source": [
        "len(labels)"
      ],
      "metadata": {
        "colab": {
          "base_uri": "https://localhost:8080/"
        },
        "id": "0MsB3riGzrue",
        "outputId": "cc364c6a-f57c-4a44-f78b-51d084c53f64"
      },
      "execution_count": 74,
      "outputs": [
        {
          "output_type": "execute_result",
          "data": {
            "text/plain": [
              "50000"
            ]
          },
          "metadata": {},
          "execution_count": 74
        }
      ]
    },
    {
      "cell_type": "code",
      "source": [
        "images[1].shape"
      ],
      "metadata": {
        "colab": {
          "base_uri": "https://localhost:8080/"
        },
        "id": "6RK8Sm4wq49x",
        "outputId": "fcb4c46e-93a3-4f67-8393-db6208388b4d"
      },
      "execution_count": 23,
      "outputs": [
        {
          "output_type": "execute_result",
          "data": {
            "text/plain": [
              "(32, 32, 3)"
            ]
          },
          "metadata": {},
          "execution_count": 23
        }
      ]
    },
    {
      "cell_type": "code",
      "source": [
        "plt.imshow(images[1])"
      ],
      "metadata": {
        "colab": {
          "base_uri": "https://localhost:8080/",
          "height": 370
        },
        "id": "MaPBy789qDGS",
        "outputId": "565726cd-015e-4d27-d339-54452e27aa0a"
      },
      "execution_count": 32,
      "outputs": [
        {
          "output_type": "execute_result",
          "data": {
            "text/plain": [
              "<matplotlib.image.AxesImage at 0x7f5f8cbf6e10>"
            ]
          },
          "metadata": {},
          "execution_count": 32
        },
        {
          "output_type": "display_data",
          "data": {
            "text/plain": [
              "<Figure size 432x288 with 1 Axes>"
            ],
            "image/svg+xml": "<?xml version=\"1.0\" encoding=\"utf-8\" standalone=\"no\"?>\n<!DOCTYPE svg PUBLIC \"-//W3C//DTD SVG 1.1//EN\"\n  \"http://www.w3.org/Graphics/SVG/1.1/DTD/svg11.dtd\">\n<!-- Created with matplotlib (https://matplotlib.org/) -->\n<svg height=\"248.919844pt\" version=\"1.1\" viewBox=\"0 0 251.565 248.919844\" width=\"251.565pt\" xmlns=\"http://www.w3.org/2000/svg\" xmlns:xlink=\"http://www.w3.org/1999/xlink\">\n <defs>\n  <style type=\"text/css\">\n*{stroke-linecap:butt;stroke-linejoin:round;}\n  </style>\n </defs>\n <g id=\"figure_1\">\n  <g id=\"patch_1\">\n   <path d=\"M 0 248.919844 \nL 251.565 248.919844 \nL 251.565 0 \nL 0 0 \nz\n\" style=\"fill:none;\"/>\n  </g>\n  <g id=\"axes_1\">\n   <g id=\"patch_2\">\n    <path d=\"M 26.925 225.041719 \nL 244.365 225.041719 \nL 244.365 7.601719 \nL 26.925 7.601719 \nz\n\" style=\"fill:#ffffff;\"/>\n   </g>\n   <g clip-path=\"url(#p1094aa1caa)\">\n    <image height=\"218\" id=\"imagea2f011f9a7\" transform=\"scale(1 -1)translate(0 -218)\" width=\"218\" x=\"26.925\" xlink:href=\"data:image/png;base64,\niVBORw0KGgoAAAANSUhEUgAAANoAAADaCAYAAADAHVzbAAAABHNCSVQICAgIfAhkiAAAFPxJREFUeJztncmPXNd1xs+bauyqnkf2SFLdpElapKXQlGRZlgNFMAJkgLMKkP8jf0g2yTJeZJFkoURJkMBxYluIAkmMJIoSqebUJHuonmueXr33ssj2fHcRGMeb77e8H27Vq1f11QPOPfe73s/+4s8zAcTiI0miQlkdPzvuwzl/9Zc/g1rt8ARqXpSH2u3br6njP3jjdTin0WhArdfD19/pY237xUuoPd3Z0d+r24VzssyDWqE6C7UwyEGtda7f407zHM7BVyESBlgdr5SgtjQ/o45PTi/COXNLFx2vh+/HVFX/nYqI5IIAagHSPDxHMuwXrBBCfmPQaIQYQKMRYgCNRogBNBohBtBohBgQ+rkCFNMU+3AUFdXxZjyEc1678w7UCqH+eiIiufEJqM3MTerjM+NwztwS/lxLS7jEnKRQkk/u3cfv9/ChOh6FIZxzUKtB7eSsCbX19Q2onR8fquOtximc0+3iJY1mA19Hp9uG2sNvn6njQf4IzrkheLngwYOvoRZl+Pd4YQEvC8zNzqvjM7MLcE4hj5cS+EQjxAAajRADaDRCDKDRCDGARiPEABqNEAPCUmUTir0WLo3GmV5unXB0Ur89j98r5+Gu86yIS//5kj4v7ePycquFy9KnjR7UPA//LxWK+jKDiMjRkf5+x0e4nD0zOwe1zc2rUJuewdfRbdbVca+Cl0ImJ/Fyx8QELv0PHOX9eKDvWggLuIR/7foNqH352X9B7dCxq+L5022oTc/o9396Gv++11fxDgM+0QgxgEYjxAAajRADaDRCDKDRCDEg7LRxZbHRwFWl/ZNddTwdduCcIB5BLXV07GaubIdQrzoWyriCtbjhaBwe4ork2a7elCsi8mQX524cHx6o46fHx3DOeBlXAi8srkKtPIabxD850atzWQxjY2ThAr5XxdI01NIEf9e5SG+mDnMRnDNRqUBtbVFvABYRWZ2rQu2Tu59D7dK1m+p4r4N/316Ef6d8ohFiAI1GiAE0GiEG0GiEGECjEWIAjUaIAWGpiMvgcoYjq//1Xz5Ux7MYLwlUS7g5OHaU/vs93Ogbgv+KtfUVOOfWrT+D2vXVJajdPcXZGl854sK3LuvNppPf1+PMRUSOj3FT7n4NLzNcu7EFtd5woI7nApx1USri5YLhEH9mL0ugVvT1JZkgwBkqtV3cHNwEUeciIi9fPIVa4MjLWVrT72Pf0Sy9sogbwflEI8QAGo0QA2g0Qgyg0QgxgEYjxAAajRADwkGMvZYv4CjuN9/8XXV8DkR0i4jMz+knPYqIxHEMtfNzPetCRERAWT1MHa93iF/vyRCXpTs9vMNgYRJ/ttqx3r3/BJwEKiISFHDX+fa3OH78q4ef4es41a9jaQ7vBojKuASeK+GTWLMBvv9joT4vTvG933mGy/RFD7+XOF6z19WXO0REHjzQ80SGA7zbZdDHS1R8ohFiAI1GiAE0GiEG0GiEGECjEWIAjUaIAWHHUeIMwKmeIiKv3b6jjufzOKAkDLCvfR9rc0u4Ez8Q/f1iR5m+N8S7Ep6dOyLBKziopjw4g9rRoX565zc7j+Gczevfg9oowd/Z8eELqKVg3sw0DgLKFXFnf5rhbvtCGWulSC/vD/otOGfwFIfi+IK/z5wjMEdS/F0f7u2o43GMl3g21pahxicaIQbQaIQYQKMRYgCNRogBNBohBtBohBgQTs1OQfGDf/p3qG3vPNFf0Mflz8DzoOY7Sv9ZirPhcwVQfo4cwStLF6D2/vvvQ61SwkFGkwd7ULv46JI6XncEvYxF+ATU5gCH4mSOpYucr9//9975AZzz9Zf4VMz9fX3ZQkRkfALv4ohy+mcrjeHlpInqGNRO9/B1nDsClbIE/65O9r5Vxxcv4J0OP37nNtT4RCPEABqNEANoNEIMoNEIMYBGI8QAGo0QA8IDcOyriMijnWdQ263tq+N+jDuiSyE+OlUcpf/RCIeeiKcvJ1QmcNd54xB3zecFd5DfvIk76g/2cR5+vqh3q29e1sv+IiLDPl4mKYDPLCKS9HB5/9YtPev/O5ubcM6nH3wAtbHGEdTOd/EOg57oOyu6YCeGiEjm4d0A5RCH88zO4JCjII/DhSpl/be67OjQn53AywV8ohFiAI1GiAE0GiEG0GiEGECjEWJAWJlegOKP//BPodZs6I2cv/zHv4NzrlzUT74UEWm3cSZEq4UrgR6oON1593fgnLyjQfXwGT5ZMjfE11HN44ySi6v6SZCvXr8M54xP4mbvchVXy3Z39WqwiMjcjN5MXa7Owjm377wBtbNHH0EtGeJK4GNwYunSVZwN88rVV6A2XsXN3uOTOA+lWMKN5+Og6hgVcGW0VMLN3nyiEWIAjUaIATQaIQbQaIQYQKMRYgCNRogB4WCIG1Q3r1yHWreln3D5qw//Hs5BWREiItMzuNTabDahNgAnS0alCpwzPquX20VEogQ3r/7k/Z9ArVTBeRcdkPGR4j5qGWX4e+mPcBl5ZQ1Hkz9/ppf+Xa/39nvvQm1nEn8vPjiJVURkqqYvJ9z+vdfhnLX1JajFCW46zxfwUkia4CUZL9VfM/Xw5xIPN1LziUaIATQaIQbQaIQYQKMRYgCNRogBNBohBoR/+zd/DcWJ5S2oZYkeZ91u4fLyQQ13xs9MT0Ot18dl5FGql2i37z+Cc6ZP8eud7+Hsjw/zP4ea+DgvogvK+36ElxKevXgOte1Hehy7iMjJ6QnUJsb1XQs//ZM/hnOuXsN5IoUe7qjPp7h7fyu4po4Hk3i9o+c4DdR3PC9Swa+ZOE7vRCfQpgHu3h85roNPNEIMoNEIMYBGI8QAGo0QA2g0Qgyg0QgxIHzv3TehmEQ4xOb8XC+Dz72Pu70dFXAZDIZQu7CMA4QScBpoIcA7BXIp/n9ZXcYBMV/cvw+17UcPoNZs60shKxtrcE4Q4fj0xUV8jW+++RbUllf0+7hxEZ+AmjlS3IeOaPLjA7yUIzl9WWNhHO+qCEL8fUaOKPEowVq3juPT40xfNipO4d0AeEGDTzRCTKDRCDGARiPEABqNEANoNEIMoNEIMSD8oz/AgTPrF3F3dnegZ+VnGQ5KcZXwO47s/WGM56FwntEIl57jGBdiY8d7dbu4HNztvAO1UQpOJZ3CufCV8QmoTVT0YCQRkYIjAClJwWfz8Hc2atWh1urj+3jewDskquBzRwHezSAZ1rIhfl4c1vBuhv3n+LTbrKh3/V8ew6e0nrUdYUVQIYT8xqDRCDGARiPEABqNEANoNEIMCFsNnPHhJbiqVMqBZk1H82exhE9mnJyahJrv4dyHNNObitMEVx0FzBER8UBWhIjI0HE/cgGed3KuV746/R6cM3Jcv+fI4xjGOOYafWqUjyEikgqu9rVaOB7b8/HvoFDUm9V9x5wkxc3BfoAbfZstHNP9/AXOh9m6pVcXPR/fj0arATU+0QgxgEYjxAAajRADaDRCDKDRCDGARiPEgLDXwc287T4ujfZ6eg5GebwK5zgK7s4Sfi7AwRVBqP9X+NH/L545BQ3AIiJh4njNDGseOL2zXcdLK8VcGWpBHt+rzHccI+rppenMc4S5BFgLRniZYeSI4kZLQJmPS/gDHy9bJCH+zjoFx6me8/iU1tmL8+r4ucMTXccRrnyiEWIAjUaIATQaIQbQaIQYQKMRYgCNRogB4d17D6F4PsJd0ft7e+r4haUpOGfzFZy3sDCL46DTEc7xaJzomRaDGOd7eI4S+FgZl9XHxvDSRRDhe5XP62XkJ49fwDkLc6tQW9+chVrs6Oz3PL18niS4BJ46ll0Cxy4I33GPc0X9fgSOzvh0iHNNUkd5vzKNd4zcnLsOte5I/2xeroLn9PUlLxE+0QgxgUYjxAAajRADaDRCDKDRCDGARiPEgPCXH9+F4tf7uFx5Xj9Xx9dW9K5nEZFaHYfRjBVwJ3Xg4f+DTlMv7/e7OCilWMYl362rV6C2sobDY/wIl9XbTX2poVjGZfr/uf8cao/3cajMq6/iGPepCX15InKU1eMEl/CTGJfcPUf3vh/p75c6YtyzvmOHQR7PyztOTo1BCV9EJFfUI9kPT3Ds90e//hRqfKIRYgCNRogBNBohBtBohBhAoxFiAI1GiAGhKyt/5MhCb4DY9ZcNXDJtP8WnRw77uGTdbbagFoEqcqWMu+lnF/FJmyePcGDObBOXrJN2DWq9k1N1/Kt7j+GcB0/xaZQL8/j6V1bx8kp1rKCO5328tOLhxn7pd/AOiTTBOy5Qhk3sCEbyHWcAnJ7gZagsxPOqU3h5ZWdXX7768MN/g3OOT5i9T8hvFRqNEANoNEIMoNEIMYBGI8SA0MtwWSkCzZ8iIqWKnp3gBbhSWaniPJE4h6OWx8fwaaC9tl5xGjjiqmvnuFrW8PD1D/K4Gbl7iCtO2ZleNX36fB/OOWziStrC8iLUAkcV2ff1inDg+L/NHCeI1s/0ypyISKHkyBoBv6t2Dzedt1u4gTkq4d+Vl9ebg0VEvniAG7fvf/OVOj5M8f2YnZ+BGp9ohBhAoxFiAI1GiAE0GiEG0GiEGECjEWJAePDiGRSnN3BkcqGgR2fPV8fgnBlHtkPfEfs96OBSfT7SY65bCV4uyEZYCx3zuk2cF3F0CrqsRaTS10vTOcfySebje9VzlMEd1WfxwYmfgeOkzdRR3vcSfI1jZVxWz3z9/33oeL3qLG6WPmvia/zs43tQa/fwb84L9XsyVnWcxOrIXuETjRADaDRCDKDRCDGARiPEABqNEANoNEIMCLttnJER4wZsmZjQT+gsO+aUQuzrSI+zEBGR+i7ODBmmejZIK8Ol21wZZ2RMRbhDPxCcQ5Jmjq75VC/vt09x9/6w04Fa0sMnj3pDXOr2M/2zZYHjpM0Ed83HHXyPe22shXl950dlcgHOeQkyPERE/uGfcY5H7QDPW13bgFri6Z/bC/BvuA7i6UX4RCPEBBqNEANoNEIMoNEIMYBGI8QAGo0QA8K5FRwoUqvhyOo03tHnDB2nNib4NMqtzWWojV9fhdqLA72TvXGIy8vJCP+/BB4u4Ueh41TSvCNWe6i/X7txAuf4jnChdIhL/77nWF9Bp3A6/m7bfbxjYWf/JdS2ZnCgUir6Do+v7j+Fcz757Auo7e3hZZJchL+XoyM8rzCm/w6Oj4/hnI5jSYZPNEIMoNEIMYBGI8QAGo0QA2g0Qgyg0QgxILzzw/eg+PGXuLz/bPuBOp60cInz6bOvofZoG+fJX7+KQ4Jqx3p5/+QYX8fsAg56SRJ8mmbJkWtfruBlAW+gd8eHAS7Fr07h8vjG6gWoNZq4W317W79XN757Dc4pTuDdDFe+fxNqF7ewdniqL718dQ+X9xvneAfHeBV/Z6eneHdK70w/iVVEZP3yZXW8WsXfy2iET7vlE40QA2g0Qgyg0QgxgEYjxAAajRADaDRCDAgvXboNxfM2zk8ftPSSdWkVZ9c3Orj0/O3THahtP8Zl33pLP4K23sNZ+GE+gtrMvB46JCKysHoRaivrr2KtoOe4r67hXQnrG7iEPz2/BLXDoxrUbty4qo47ovfFy+EljWt33oDavYcvoLa9p2uDFg4WKpVwIFGa4QChThcfUVyd0EOCRERykf654yHeVVEu4Vx+PtEIMYBGI8QAGo0QA2g0Qgyg0QgxIKyf4dyKagVXehbX9TjlZIQbNasRbhxOBjhPpOdoVF4DJ2P2Bjjrot7CWquDq1S9VgNqe48/h9oA5J2vg3soIrKwhBuf1zbwvM2tTahNT+vNt2GIm5tfHuCMjM/+G3/mVoL/ww/O9Obm3jGumCaJo6l4ElcPKxVcCQwjXH3udLrq+HCIK5x5R24Mn2iEGECjEWIAjUaIATQaIQbQaIQYQKMRYkDY7R5CcayMm4q3tvRS/dLCd+CcRhs3+p6d4rL63j6+xgjkbkSg7C8iMhjhuPBuH2sbl3BZ/aj2BGp3P/pYHV9fxs3Bb739I6gtLuIY9yjCp3cGoIyfOrIuGk3cJJ6GOKujWMal82JdX1KKHE2+3Q5u5vUcMejlCn7No6MjqPX6+jOoWsVLXqUSzlfhE40QA2g0Qgyg0QgxgEYjxAAajRADaDRCDAgHA1w2HfNxx7QM9O7mjSouWa/c/C7UWiPcFb29uwu1Zle/jna9Duec1vEOg4MazjXpODq3yzMLUGsO9CWDygQuFW86OvTjEV4KyQTnbhy81MvqdUfc9s7jA/xeAb7+owOcGZLz9eWEUYT/9/2c45TWPA49GaX4fgwcp6qGoV6qbzl2fuRy+Dr4RCPEABqNEANoNEIMoNEIMYBGI8QAGo0QA8K8I8Z4FOshKiIizTM9tOWTT+/COU9e4i781ctrUNu6uAK1CEQ3i6N0G4/wLoLaAS79d7t4R0Ds467/Sf+n6vjNq1fgnCzBXfNxjLUTxymW9boecpTL6eFBIiLfu4WXZH710c+h1nGUwYNA7+wPfLzzIMG3Xo6P8amey8s4EGp6Cu+CaLf073MwwPe+XsfhTXyiEWIAjUaIATQaIQbQaIQYQKMRYgCNRogBYVjAeeFZhkvWg6Fe+l+cwSXTlmOnwOdf3IfapuP0zgLo+B60cBf+7DTuOr+ysAy18fFZqMUh7hL//bdeV8cjnIkjforFfozDaKpVHJizMK+XugsFHCrzi1/8J9ROjvegViricJ5WU99xMV6dhHMCD/+uXoJTX0VEmuC9RETyjpNfg1D/7YchfjaNHDtQ+EQjxAAajRADaDRCDKDRCDGARiPEgFAcpx7mUqyVSnoz72ENV6KW1q9CzQ9wdDPKb/g/9ErPo0fbcMav/wPHd89PTEFtdeUy1FYcTdFLF/RK5twcPtUzivJQK5bHoJZLcOVrBKLQz+s4GvvJ02+gFse42heEuGqKqn3NJs4u6fVxg7sIaCwXEc+h+Y4m5slJvTKdpri7eTjAn5lPNEIMoNEIMYBGI8QAGo0QA2g0Qgyg0QgxIKxO4nL27sNnUDs51vM/kgRnVng+LlmvXsKl/9R3nKRY1Eu0hclpfB2neAli7wSXumuHOJvi4ZNvoRaCpt3bb/0Qzrm8ifNE+g18HV/f/xxqaaqX94cxbtre38e/gVzoOFV16Mg8GerR2eenuAG43cXXOEocze9lvNxRKuGslHikLzWUSrgJ3/dY3ifktwqNRogBNBohBtBohBhAoxFiAI1GiAH/C95/5IoXnsCwAAAAAElFTkSuQmCC\" y=\"-7.041719\"/>\n   </g>\n   <g id=\"matplotlib.axis_1\">\n    <g id=\"xtick_1\">\n     <g id=\"line2d_1\">\n      <defs>\n       <path d=\"M 0 0 \nL 0 3.5 \n\" id=\"mb4e00c6ab9\" style=\"stroke:#000000;stroke-width:0.8;\"/>\n      </defs>\n      <g>\n       <use style=\"stroke:#000000;stroke-width:0.8;\" x=\"30.3225\" xlink:href=\"#mb4e00c6ab9\" y=\"225.041719\"/>\n      </g>\n     </g>\n     <g id=\"text_1\">\n      <!-- 0 -->\n      <defs>\n       <path d=\"M 31.78125 66.40625 \nQ 24.171875 66.40625 20.328125 58.90625 \nQ 16.5 51.421875 16.5 36.375 \nQ 16.5 21.390625 20.328125 13.890625 \nQ 24.171875 6.390625 31.78125 6.390625 \nQ 39.453125 6.390625 43.28125 13.890625 \nQ 47.125 21.390625 47.125 36.375 \nQ 47.125 51.421875 43.28125 58.90625 \nQ 39.453125 66.40625 31.78125 66.40625 \nz\nM 31.78125 74.21875 \nQ 44.046875 74.21875 50.515625 64.515625 \nQ 56.984375 54.828125 56.984375 36.375 \nQ 56.984375 17.96875 50.515625 8.265625 \nQ 44.046875 -1.421875 31.78125 -1.421875 \nQ 19.53125 -1.421875 13.0625 8.265625 \nQ 6.59375 17.96875 6.59375 36.375 \nQ 6.59375 54.828125 13.0625 64.515625 \nQ 19.53125 74.21875 31.78125 74.21875 \nz\n\" id=\"DejaVuSans-48\"/>\n      </defs>\n      <g transform=\"translate(27.14125 239.640156)scale(0.1 -0.1)\">\n       <use xlink:href=\"#DejaVuSans-48\"/>\n      </g>\n     </g>\n    </g>\n    <g id=\"xtick_2\">\n     <g id=\"line2d_2\">\n      <g>\n       <use style=\"stroke:#000000;stroke-width:0.8;\" x=\"64.2975\" xlink:href=\"#mb4e00c6ab9\" y=\"225.041719\"/>\n      </g>\n     </g>\n     <g id=\"text_2\">\n      <!-- 5 -->\n      <defs>\n       <path d=\"M 10.796875 72.90625 \nL 49.515625 72.90625 \nL 49.515625 64.59375 \nL 19.828125 64.59375 \nL 19.828125 46.734375 \nQ 21.96875 47.46875 24.109375 47.828125 \nQ 26.265625 48.1875 28.421875 48.1875 \nQ 40.625 48.1875 47.75 41.5 \nQ 54.890625 34.8125 54.890625 23.390625 \nQ 54.890625 11.625 47.5625 5.09375 \nQ 40.234375 -1.421875 26.90625 -1.421875 \nQ 22.3125 -1.421875 17.546875 -0.640625 \nQ 12.796875 0.140625 7.71875 1.703125 \nL 7.71875 11.625 \nQ 12.109375 9.234375 16.796875 8.0625 \nQ 21.484375 6.890625 26.703125 6.890625 \nQ 35.15625 6.890625 40.078125 11.328125 \nQ 45.015625 15.765625 45.015625 23.390625 \nQ 45.015625 31 40.078125 35.4375 \nQ 35.15625 39.890625 26.703125 39.890625 \nQ 22.75 39.890625 18.8125 39.015625 \nQ 14.890625 38.140625 10.796875 36.28125 \nz\n\" id=\"DejaVuSans-53\"/>\n      </defs>\n      <g transform=\"translate(61.11625 239.640156)scale(0.1 -0.1)\">\n       <use xlink:href=\"#DejaVuSans-53\"/>\n      </g>\n     </g>\n    </g>\n    <g id=\"xtick_3\">\n     <g id=\"line2d_3\">\n      <g>\n       <use style=\"stroke:#000000;stroke-width:0.8;\" x=\"98.2725\" xlink:href=\"#mb4e00c6ab9\" y=\"225.041719\"/>\n      </g>\n     </g>\n     <g id=\"text_3\">\n      <!-- 10 -->\n      <defs>\n       <path d=\"M 12.40625 8.296875 \nL 28.515625 8.296875 \nL 28.515625 63.921875 \nL 10.984375 60.40625 \nL 10.984375 69.390625 \nL 28.421875 72.90625 \nL 38.28125 72.90625 \nL 38.28125 8.296875 \nL 54.390625 8.296875 \nL 54.390625 0 \nL 12.40625 0 \nz\n\" id=\"DejaVuSans-49\"/>\n      </defs>\n      <g transform=\"translate(91.91 239.640156)scale(0.1 -0.1)\">\n       <use xlink:href=\"#DejaVuSans-49\"/>\n       <use x=\"63.623047\" xlink:href=\"#DejaVuSans-48\"/>\n      </g>\n     </g>\n    </g>\n    <g id=\"xtick_4\">\n     <g id=\"line2d_4\">\n      <g>\n       <use style=\"stroke:#000000;stroke-width:0.8;\" x=\"132.2475\" xlink:href=\"#mb4e00c6ab9\" y=\"225.041719\"/>\n      </g>\n     </g>\n     <g id=\"text_4\">\n      <!-- 15 -->\n      <g transform=\"translate(125.885 239.640156)scale(0.1 -0.1)\">\n       <use xlink:href=\"#DejaVuSans-49\"/>\n       <use x=\"63.623047\" xlink:href=\"#DejaVuSans-53\"/>\n      </g>\n     </g>\n    </g>\n    <g id=\"xtick_5\">\n     <g id=\"line2d_5\">\n      <g>\n       <use style=\"stroke:#000000;stroke-width:0.8;\" x=\"166.2225\" xlink:href=\"#mb4e00c6ab9\" y=\"225.041719\"/>\n      </g>\n     </g>\n     <g id=\"text_5\">\n      <!-- 20 -->\n      <defs>\n       <path d=\"M 19.1875 8.296875 \nL 53.609375 8.296875 \nL 53.609375 0 \nL 7.328125 0 \nL 7.328125 8.296875 \nQ 12.9375 14.109375 22.625 23.890625 \nQ 32.328125 33.6875 34.8125 36.53125 \nQ 39.546875 41.84375 41.421875 45.53125 \nQ 43.3125 49.21875 43.3125 52.78125 \nQ 43.3125 58.59375 39.234375 62.25 \nQ 35.15625 65.921875 28.609375 65.921875 \nQ 23.96875 65.921875 18.8125 64.3125 \nQ 13.671875 62.703125 7.8125 59.421875 \nL 7.8125 69.390625 \nQ 13.765625 71.78125 18.9375 73 \nQ 24.125 74.21875 28.421875 74.21875 \nQ 39.75 74.21875 46.484375 68.546875 \nQ 53.21875 62.890625 53.21875 53.421875 \nQ 53.21875 48.921875 51.53125 44.890625 \nQ 49.859375 40.875 45.40625 35.40625 \nQ 44.1875 33.984375 37.640625 27.21875 \nQ 31.109375 20.453125 19.1875 8.296875 \nz\n\" id=\"DejaVuSans-50\"/>\n      </defs>\n      <g transform=\"translate(159.86 239.640156)scale(0.1 -0.1)\">\n       <use xlink:href=\"#DejaVuSans-50\"/>\n       <use x=\"63.623047\" xlink:href=\"#DejaVuSans-48\"/>\n      </g>\n     </g>\n    </g>\n    <g id=\"xtick_6\">\n     <g id=\"line2d_6\">\n      <g>\n       <use style=\"stroke:#000000;stroke-width:0.8;\" x=\"200.1975\" xlink:href=\"#mb4e00c6ab9\" y=\"225.041719\"/>\n      </g>\n     </g>\n     <g id=\"text_6\">\n      <!-- 25 -->\n      <g transform=\"translate(193.835 239.640156)scale(0.1 -0.1)\">\n       <use xlink:href=\"#DejaVuSans-50\"/>\n       <use x=\"63.623047\" xlink:href=\"#DejaVuSans-53\"/>\n      </g>\n     </g>\n    </g>\n    <g id=\"xtick_7\">\n     <g id=\"line2d_7\">\n      <g>\n       <use style=\"stroke:#000000;stroke-width:0.8;\" x=\"234.1725\" xlink:href=\"#mb4e00c6ab9\" y=\"225.041719\"/>\n      </g>\n     </g>\n     <g id=\"text_7\">\n      <!-- 30 -->\n      <defs>\n       <path d=\"M 40.578125 39.3125 \nQ 47.65625 37.796875 51.625 33 \nQ 55.609375 28.21875 55.609375 21.1875 \nQ 55.609375 10.40625 48.1875 4.484375 \nQ 40.765625 -1.421875 27.09375 -1.421875 \nQ 22.515625 -1.421875 17.65625 -0.515625 \nQ 12.796875 0.390625 7.625 2.203125 \nL 7.625 11.71875 \nQ 11.71875 9.328125 16.59375 8.109375 \nQ 21.484375 6.890625 26.8125 6.890625 \nQ 36.078125 6.890625 40.9375 10.546875 \nQ 45.796875 14.203125 45.796875 21.1875 \nQ 45.796875 27.640625 41.28125 31.265625 \nQ 36.765625 34.90625 28.71875 34.90625 \nL 20.21875 34.90625 \nL 20.21875 43.015625 \nL 29.109375 43.015625 \nQ 36.375 43.015625 40.234375 45.921875 \nQ 44.09375 48.828125 44.09375 54.296875 \nQ 44.09375 59.90625 40.109375 62.90625 \nQ 36.140625 65.921875 28.71875 65.921875 \nQ 24.65625 65.921875 20.015625 65.03125 \nQ 15.375 64.15625 9.8125 62.3125 \nL 9.8125 71.09375 \nQ 15.4375 72.65625 20.34375 73.4375 \nQ 25.25 74.21875 29.59375 74.21875 \nQ 40.828125 74.21875 47.359375 69.109375 \nQ 53.90625 64.015625 53.90625 55.328125 \nQ 53.90625 49.265625 50.4375 45.09375 \nQ 46.96875 40.921875 40.578125 39.3125 \nz\n\" id=\"DejaVuSans-51\"/>\n      </defs>\n      <g transform=\"translate(227.81 239.640156)scale(0.1 -0.1)\">\n       <use xlink:href=\"#DejaVuSans-51\"/>\n       <use x=\"63.623047\" xlink:href=\"#DejaVuSans-48\"/>\n      </g>\n     </g>\n    </g>\n   </g>\n   <g id=\"matplotlib.axis_2\">\n    <g id=\"ytick_1\">\n     <g id=\"line2d_8\">\n      <defs>\n       <path d=\"M 0 0 \nL -3.5 0 \n\" id=\"m65798bb032\" style=\"stroke:#000000;stroke-width:0.8;\"/>\n      </defs>\n      <g>\n       <use style=\"stroke:#000000;stroke-width:0.8;\" x=\"26.925\" xlink:href=\"#m65798bb032\" y=\"10.999219\"/>\n      </g>\n     </g>\n     <g id=\"text_8\">\n      <!-- 0 -->\n      <g transform=\"translate(13.5625 14.798437)scale(0.1 -0.1)\">\n       <use xlink:href=\"#DejaVuSans-48\"/>\n      </g>\n     </g>\n    </g>\n    <g id=\"ytick_2\">\n     <g id=\"line2d_9\">\n      <g>\n       <use style=\"stroke:#000000;stroke-width:0.8;\" x=\"26.925\" xlink:href=\"#m65798bb032\" y=\"44.974219\"/>\n      </g>\n     </g>\n     <g id=\"text_9\">\n      <!-- 5 -->\n      <g transform=\"translate(13.5625 48.773437)scale(0.1 -0.1)\">\n       <use xlink:href=\"#DejaVuSans-53\"/>\n      </g>\n     </g>\n    </g>\n    <g id=\"ytick_3\">\n     <g id=\"line2d_10\">\n      <g>\n       <use style=\"stroke:#000000;stroke-width:0.8;\" x=\"26.925\" xlink:href=\"#m65798bb032\" y=\"78.949219\"/>\n      </g>\n     </g>\n     <g id=\"text_10\">\n      <!-- 10 -->\n      <g transform=\"translate(7.2 82.748437)scale(0.1 -0.1)\">\n       <use xlink:href=\"#DejaVuSans-49\"/>\n       <use x=\"63.623047\" xlink:href=\"#DejaVuSans-48\"/>\n      </g>\n     </g>\n    </g>\n    <g id=\"ytick_4\">\n     <g id=\"line2d_11\">\n      <g>\n       <use style=\"stroke:#000000;stroke-width:0.8;\" x=\"26.925\" xlink:href=\"#m65798bb032\" y=\"112.924219\"/>\n      </g>\n     </g>\n     <g id=\"text_11\">\n      <!-- 15 -->\n      <g transform=\"translate(7.2 116.723437)scale(0.1 -0.1)\">\n       <use xlink:href=\"#DejaVuSans-49\"/>\n       <use x=\"63.623047\" xlink:href=\"#DejaVuSans-53\"/>\n      </g>\n     </g>\n    </g>\n    <g id=\"ytick_5\">\n     <g id=\"line2d_12\">\n      <g>\n       <use style=\"stroke:#000000;stroke-width:0.8;\" x=\"26.925\" xlink:href=\"#m65798bb032\" y=\"146.899219\"/>\n      </g>\n     </g>\n     <g id=\"text_12\">\n      <!-- 20 -->\n      <g transform=\"translate(7.2 150.698437)scale(0.1 -0.1)\">\n       <use xlink:href=\"#DejaVuSans-50\"/>\n       <use x=\"63.623047\" xlink:href=\"#DejaVuSans-48\"/>\n      </g>\n     </g>\n    </g>\n    <g id=\"ytick_6\">\n     <g id=\"line2d_13\">\n      <g>\n       <use style=\"stroke:#000000;stroke-width:0.8;\" x=\"26.925\" xlink:href=\"#m65798bb032\" y=\"180.874219\"/>\n      </g>\n     </g>\n     <g id=\"text_13\">\n      <!-- 25 -->\n      <g transform=\"translate(7.2 184.673437)scale(0.1 -0.1)\">\n       <use xlink:href=\"#DejaVuSans-50\"/>\n       <use x=\"63.623047\" xlink:href=\"#DejaVuSans-53\"/>\n      </g>\n     </g>\n    </g>\n    <g id=\"ytick_7\">\n     <g id=\"line2d_14\">\n      <g>\n       <use style=\"stroke:#000000;stroke-width:0.8;\" x=\"26.925\" xlink:href=\"#m65798bb032\" y=\"214.849219\"/>\n      </g>\n     </g>\n     <g id=\"text_14\">\n      <!-- 30 -->\n      <g transform=\"translate(7.2 218.648437)scale(0.1 -0.1)\">\n       <use xlink:href=\"#DejaVuSans-51\"/>\n       <use x=\"63.623047\" xlink:href=\"#DejaVuSans-48\"/>\n      </g>\n     </g>\n    </g>\n   </g>\n   <g id=\"patch_3\">\n    <path d=\"M 26.925 225.041719 \nL 26.925 7.601719 \n\" style=\"fill:none;stroke:#000000;stroke-linecap:square;stroke-linejoin:miter;stroke-width:0.8;\"/>\n   </g>\n   <g id=\"patch_4\">\n    <path d=\"M 244.365 225.041719 \nL 244.365 7.601719 \n\" style=\"fill:none;stroke:#000000;stroke-linecap:square;stroke-linejoin:miter;stroke-width:0.8;\"/>\n   </g>\n   <g id=\"patch_5\">\n    <path d=\"M 26.925 225.041719 \nL 244.365 225.041719 \n\" style=\"fill:none;stroke:#000000;stroke-linecap:square;stroke-linejoin:miter;stroke-width:0.8;\"/>\n   </g>\n   <g id=\"patch_6\">\n    <path d=\"M 26.925 7.601719 \nL 244.365 7.601719 \n\" style=\"fill:none;stroke:#000000;stroke-linecap:square;stroke-linejoin:miter;stroke-width:0.8;\"/>\n   </g>\n  </g>\n </g>\n <defs>\n  <clipPath id=\"p1094aa1caa\">\n   <rect height=\"217.44\" width=\"217.44\" x=\"26.925\" y=\"7.601719\"/>\n  </clipPath>\n </defs>\n</svg>\n"
          },
          "metadata": {
            "needs_background": "light"
          }
        }
      ]
    },
    {
      "cell_type": "code",
      "source": [
        ""
      ],
      "metadata": {
        "id": "uQv2INmOrCr4"
      },
      "execution_count": 33,
      "outputs": []
    },
    {
      "cell_type": "markdown",
      "source": [
        "# data preparation for pytorch"
      ],
      "metadata": {
        "id": "myzFh-YcvvGb"
      }
    },
    {
      "cell_type": "code",
      "source": [
        "images = images.reshape(images.shape[0],3,32,32)"
      ],
      "metadata": {
        "id": "QL_mkf9Uv1u6"
      },
      "execution_count": 75,
      "outputs": []
    },
    {
      "cell_type": "code",
      "source": [
        "imagesT = torch.tensor(images).float() "
      ],
      "metadata": {
        "id": "KKWcIGBuv1sv"
      },
      "execution_count": 76,
      "outputs": []
    },
    {
      "cell_type": "code",
      "source": [
        "labelsT = torch.tensor(labels).long()"
      ],
      "metadata": {
        "id": "ec8T6vOwv1pD"
      },
      "execution_count": 77,
      "outputs": []
    },
    {
      "cell_type": "code",
      "source": [
        "imagesT.shape"
      ],
      "metadata": {
        "colab": {
          "base_uri": "https://localhost:8080/"
        },
        "id": "sJ0lUq6jws9C",
        "outputId": "c9e35a7b-0fc0-4ccf-b65f-851b88ed7488"
      },
      "execution_count": 78,
      "outputs": [
        {
          "output_type": "execute_result",
          "data": {
            "text/plain": [
              "torch.Size([50000, 3, 32, 32])"
            ]
          },
          "metadata": {},
          "execution_count": 78
        }
      ]
    },
    {
      "cell_type": "code",
      "source": [
        "labelsT"
      ],
      "metadata": {
        "colab": {
          "base_uri": "https://localhost:8080/"
        },
        "id": "TsSk2ED6v1kJ",
        "outputId": "61c4980b-8f0e-49a8-fd88-27c16dbd4a27"
      },
      "execution_count": 79,
      "outputs": [
        {
          "output_type": "execute_result",
          "data": {
            "text/plain": [
              "tensor([6, 9, 9,  ..., 9, 1, 1])"
            ]
          },
          "metadata": {},
          "execution_count": 79
        }
      ]
    },
    {
      "cell_type": "code",
      "source": [
        "traindata,testdata,trainlabel,testlabel=train_test_split(imagesT,labelsT,test_size=.1)"
      ],
      "metadata": {
        "id": "pRJCCWOWv1fg"
      },
      "execution_count": 80,
      "outputs": []
    },
    {
      "cell_type": "code",
      "source": [
        "trainset = TensorDataset(traindata,trainlabel)"
      ],
      "metadata": {
        "id": "27y634GWvqgM"
      },
      "execution_count": 81,
      "outputs": []
    },
    {
      "cell_type": "code",
      "source": [
        "testset = TensorDataset(testdata,testlabel)"
      ],
      "metadata": {
        "id": "xWZHsXjHxgUx"
      },
      "execution_count": 82,
      "outputs": []
    },
    {
      "cell_type": "code",
      "source": [
        "trainloader = DataLoader(trainset,batch_size=32,shuffle=True,drop_last=True)"
      ],
      "metadata": {
        "id": "54ETrDbfxp_4"
      },
      "execution_count": 83,
      "outputs": []
    },
    {
      "cell_type": "code",
      "source": [
        "testloader = DataLoader(testset,batch_size=testset.tensors[1].shape[0])"
      ],
      "metadata": {
        "id": "8pbPtQLPyNTI"
      },
      "execution_count": 91,
      "outputs": []
    },
    {
      "cell_type": "code",
      "source": [
        ""
      ],
      "metadata": {
        "id": "wDgnpPH_0Ulb"
      },
      "execution_count": null,
      "outputs": []
    }
  ]
}