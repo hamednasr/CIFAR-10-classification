{
  "nbformat": 4,
  "nbformat_minor": 0,
  "metadata": {
    "colab": {
      "name": "PyTorch CIFAR 10 classification.ipynb",
      "provenance": [],
      "collapsed_sections": [],
      "authorship_tag": "ABX9TyNww3+W5Yva/A4/BwTPQy2m",
      "include_colab_link": true
    },
    "kernelspec": {
      "name": "python3",
      "display_name": "Python 3"
    },
    "language_info": {
      "name": "python"
    },
    "accelerator": "GPU",
    "widgets": {
      "application/vnd.jupyter.widget-state+json": {
        "26666d5024d140a8b328ac57dedc80bf": {
          "model_module": "@jupyter-widgets/controls",
          "model_name": "HBoxModel",
          "model_module_version": "1.5.0",
          "state": {
            "_view_name": "HBoxView",
            "_dom_classes": [],
            "_model_name": "HBoxModel",
            "_view_module": "@jupyter-widgets/controls",
            "_model_module_version": "1.5.0",
            "_view_count": null,
            "_view_module_version": "1.5.0",
            "box_style": "",
            "layout": "IPY_MODEL_ea78492c23da4bc581bba1bdbaeace67",
            "_model_module": "@jupyter-widgets/controls",
            "children": [
              "IPY_MODEL_ba9126861ee544c59f3289bc91c82c65",
              "IPY_MODEL_78a4557c78a344b2af57a9a170f2eba7",
              "IPY_MODEL_ee9b98949ed7449e9321e7757b35a415"
            ]
          }
        },
        "ea78492c23da4bc581bba1bdbaeace67": {
          "model_module": "@jupyter-widgets/base",
          "model_name": "LayoutModel",
          "model_module_version": "1.2.0",
          "state": {
            "_view_name": "LayoutView",
            "grid_template_rows": null,
            "right": null,
            "justify_content": null,
            "_view_module": "@jupyter-widgets/base",
            "overflow": null,
            "_model_module_version": "1.2.0",
            "_view_count": null,
            "flex_flow": null,
            "width": null,
            "min_width": null,
            "border": null,
            "align_items": null,
            "bottom": null,
            "_model_module": "@jupyter-widgets/base",
            "top": null,
            "grid_column": null,
            "overflow_y": null,
            "overflow_x": null,
            "grid_auto_flow": null,
            "grid_area": null,
            "grid_template_columns": null,
            "flex": null,
            "_model_name": "LayoutModel",
            "justify_items": null,
            "grid_row": null,
            "max_height": null,
            "align_content": null,
            "visibility": null,
            "align_self": null,
            "height": null,
            "min_height": null,
            "padding": null,
            "grid_auto_rows": null,
            "grid_gap": null,
            "max_width": null,
            "order": null,
            "_view_module_version": "1.2.0",
            "grid_template_areas": null,
            "object_position": null,
            "object_fit": null,
            "grid_auto_columns": null,
            "margin": null,
            "display": null,
            "left": null
          }
        },
        "ba9126861ee544c59f3289bc91c82c65": {
          "model_module": "@jupyter-widgets/controls",
          "model_name": "HTMLModel",
          "model_module_version": "1.5.0",
          "state": {
            "_view_name": "HTMLView",
            "style": "IPY_MODEL_badfcd1686874533ac97f341dd49c1ec",
            "_dom_classes": [],
            "description": "",
            "_model_name": "HTMLModel",
            "placeholder": "​",
            "_view_module": "@jupyter-widgets/controls",
            "_model_module_version": "1.5.0",
            "value": "",
            "_view_count": null,
            "_view_module_version": "1.5.0",
            "description_tooltip": null,
            "_model_module": "@jupyter-widgets/controls",
            "layout": "IPY_MODEL_dd20cfd25da84729a8f8dd8fc21db343"
          }
        },
        "78a4557c78a344b2af57a9a170f2eba7": {
          "model_module": "@jupyter-widgets/controls",
          "model_name": "FloatProgressModel",
          "model_module_version": "1.5.0",
          "state": {
            "_view_name": "ProgressView",
            "style": "IPY_MODEL_5315c76896534943bd6b2a116673796b",
            "_dom_classes": [],
            "description": "",
            "_model_name": "FloatProgressModel",
            "bar_style": "success",
            "max": 170498071,
            "_view_module": "@jupyter-widgets/controls",
            "_model_module_version": "1.5.0",
            "value": 170498071,
            "_view_count": null,
            "_view_module_version": "1.5.0",
            "orientation": "horizontal",
            "min": 0,
            "description_tooltip": null,
            "_model_module": "@jupyter-widgets/controls",
            "layout": "IPY_MODEL_64cfdf3dca00444e829e5e39d8f26cc1"
          }
        },
        "ee9b98949ed7449e9321e7757b35a415": {
          "model_module": "@jupyter-widgets/controls",
          "model_name": "HTMLModel",
          "model_module_version": "1.5.0",
          "state": {
            "_view_name": "HTMLView",
            "style": "IPY_MODEL_9d8cbb8bfdc6435e80ab674f569a347b",
            "_dom_classes": [],
            "description": "",
            "_model_name": "HTMLModel",
            "placeholder": "​",
            "_view_module": "@jupyter-widgets/controls",
            "_model_module_version": "1.5.0",
            "value": " 170499072/? [00:11&lt;00:00, 16695549.54it/s]",
            "_view_count": null,
            "_view_module_version": "1.5.0",
            "description_tooltip": null,
            "_model_module": "@jupyter-widgets/controls",
            "layout": "IPY_MODEL_dd519cd6d53b4175bc0e6e60010ca3dc"
          }
        },
        "badfcd1686874533ac97f341dd49c1ec": {
          "model_module": "@jupyter-widgets/controls",
          "model_name": "DescriptionStyleModel",
          "model_module_version": "1.5.0",
          "state": {
            "_view_name": "StyleView",
            "_model_name": "DescriptionStyleModel",
            "description_width": "",
            "_view_module": "@jupyter-widgets/base",
            "_model_module_version": "1.5.0",
            "_view_count": null,
            "_view_module_version": "1.2.0",
            "_model_module": "@jupyter-widgets/controls"
          }
        },
        "dd20cfd25da84729a8f8dd8fc21db343": {
          "model_module": "@jupyter-widgets/base",
          "model_name": "LayoutModel",
          "model_module_version": "1.2.0",
          "state": {
            "_view_name": "LayoutView",
            "grid_template_rows": null,
            "right": null,
            "justify_content": null,
            "_view_module": "@jupyter-widgets/base",
            "overflow": null,
            "_model_module_version": "1.2.0",
            "_view_count": null,
            "flex_flow": null,
            "width": null,
            "min_width": null,
            "border": null,
            "align_items": null,
            "bottom": null,
            "_model_module": "@jupyter-widgets/base",
            "top": null,
            "grid_column": null,
            "overflow_y": null,
            "overflow_x": null,
            "grid_auto_flow": null,
            "grid_area": null,
            "grid_template_columns": null,
            "flex": null,
            "_model_name": "LayoutModel",
            "justify_items": null,
            "grid_row": null,
            "max_height": null,
            "align_content": null,
            "visibility": null,
            "align_self": null,
            "height": null,
            "min_height": null,
            "padding": null,
            "grid_auto_rows": null,
            "grid_gap": null,
            "max_width": null,
            "order": null,
            "_view_module_version": "1.2.0",
            "grid_template_areas": null,
            "object_position": null,
            "object_fit": null,
            "grid_auto_columns": null,
            "margin": null,
            "display": null,
            "left": null
          }
        },
        "5315c76896534943bd6b2a116673796b": {
          "model_module": "@jupyter-widgets/controls",
          "model_name": "ProgressStyleModel",
          "model_module_version": "1.5.0",
          "state": {
            "_view_name": "StyleView",
            "_model_name": "ProgressStyleModel",
            "description_width": "",
            "_view_module": "@jupyter-widgets/base",
            "_model_module_version": "1.5.0",
            "_view_count": null,
            "_view_module_version": "1.2.0",
            "bar_color": null,
            "_model_module": "@jupyter-widgets/controls"
          }
        },
        "64cfdf3dca00444e829e5e39d8f26cc1": {
          "model_module": "@jupyter-widgets/base",
          "model_name": "LayoutModel",
          "model_module_version": "1.2.0",
          "state": {
            "_view_name": "LayoutView",
            "grid_template_rows": null,
            "right": null,
            "justify_content": null,
            "_view_module": "@jupyter-widgets/base",
            "overflow": null,
            "_model_module_version": "1.2.0",
            "_view_count": null,
            "flex_flow": null,
            "width": null,
            "min_width": null,
            "border": null,
            "align_items": null,
            "bottom": null,
            "_model_module": "@jupyter-widgets/base",
            "top": null,
            "grid_column": null,
            "overflow_y": null,
            "overflow_x": null,
            "grid_auto_flow": null,
            "grid_area": null,
            "grid_template_columns": null,
            "flex": null,
            "_model_name": "LayoutModel",
            "justify_items": null,
            "grid_row": null,
            "max_height": null,
            "align_content": null,
            "visibility": null,
            "align_self": null,
            "height": null,
            "min_height": null,
            "padding": null,
            "grid_auto_rows": null,
            "grid_gap": null,
            "max_width": null,
            "order": null,
            "_view_module_version": "1.2.0",
            "grid_template_areas": null,
            "object_position": null,
            "object_fit": null,
            "grid_auto_columns": null,
            "margin": null,
            "display": null,
            "left": null
          }
        },
        "9d8cbb8bfdc6435e80ab674f569a347b": {
          "model_module": "@jupyter-widgets/controls",
          "model_name": "DescriptionStyleModel",
          "model_module_version": "1.5.0",
          "state": {
            "_view_name": "StyleView",
            "_model_name": "DescriptionStyleModel",
            "description_width": "",
            "_view_module": "@jupyter-widgets/base",
            "_model_module_version": "1.5.0",
            "_view_count": null,
            "_view_module_version": "1.2.0",
            "_model_module": "@jupyter-widgets/controls"
          }
        },
        "dd519cd6d53b4175bc0e6e60010ca3dc": {
          "model_module": "@jupyter-widgets/base",
          "model_name": "LayoutModel",
          "model_module_version": "1.2.0",
          "state": {
            "_view_name": "LayoutView",
            "grid_template_rows": null,
            "right": null,
            "justify_content": null,
            "_view_module": "@jupyter-widgets/base",
            "overflow": null,
            "_model_module_version": "1.2.0",
            "_view_count": null,
            "flex_flow": null,
            "width": null,
            "min_width": null,
            "border": null,
            "align_items": null,
            "bottom": null,
            "_model_module": "@jupyter-widgets/base",
            "top": null,
            "grid_column": null,
            "overflow_y": null,
            "overflow_x": null,
            "grid_auto_flow": null,
            "grid_area": null,
            "grid_template_columns": null,
            "flex": null,
            "_model_name": "LayoutModel",
            "justify_items": null,
            "grid_row": null,
            "max_height": null,
            "align_content": null,
            "visibility": null,
            "align_self": null,
            "height": null,
            "min_height": null,
            "padding": null,
            "grid_auto_rows": null,
            "grid_gap": null,
            "max_width": null,
            "order": null,
            "_view_module_version": "1.2.0",
            "grid_template_areas": null,
            "object_position": null,
            "object_fit": null,
            "grid_auto_columns": null,
            "margin": null,
            "display": null,
            "left": null
          }
        }
      }
    }
  },
  "cells": [
    {
      "cell_type": "markdown",
      "metadata": {
        "id": "view-in-github",
        "colab_type": "text"
      },
      "source": [
        "<a href=\"https://colab.research.google.com/github/hamednasr/CIFAR-10-classification/blob/main/PyTorch_CIFAR_10_classification.ipynb\" target=\"_parent\"><img src=\"https://colab.research.google.com/assets/colab-badge.svg\" alt=\"Open In Colab\"/></a>"
      ]
    },
    {
      "cell_type": "markdown",
      "source": [
        "# CIFAR 10 classification using PyTorch"
      ],
      "metadata": {
        "id": "fJfHYXtBYGmk"
      }
    },
    {
      "cell_type": "code",
      "execution_count": 1,
      "metadata": {
        "id": "KhP_klLaKVD3"
      },
      "outputs": [],
      "source": [
        "import torch\n",
        "import torch.nn as nn\n",
        "import torch.nn.functional as F\n",
        "\n",
        "import torchvision\n",
        "import torchvision.transforms as T\n",
        "from torch.utils.data import DataLoader, TensorDataset\n",
        "from sklearn.model_selection import train_test_split\n",
        "from sklearn.metrics import classification_report, confusion_matrix\n",
        "\n",
        "import numpy as np\n",
        "import matplotlib.pyplot as plt\n",
        "from IPython import display\n",
        "display.set_matplotlib_formats('svg')"
      ]
    },
    {
      "cell_type": "code",
      "source": [
        "trans = T.Compose([T.ToTensor()])"
      ],
      "metadata": {
        "id": "w-ntDOvrN0yb"
      },
      "execution_count": 2,
      "outputs": []
    },
    {
      "cell_type": "code",
      "source": [
        "# device= 'cpu'\n",
        "device = torch.device('cuda:0' if torch.cuda.is_available else 'cpu')\n",
        "device"
      ],
      "metadata": {
        "colab": {
          "base_uri": "https://localhost:8080/"
        },
        "id": "J1X4YaSU-EZv",
        "outputId": "391509b8-5aa0-4323-a421-c42a53511663"
      },
      "execution_count": 3,
      "outputs": [
        {
          "output_type": "execute_result",
          "data": {
            "text/plain": [
              "device(type='cuda', index=0)"
            ]
          },
          "metadata": {},
          "execution_count": 3
        }
      ]
    },
    {
      "cell_type": "code",
      "source": [
        "train = torchvision.datasets.CIFAR10(root = 'cifar10',download=True,transform=trans)\n",
        "train"
      ],
      "metadata": {
        "colab": {
          "base_uri": "https://localhost:8080/",
          "height": 228,
          "referenced_widgets": [
            "26666d5024d140a8b328ac57dedc80bf",
            "ea78492c23da4bc581bba1bdbaeace67",
            "ba9126861ee544c59f3289bc91c82c65",
            "78a4557c78a344b2af57a9a170f2eba7",
            "ee9b98949ed7449e9321e7757b35a415",
            "badfcd1686874533ac97f341dd49c1ec",
            "dd20cfd25da84729a8f8dd8fc21db343",
            "5315c76896534943bd6b2a116673796b",
            "64cfdf3dca00444e829e5e39d8f26cc1",
            "9d8cbb8bfdc6435e80ab674f569a347b",
            "dd519cd6d53b4175bc0e6e60010ca3dc"
          ]
        },
        "id": "k-arbojHZwZz",
        "outputId": "bc73c518-aa1f-41ac-f9c3-b6d41d94b12b"
      },
      "execution_count": 4,
      "outputs": [
        {
          "output_type": "stream",
          "name": "stdout",
          "text": [
            "Downloading https://www.cs.toronto.edu/~kriz/cifar-10-python.tar.gz to cifar10/cifar-10-python.tar.gz\n"
          ]
        },
        {
          "output_type": "display_data",
          "data": {
            "application/vnd.jupyter.widget-view+json": {
              "model_id": "26666d5024d140a8b328ac57dedc80bf",
              "version_minor": 0,
              "version_major": 2
            },
            "text/plain": [
              "  0%|          | 0/170498071 [00:00<?, ?it/s]"
            ]
          },
          "metadata": {}
        },
        {
          "output_type": "stream",
          "name": "stdout",
          "text": [
            "Extracting cifar10/cifar-10-python.tar.gz to cifar10\n"
          ]
        },
        {
          "output_type": "execute_result",
          "data": {
            "text/plain": [
              "Dataset CIFAR10\n",
              "    Number of datapoints: 50000\n",
              "    Root location: cifar10\n",
              "    Split: Train\n",
              "    StandardTransform\n",
              "Transform: Compose(\n",
              "               ToTensor()\n",
              "           )"
            ]
          },
          "metadata": {},
          "execution_count": 4
        }
      ]
    },
    {
      "cell_type": "code",
      "source": [
        "test = torchvision.datasets.CIFAR10(root = 'cifar10',train=False,download=True,transform=trans)\n",
        "test"
      ],
      "metadata": {
        "colab": {
          "base_uri": "https://localhost:8080/"
        },
        "id": "fPcTcNSh-t71",
        "outputId": "f891b0ff-6188-4639-e685-3b6a13fb0c7c"
      },
      "execution_count": 5,
      "outputs": [
        {
          "output_type": "stream",
          "name": "stdout",
          "text": [
            "Files already downloaded and verified\n"
          ]
        },
        {
          "output_type": "execute_result",
          "data": {
            "text/plain": [
              "Dataset CIFAR10\n",
              "    Number of datapoints: 10000\n",
              "    Root location: cifar10\n",
              "    Split: Test\n",
              "    StandardTransform\n",
              "Transform: Compose(\n",
              "               ToTensor()\n",
              "           )"
            ]
          },
          "metadata": {},
          "execution_count": 5
        }
      ]
    },
    {
      "cell_type": "code",
      "source": [
        "test.data[11,:].shape"
      ],
      "metadata": {
        "colab": {
          "base_uri": "https://localhost:8080/"
        },
        "id": "brDK1y47S1xl",
        "outputId": "7f6e602c-120b-452a-f75f-79a733287f20"
      },
      "execution_count": 6,
      "outputs": [
        {
          "output_type": "execute_result",
          "data": {
            "text/plain": [
              "(32, 32, 3)"
            ]
          },
          "metadata": {},
          "execution_count": 6
        }
      ]
    },
    {
      "cell_type": "code",
      "source": [
        "trans(test.data[11,:]).shape"
      ],
      "metadata": {
        "colab": {
          "base_uri": "https://localhost:8080/"
        },
        "id": "lhaQ0eadSGg6",
        "outputId": "5043baf3-dcdd-4536-80ad-42c3726d7fcf"
      },
      "execution_count": 7,
      "outputs": [
        {
          "output_type": "execute_result",
          "data": {
            "text/plain": [
              "torch.Size([3, 32, 32])"
            ]
          },
          "metadata": {},
          "execution_count": 7
        }
      ]
    },
    {
      "cell_type": "code",
      "source": [
        "test.transform(test.data[11,:]).shape"
      ],
      "metadata": {
        "colab": {
          "base_uri": "https://localhost:8080/"
        },
        "id": "w7hJ0Lh-TIqo",
        "outputId": "da3ba054-e938-406e-f986-605f6d36bf9b"
      },
      "execution_count": 8,
      "outputs": [
        {
          "output_type": "execute_result",
          "data": {
            "text/plain": [
              "torch.Size([3, 32, 32])"
            ]
          },
          "metadata": {},
          "execution_count": 8
        }
      ]
    },
    {
      "cell_type": "code",
      "source": [
        "train.data.shape"
      ],
      "metadata": {
        "colab": {
          "base_uri": "https://localhost:8080/"
        },
        "id": "Cuvt3He-pBBl",
        "outputId": "d1d41b63-9586-43e3-df91-d20859d31616"
      },
      "execution_count": 9,
      "outputs": [
        {
          "output_type": "execute_result",
          "data": {
            "text/plain": [
              "(50000, 32, 32, 3)"
            ]
          },
          "metadata": {},
          "execution_count": 9
        }
      ]
    },
    {
      "cell_type": "code",
      "source": [
        "test.data.shape"
      ],
      "metadata": {
        "colab": {
          "base_uri": "https://localhost:8080/"
        },
        "id": "DVt1X2P4-2hM",
        "outputId": "ff9156c1-2f16-4b8f-82a2-ccd37ca5f54e"
      },
      "execution_count": 10,
      "outputs": [
        {
          "output_type": "execute_result",
          "data": {
            "text/plain": [
              "(10000, 32, 32, 3)"
            ]
          },
          "metadata": {},
          "execution_count": 10
        }
      ]
    },
    {
      "cell_type": "code",
      "source": [
        "# trainlabel = train.targets"
      ],
      "metadata": {
        "id": "IP9MQSjvpcsT"
      },
      "execution_count": 11,
      "outputs": []
    },
    {
      "cell_type": "code",
      "source": [
        "# testlabel = test.targets"
      ],
      "metadata": {
        "id": "BcuBg4_AzGxI"
      },
      "execution_count": 12,
      "outputs": []
    },
    {
      "cell_type": "code",
      "source": [
        "plt.imshow(train.data[1])"
      ],
      "metadata": {
        "colab": {
          "base_uri": "https://localhost:8080/",
          "height": 370
        },
        "id": "MaPBy789qDGS",
        "outputId": "055ebba7-f8d5-45cb-b9c3-f9c0d8a55b31"
      },
      "execution_count": 13,
      "outputs": [
        {
          "output_type": "execute_result",
          "data": {
            "text/plain": [
              "<matplotlib.image.AxesImage at 0x7f28832c5950>"
            ]
          },
          "metadata": {},
          "execution_count": 13
        },
        {
          "output_type": "display_data",
          "data": {
            "text/plain": [
              "<Figure size 432x288 with 1 Axes>"
            ],
            "image/svg+xml": "<?xml version=\"1.0\" encoding=\"utf-8\" standalone=\"no\"?>\n<!DOCTYPE svg PUBLIC \"-//W3C//DTD SVG 1.1//EN\"\n  \"http://www.w3.org/Graphics/SVG/1.1/DTD/svg11.dtd\">\n<!-- Created with matplotlib (https://matplotlib.org/) -->\n<svg height=\"248.919844pt\" version=\"1.1\" viewBox=\"0 0 251.565 248.919844\" width=\"251.565pt\" xmlns=\"http://www.w3.org/2000/svg\" xmlns:xlink=\"http://www.w3.org/1999/xlink\">\n <defs>\n  <style type=\"text/css\">\n*{stroke-linecap:butt;stroke-linejoin:round;}\n  </style>\n </defs>\n <g id=\"figure_1\">\n  <g id=\"patch_1\">\n   <path d=\"M 0 248.919844 \nL 251.565 248.919844 \nL 251.565 0 \nL 0 0 \nz\n\" style=\"fill:none;\"/>\n  </g>\n  <g id=\"axes_1\">\n   <g id=\"patch_2\">\n    <path d=\"M 26.925 225.041719 \nL 244.365 225.041719 \nL 244.365 7.601719 \nL 26.925 7.601719 \nz\n\" style=\"fill:#ffffff;\"/>\n   </g>\n   <g clip-path=\"url(#p8563e45b3f)\">\n    <image height=\"218\" id=\"image4dbf8fc829\" transform=\"scale(1 -1)translate(0 -218)\" width=\"218\" x=\"26.925\" xlink:href=\"data:image/png;base64,\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\" y=\"-7.041719\"/>\n   </g>\n   <g id=\"matplotlib.axis_1\">\n    <g id=\"xtick_1\">\n     <g id=\"line2d_1\">\n      <defs>\n       <path d=\"M 0 0 \nL 0 3.5 \n\" id=\"m60f18f630d\" style=\"stroke:#000000;stroke-width:0.8;\"/>\n      </defs>\n      <g>\n       <use style=\"stroke:#000000;stroke-width:0.8;\" x=\"30.3225\" xlink:href=\"#m60f18f630d\" y=\"225.041719\"/>\n      </g>\n     </g>\n     <g id=\"text_1\">\n      <!-- 0 -->\n      <defs>\n       <path d=\"M 31.78125 66.40625 \nQ 24.171875 66.40625 20.328125 58.90625 \nQ 16.5 51.421875 16.5 36.375 \nQ 16.5 21.390625 20.328125 13.890625 \nQ 24.171875 6.390625 31.78125 6.390625 \nQ 39.453125 6.390625 43.28125 13.890625 \nQ 47.125 21.390625 47.125 36.375 \nQ 47.125 51.421875 43.28125 58.90625 \nQ 39.453125 66.40625 31.78125 66.40625 \nz\nM 31.78125 74.21875 \nQ 44.046875 74.21875 50.515625 64.515625 \nQ 56.984375 54.828125 56.984375 36.375 \nQ 56.984375 17.96875 50.515625 8.265625 \nQ 44.046875 -1.421875 31.78125 -1.421875 \nQ 19.53125 -1.421875 13.0625 8.265625 \nQ 6.59375 17.96875 6.59375 36.375 \nQ 6.59375 54.828125 13.0625 64.515625 \nQ 19.53125 74.21875 31.78125 74.21875 \nz\n\" id=\"DejaVuSans-48\"/>\n      </defs>\n      <g transform=\"translate(27.14125 239.640156)scale(0.1 -0.1)\">\n       <use xlink:href=\"#DejaVuSans-48\"/>\n      </g>\n     </g>\n    </g>\n    <g id=\"xtick_2\">\n     <g id=\"line2d_2\">\n      <g>\n       <use style=\"stroke:#000000;stroke-width:0.8;\" x=\"64.2975\" xlink:href=\"#m60f18f630d\" y=\"225.041719\"/>\n      </g>\n     </g>\n     <g id=\"text_2\">\n      <!-- 5 -->\n      <defs>\n       <path d=\"M 10.796875 72.90625 \nL 49.515625 72.90625 \nL 49.515625 64.59375 \nL 19.828125 64.59375 \nL 19.828125 46.734375 \nQ 21.96875 47.46875 24.109375 47.828125 \nQ 26.265625 48.1875 28.421875 48.1875 \nQ 40.625 48.1875 47.75 41.5 \nQ 54.890625 34.8125 54.890625 23.390625 \nQ 54.890625 11.625 47.5625 5.09375 \nQ 40.234375 -1.421875 26.90625 -1.421875 \nQ 22.3125 -1.421875 17.546875 -0.640625 \nQ 12.796875 0.140625 7.71875 1.703125 \nL 7.71875 11.625 \nQ 12.109375 9.234375 16.796875 8.0625 \nQ 21.484375 6.890625 26.703125 6.890625 \nQ 35.15625 6.890625 40.078125 11.328125 \nQ 45.015625 15.765625 45.015625 23.390625 \nQ 45.015625 31 40.078125 35.4375 \nQ 35.15625 39.890625 26.703125 39.890625 \nQ 22.75 39.890625 18.8125 39.015625 \nQ 14.890625 38.140625 10.796875 36.28125 \nz\n\" id=\"DejaVuSans-53\"/>\n      </defs>\n      <g transform=\"translate(61.11625 239.640156)scale(0.1 -0.1)\">\n       <use xlink:href=\"#DejaVuSans-53\"/>\n      </g>\n     </g>\n    </g>\n    <g id=\"xtick_3\">\n     <g id=\"line2d_3\">\n      <g>\n       <use style=\"stroke:#000000;stroke-width:0.8;\" x=\"98.2725\" xlink:href=\"#m60f18f630d\" y=\"225.041719\"/>\n      </g>\n     </g>\n     <g id=\"text_3\">\n      <!-- 10 -->\n      <defs>\n       <path d=\"M 12.40625 8.296875 \nL 28.515625 8.296875 \nL 28.515625 63.921875 \nL 10.984375 60.40625 \nL 10.984375 69.390625 \nL 28.421875 72.90625 \nL 38.28125 72.90625 \nL 38.28125 8.296875 \nL 54.390625 8.296875 \nL 54.390625 0 \nL 12.40625 0 \nz\n\" id=\"DejaVuSans-49\"/>\n      </defs>\n      <g transform=\"translate(91.91 239.640156)scale(0.1 -0.1)\">\n       <use xlink:href=\"#DejaVuSans-49\"/>\n       <use x=\"63.623047\" xlink:href=\"#DejaVuSans-48\"/>\n      </g>\n     </g>\n    </g>\n    <g id=\"xtick_4\">\n     <g id=\"line2d_4\">\n      <g>\n       <use style=\"stroke:#000000;stroke-width:0.8;\" x=\"132.2475\" xlink:href=\"#m60f18f630d\" y=\"225.041719\"/>\n      </g>\n     </g>\n     <g id=\"text_4\">\n      <!-- 15 -->\n      <g transform=\"translate(125.885 239.640156)scale(0.1 -0.1)\">\n       <use xlink:href=\"#DejaVuSans-49\"/>\n       <use x=\"63.623047\" xlink:href=\"#DejaVuSans-53\"/>\n      </g>\n     </g>\n    </g>\n    <g id=\"xtick_5\">\n     <g id=\"line2d_5\">\n      <g>\n       <use style=\"stroke:#000000;stroke-width:0.8;\" x=\"166.2225\" xlink:href=\"#m60f18f630d\" y=\"225.041719\"/>\n      </g>\n     </g>\n     <g id=\"text_5\">\n      <!-- 20 -->\n      <defs>\n       <path d=\"M 19.1875 8.296875 \nL 53.609375 8.296875 \nL 53.609375 0 \nL 7.328125 0 \nL 7.328125 8.296875 \nQ 12.9375 14.109375 22.625 23.890625 \nQ 32.328125 33.6875 34.8125 36.53125 \nQ 39.546875 41.84375 41.421875 45.53125 \nQ 43.3125 49.21875 43.3125 52.78125 \nQ 43.3125 58.59375 39.234375 62.25 \nQ 35.15625 65.921875 28.609375 65.921875 \nQ 23.96875 65.921875 18.8125 64.3125 \nQ 13.671875 62.703125 7.8125 59.421875 \nL 7.8125 69.390625 \nQ 13.765625 71.78125 18.9375 73 \nQ 24.125 74.21875 28.421875 74.21875 \nQ 39.75 74.21875 46.484375 68.546875 \nQ 53.21875 62.890625 53.21875 53.421875 \nQ 53.21875 48.921875 51.53125 44.890625 \nQ 49.859375 40.875 45.40625 35.40625 \nQ 44.1875 33.984375 37.640625 27.21875 \nQ 31.109375 20.453125 19.1875 8.296875 \nz\n\" id=\"DejaVuSans-50\"/>\n      </defs>\n      <g transform=\"translate(159.86 239.640156)scale(0.1 -0.1)\">\n       <use xlink:href=\"#DejaVuSans-50\"/>\n       <use x=\"63.623047\" xlink:href=\"#DejaVuSans-48\"/>\n      </g>\n     </g>\n    </g>\n    <g id=\"xtick_6\">\n     <g id=\"line2d_6\">\n      <g>\n       <use style=\"stroke:#000000;stroke-width:0.8;\" x=\"200.1975\" xlink:href=\"#m60f18f630d\" y=\"225.041719\"/>\n      </g>\n     </g>\n     <g id=\"text_6\">\n      <!-- 25 -->\n      <g transform=\"translate(193.835 239.640156)scale(0.1 -0.1)\">\n       <use xlink:href=\"#DejaVuSans-50\"/>\n       <use x=\"63.623047\" xlink:href=\"#DejaVuSans-53\"/>\n      </g>\n     </g>\n    </g>\n    <g id=\"xtick_7\">\n     <g id=\"line2d_7\">\n      <g>\n       <use style=\"stroke:#000000;stroke-width:0.8;\" x=\"234.1725\" xlink:href=\"#m60f18f630d\" y=\"225.041719\"/>\n      </g>\n     </g>\n     <g id=\"text_7\">\n      <!-- 30 -->\n      <defs>\n       <path d=\"M 40.578125 39.3125 \nQ 47.65625 37.796875 51.625 33 \nQ 55.609375 28.21875 55.609375 21.1875 \nQ 55.609375 10.40625 48.1875 4.484375 \nQ 40.765625 -1.421875 27.09375 -1.421875 \nQ 22.515625 -1.421875 17.65625 -0.515625 \nQ 12.796875 0.390625 7.625 2.203125 \nL 7.625 11.71875 \nQ 11.71875 9.328125 16.59375 8.109375 \nQ 21.484375 6.890625 26.8125 6.890625 \nQ 36.078125 6.890625 40.9375 10.546875 \nQ 45.796875 14.203125 45.796875 21.1875 \nQ 45.796875 27.640625 41.28125 31.265625 \nQ 36.765625 34.90625 28.71875 34.90625 \nL 20.21875 34.90625 \nL 20.21875 43.015625 \nL 29.109375 43.015625 \nQ 36.375 43.015625 40.234375 45.921875 \nQ 44.09375 48.828125 44.09375 54.296875 \nQ 44.09375 59.90625 40.109375 62.90625 \nQ 36.140625 65.921875 28.71875 65.921875 \nQ 24.65625 65.921875 20.015625 65.03125 \nQ 15.375 64.15625 9.8125 62.3125 \nL 9.8125 71.09375 \nQ 15.4375 72.65625 20.34375 73.4375 \nQ 25.25 74.21875 29.59375 74.21875 \nQ 40.828125 74.21875 47.359375 69.109375 \nQ 53.90625 64.015625 53.90625 55.328125 \nQ 53.90625 49.265625 50.4375 45.09375 \nQ 46.96875 40.921875 40.578125 39.3125 \nz\n\" id=\"DejaVuSans-51\"/>\n      </defs>\n      <g transform=\"translate(227.81 239.640156)scale(0.1 -0.1)\">\n       <use xlink:href=\"#DejaVuSans-51\"/>\n       <use x=\"63.623047\" xlink:href=\"#DejaVuSans-48\"/>\n      </g>\n     </g>\n    </g>\n   </g>\n   <g id=\"matplotlib.axis_2\">\n    <g id=\"ytick_1\">\n     <g id=\"line2d_8\">\n      <defs>\n       <path d=\"M 0 0 \nL -3.5 0 \n\" id=\"m3c268a96dd\" style=\"stroke:#000000;stroke-width:0.8;\"/>\n      </defs>\n      <g>\n       <use style=\"stroke:#000000;stroke-width:0.8;\" x=\"26.925\" xlink:href=\"#m3c268a96dd\" y=\"10.999219\"/>\n      </g>\n     </g>\n     <g id=\"text_8\">\n      <!-- 0 -->\n      <g transform=\"translate(13.5625 14.798437)scale(0.1 -0.1)\">\n       <use xlink:href=\"#DejaVuSans-48\"/>\n      </g>\n     </g>\n    </g>\n    <g id=\"ytick_2\">\n     <g id=\"line2d_9\">\n      <g>\n       <use style=\"stroke:#000000;stroke-width:0.8;\" x=\"26.925\" xlink:href=\"#m3c268a96dd\" y=\"44.974219\"/>\n      </g>\n     </g>\n     <g id=\"text_9\">\n      <!-- 5 -->\n      <g transform=\"translate(13.5625 48.773437)scale(0.1 -0.1)\">\n       <use xlink:href=\"#DejaVuSans-53\"/>\n      </g>\n     </g>\n    </g>\n    <g id=\"ytick_3\">\n     <g id=\"line2d_10\">\n      <g>\n       <use style=\"stroke:#000000;stroke-width:0.8;\" x=\"26.925\" xlink:href=\"#m3c268a96dd\" y=\"78.949219\"/>\n      </g>\n     </g>\n     <g id=\"text_10\">\n      <!-- 10 -->\n      <g transform=\"translate(7.2 82.748437)scale(0.1 -0.1)\">\n       <use xlink:href=\"#DejaVuSans-49\"/>\n       <use x=\"63.623047\" xlink:href=\"#DejaVuSans-48\"/>\n      </g>\n     </g>\n    </g>\n    <g id=\"ytick_4\">\n     <g id=\"line2d_11\">\n      <g>\n       <use style=\"stroke:#000000;stroke-width:0.8;\" x=\"26.925\" xlink:href=\"#m3c268a96dd\" y=\"112.924219\"/>\n      </g>\n     </g>\n     <g id=\"text_11\">\n      <!-- 15 -->\n      <g transform=\"translate(7.2 116.723437)scale(0.1 -0.1)\">\n       <use xlink:href=\"#DejaVuSans-49\"/>\n       <use x=\"63.623047\" xlink:href=\"#DejaVuSans-53\"/>\n      </g>\n     </g>\n    </g>\n    <g id=\"ytick_5\">\n     <g id=\"line2d_12\">\n      <g>\n       <use style=\"stroke:#000000;stroke-width:0.8;\" x=\"26.925\" xlink:href=\"#m3c268a96dd\" y=\"146.899219\"/>\n      </g>\n     </g>\n     <g id=\"text_12\">\n      <!-- 20 -->\n      <g transform=\"translate(7.2 150.698437)scale(0.1 -0.1)\">\n       <use xlink:href=\"#DejaVuSans-50\"/>\n       <use x=\"63.623047\" xlink:href=\"#DejaVuSans-48\"/>\n      </g>\n     </g>\n    </g>\n    <g id=\"ytick_6\">\n     <g id=\"line2d_13\">\n      <g>\n       <use style=\"stroke:#000000;stroke-width:0.8;\" x=\"26.925\" xlink:href=\"#m3c268a96dd\" y=\"180.874219\"/>\n      </g>\n     </g>\n     <g id=\"text_13\">\n      <!-- 25 -->\n      <g transform=\"translate(7.2 184.673437)scale(0.1 -0.1)\">\n       <use xlink:href=\"#DejaVuSans-50\"/>\n       <use x=\"63.623047\" xlink:href=\"#DejaVuSans-53\"/>\n      </g>\n     </g>\n    </g>\n    <g id=\"ytick_7\">\n     <g id=\"line2d_14\">\n      <g>\n       <use style=\"stroke:#000000;stroke-width:0.8;\" x=\"26.925\" xlink:href=\"#m3c268a96dd\" y=\"214.849219\"/>\n      </g>\n     </g>\n     <g id=\"text_14\">\n      <!-- 30 -->\n      <g transform=\"translate(7.2 218.648437)scale(0.1 -0.1)\">\n       <use xlink:href=\"#DejaVuSans-51\"/>\n       <use x=\"63.623047\" xlink:href=\"#DejaVuSans-48\"/>\n      </g>\n     </g>\n    </g>\n   </g>\n   <g id=\"patch_3\">\n    <path d=\"M 26.925 225.041719 \nL 26.925 7.601719 \n\" style=\"fill:none;stroke:#000000;stroke-linecap:square;stroke-linejoin:miter;stroke-width:0.8;\"/>\n   </g>\n   <g id=\"patch_4\">\n    <path d=\"M 244.365 225.041719 \nL 244.365 7.601719 \n\" style=\"fill:none;stroke:#000000;stroke-linecap:square;stroke-linejoin:miter;stroke-width:0.8;\"/>\n   </g>\n   <g id=\"patch_5\">\n    <path d=\"M 26.925 225.041719 \nL 244.365 225.041719 \n\" style=\"fill:none;stroke:#000000;stroke-linecap:square;stroke-linejoin:miter;stroke-width:0.8;\"/>\n   </g>\n   <g id=\"patch_6\">\n    <path d=\"M 26.925 7.601719 \nL 244.365 7.601719 \n\" style=\"fill:none;stroke:#000000;stroke-linecap:square;stroke-linejoin:miter;stroke-width:0.8;\"/>\n   </g>\n  </g>\n </g>\n <defs>\n  <clipPath id=\"p8563e45b3f\">\n   <rect height=\"217.44\" width=\"217.44\" x=\"26.925\" y=\"7.601719\"/>\n  </clipPath>\n </defs>\n</svg>\n"
          },
          "metadata": {
            "needs_background": "light"
          }
        }
      ]
    },
    {
      "cell_type": "markdown",
      "source": [
        "# data preparation for pytorch"
      ],
      "metadata": {
        "id": "myzFh-YcvvGb"
      }
    },
    {
      "cell_type": "code",
      "source": [
        "train"
      ],
      "metadata": {
        "colab": {
          "base_uri": "https://localhost:8080/"
        },
        "id": "0i5hyWFEQQCM",
        "outputId": "09529baa-3026-4928-9107-ab3570128dd0"
      },
      "execution_count": 14,
      "outputs": [
        {
          "output_type": "execute_result",
          "data": {
            "text/plain": [
              "Dataset CIFAR10\n",
              "    Number of datapoints: 50000\n",
              "    Root location: cifar10\n",
              "    Split: Train\n",
              "    StandardTransform\n",
              "Transform: Compose(\n",
              "               ToTensor()\n",
              "           )"
            ]
          },
          "metadata": {},
          "execution_count": 14
        }
      ]
    },
    {
      "cell_type": "code",
      "source": [
        "# traindata = traindata.reshape(traindata.shape[0],3,32,32)\n",
        "# testdata = testdata.reshape(testdata.shape[0],3,32,32)"
      ],
      "metadata": {
        "id": "QL_mkf9Uv1u6"
      },
      "execution_count": 15,
      "outputs": []
    },
    {
      "cell_type": "code",
      "source": [
        "# traindataT = torch.tensor(traindata).float() \n",
        "# testdataT = torch.tensor(testdata).float() "
      ],
      "metadata": {
        "id": "KKWcIGBuv1sv"
      },
      "execution_count": 16,
      "outputs": []
    },
    {
      "cell_type": "code",
      "source": [
        "# trainlabelT = torch.tensor(trainlabel).long()\n",
        "# testlabelT = torch.tensor(testlabel).long()"
      ],
      "metadata": {
        "id": "ec8T6vOwv1pD"
      },
      "execution_count": 17,
      "outputs": []
    },
    {
      "cell_type": "code",
      "source": [
        "# traindataT.shape"
      ],
      "metadata": {
        "id": "sJ0lUq6jws9C"
      },
      "execution_count": 18,
      "outputs": []
    },
    {
      "cell_type": "code",
      "source": [
        "# testdataT.shape"
      ],
      "metadata": {
        "id": "TsSk2ED6v1kJ"
      },
      "execution_count": 19,
      "outputs": []
    },
    {
      "cell_type": "code",
      "source": [
        "# trainlabelT"
      ],
      "metadata": {
        "id": "ksK_dqQ0Df6P"
      },
      "execution_count": 20,
      "outputs": []
    },
    {
      "cell_type": "code",
      "source": [
        "# traindata,testdata,trainlabel,testlabel=train_test_split(imagesT,labelsT,test_size=.1)"
      ],
      "metadata": {
        "id": "pRJCCWOWv1fg"
      },
      "execution_count": 21,
      "outputs": []
    },
    {
      "cell_type": "code",
      "source": [
        "# trainset = TensorDataset(traindataT,trainlabelT)"
      ],
      "metadata": {
        "id": "27y634GWvqgM"
      },
      "execution_count": 22,
      "outputs": []
    },
    {
      "cell_type": "code",
      "source": [
        "# testset = TensorDataset(testdataT,testlabelT)"
      ],
      "metadata": {
        "id": "xWZHsXjHxgUx"
      },
      "execution_count": 23,
      "outputs": []
    },
    {
      "cell_type": "code",
      "source": [
        "batchsize=128\n",
        "trainloader = DataLoader(train,batch_size=batchsize,shuffle=True,drop_last=True)"
      ],
      "metadata": {
        "id": "54ETrDbfxp_4"
      },
      "execution_count": 24,
      "outputs": []
    },
    {
      "cell_type": "code",
      "source": [
        "testloader = DataLoader(test,batch_size=10000)"
      ],
      "metadata": {
        "id": "8pbPtQLPyNTI"
      },
      "execution_count": 25,
      "outputs": []
    },
    {
      "cell_type": "markdown",
      "source": [
        "## building model:"
      ],
      "metadata": {
        "id": "rHICHFPQAhrk"
      }
    },
    {
      "cell_type": "code",
      "source": [
        "def CreateModel():\n",
        "  \n",
        "  class CNNmodel(nn.Module):\n",
        "    def __init__(self):\n",
        "      super().__init__()\n",
        "\n",
        "      self.conv1 = nn.Conv2d(3,50,kernel_size=3,stride=1,padding=1) #first conv layer\n",
        "      # (32+2*1-3)/1+1=32   max pool:32/2 = 16\n",
        "      self.batchnorm1 = nn.BatchNorm2d(50)\n",
        "      \n",
        "      self.conv2 = nn.Conv2d(50,100,kernel_size=3,padding=1) #second conv layer\n",
        "      #(16+2*1-3)/1+1 = 16  max pool: 16/2 = 8\n",
        "      self.batchnorm2 = nn.BatchNorm2d(100)\n",
        "\n",
        "      self.conv3 = nn.Conv2d(100,200,kernel_size=3) #third conv layer\n",
        "      # # #(8+2*0-3)/1+1 = 6  max pool: 6/2 = 3\n",
        "      self.batchnorm3 = nn.BatchNorm2d(200)\n",
        "\n",
        "      self.fc1 = nn.Linear(3*3*200,400)\n",
        "\n",
        "      self.fc2 = nn.Linear(400,100)\n",
        "\n",
        "      self.out = nn.Linear(100,10)\n",
        "\n",
        "    \n",
        "    def forward(self,x):\n",
        "\n",
        "      x = F.max_pool2d(self.conv1(x),2)\n",
        "      x= F.leaky_relu(self.batchnorm1(x))\n",
        "      x = F.dropout(x, p=0.2, training = self.training) \n",
        "\n",
        "      x = F.max_pool2d(self.conv2(x),2)\n",
        "      x= F.leaky_relu(self.batchnorm2(x))\n",
        "      x = F.dropout(x, p=0.2, training = self.training) \n",
        "\n",
        "      x = F.max_pool2d(self.conv3(x),2)\n",
        "      x= F.leaky_relu(self.batchnorm3(x))\n",
        "      x = F.dropout(x, p=0.2, training = self.training) \n",
        "\n",
        "      nUnits = x.shape.numel()/x.shape[0]\n",
        "      x = x.view(-1,int(nUnits))\n",
        "\n",
        "      x = F.leaky_relu(self.fc1(x))\n",
        "      x = F.dropout(x, p=0.5, training = self.training)\n",
        "\n",
        "      x = F.leaky_relu(self.fc2(x))\n",
        "      x = F.dropout(x, p=0.5, training = self.training)\n",
        "      \n",
        "      x = self.out(x)      \n",
        "      \n",
        "      return x\n",
        "\n",
        "  CNN = CNNmodel()\n",
        "\n",
        "  lossfun = nn.CrossEntropyLoss()\n",
        "\n",
        "  optimizer = torch.optim.Adam(params=CNN.parameters(), lr = 0.001)\n",
        "\n",
        "  return CNN, lossfun, optimizer"
      ],
      "metadata": {
        "id": "wDgnpPH_0Ulb"
      },
      "execution_count": 88,
      "outputs": []
    },
    {
      "cell_type": "markdown",
      "source": [
        "## Sanity checking of the model:"
      ],
      "metadata": {
        "id": "gdekDEkHxD05"
      }
    },
    {
      "cell_type": "code",
      "source": [
        "X = torch.randn(5,3,32,32)\n",
        "CNN, lossfun, optimizer = CreateModel()\n",
        "yhat = CNN(X)\n",
        "print(yhat.shape)\n",
        "print(torch.argmax(yhat,1))"
      ],
      "metadata": {
        "colab": {
          "base_uri": "https://localhost:8080/"
        },
        "id": "ZLGZar1cwuQV",
        "outputId": "6072848a-6fc3-4fc8-d8b0-5147b662f15a"
      },
      "execution_count": 89,
      "outputs": [
        {
          "output_type": "stream",
          "name": "stdout",
          "text": [
            "torch.Size([5, 10])\n",
            "tensor([0, 2, 0, 5, 0])\n"
          ]
        }
      ]
    },
    {
      "cell_type": "markdown",
      "source": [
        "## Train the model:"
      ],
      "metadata": {
        "id": "SwSgqcfbxJGU"
      }
    },
    {
      "cell_type": "code",
      "source": [
        "epochs = 20\n",
        "\n",
        "def TrainModel():\n",
        "\n",
        "  CNN, lossfun, optimizer = CreateModel()\n",
        "  CNN.to(device)\n",
        "\n",
        "  trainacc = []\n",
        "  testacc = []\n",
        "  trainloss = []\n",
        "  testloss = []\n",
        "\n",
        "  for i in range(epochs):\n",
        "    \n",
        "    CNN.train()\n",
        "\n",
        "    batchloss = []\n",
        "    batchacc = []\n",
        "\n",
        "    for X, y in trainloader:\n",
        "\n",
        "      X = X.to(device)\n",
        "      y = y.to(device)\n",
        "      \n",
        "      yhat = CNN(X)\n",
        "\n",
        "      loss = lossfun(yhat,y)\n",
        "      batchloss.append(loss.item())\n",
        "\n",
        "      optimizer.zero_grad()\n",
        "      loss.backward()\n",
        "      optimizer.step() \n",
        "\n",
        "      batchacc.append(100*torch.mean(((torch.argmax(yhat,1)==y).float())).item())\n",
        "\n",
        "    trainloss.append(np.mean(batchloss))\n",
        "    trainacc.append(np.mean(batchacc))\n",
        "\n",
        "    CNN.eval()\n",
        "    X,y = next(iter(testloader))\n",
        "    X = X.to(device)\n",
        "    y = y.to(device)\n",
        "    yhat = CNN(X)\n",
        "    testloss.append(lossfun(yhat,y).item())\n",
        "    testacc.append( 100*torch.mean(((torch.argmax(yhat,1)==y).float())).item() )\n",
        "    print(f'{i+1} of {epochs} epochs done.')\n",
        "\n",
        "  return trainacc, testacc, trainloss, testloss"
      ],
      "metadata": {
        "id": "q8Re_HGbooKN"
      },
      "execution_count": 93,
      "outputs": []
    },
    {
      "cell_type": "code",
      "source": [
        "trainacc, testacc, trainloss, testloss = TrainModel()"
      ],
      "metadata": {
        "id": "KF9RLOaN5hrb",
        "colab": {
          "base_uri": "https://localhost:8080/"
        },
        "outputId": "f15b0052-dd9a-4777-80b9-f8804f9cff16"
      },
      "execution_count": 94,
      "outputs": [
        {
          "output_type": "stream",
          "name": "stdout",
          "text": [
            "1 of 20 epochs done.\n",
            "2 of 20 epochs done.\n",
            "3 of 20 epochs done.\n",
            "4 of 20 epochs done.\n",
            "5 of 20 epochs done.\n",
            "6 of 20 epochs done.\n",
            "7 of 20 epochs done.\n",
            "8 of 20 epochs done.\n",
            "9 of 20 epochs done.\n",
            "10 of 20 epochs done.\n",
            "11 of 20 epochs done.\n",
            "12 of 20 epochs done.\n",
            "13 of 20 epochs done.\n",
            "14 of 20 epochs done.\n",
            "15 of 20 epochs done.\n",
            "16 of 20 epochs done.\n",
            "17 of 20 epochs done.\n",
            "18 of 20 epochs done.\n",
            "19 of 20 epochs done.\n",
            "20 of 20 epochs done.\n"
          ]
        }
      ]
    },
    {
      "cell_type": "code",
      "source": [
        "fig,ax = plt.subplots(1,2,figsize=(16,5))\n",
        "\n",
        "ax[0].plot(trainloss,'bo-',label='Train')\n",
        "ax[0].plot(testloss,'ro-',label='Test')\n",
        "ax[0].set_xlabel('Epochs')\n",
        "ax[0].set_ylabel('Loss')\n",
        "ax[0].set_title('Model loss')\n",
        "ax[0].legend()\n",
        "\n",
        "ax[1].plot(trainacc,'bo-',label='Train')\n",
        "ax[1].plot(testacc,'ro-',label='Test')\n",
        "ax[1].set_xlabel('Epochs')\n",
        "ax[1].set_ylabel('Accuracy (%)')\n",
        "ax[1].set_title(f'Final model test accuracy: {testacc[-1]:.2f}%')\n",
        "ax[1].legend()\n",
        "\n",
        "plt.show()"
      ],
      "metadata": {
        "colab": {
          "base_uri": "https://localhost:8080/",
          "height": 483
        },
        "id": "id3czxHI5hnI",
        "outputId": "a4fd9528-5b67-42d6-9e92-8e7173bfc35d"
      },
      "execution_count": 95,
      "outputs": [
        {
          "output_type": "display_data",
          "data": {
            "text/plain": [
              "<Figure size 1152x360 with 2 Axes>"
            ],
            "image/svg+xml": "<?xml version=\"1.0\" encoding=\"utf-8\" standalone=\"no\"?>\n<!DOCTYPE svg PUBLIC \"-//W3C//DTD SVG 1.1//EN\"\n  \"http://www.w3.org/Graphics/SVG/1.1/DTD/svg11.dtd\">\n<!-- Created with matplotlib (https://matplotlib.org/) -->\n<svg height=\"331.674375pt\" version=\"1.1\" viewBox=\"0 0 943.78125 331.674375\" width=\"943.78125pt\" xmlns=\"http://www.w3.org/2000/svg\" xmlns:xlink=\"http://www.w3.org/1999/xlink\">\n <defs>\n  <style type=\"text/css\">\n*{stroke-linecap:butt;stroke-linejoin:round;}\n  </style>\n </defs>\n <g id=\"figure_1\">\n  <g id=\"patch_1\">\n   <path d=\"M 0 331.674375 \nL 943.78125 331.674375 \nL 943.78125 0 \nL 0 0 \nz\n\" style=\"fill:none;\"/>\n  </g>\n  <g id=\"axes_1\">\n   <g id=\"patch_2\">\n    <path d=\"M 43.78125 294.118125 \nL 449.599432 294.118125 \nL 449.599432 22.318125 \nL 43.78125 22.318125 \nz\n\" style=\"fill:#ffffff;\"/>\n   </g>\n   <g id=\"matplotlib.axis_1\">\n    <g id=\"xtick_1\">\n     <g id=\"line2d_1\">\n      <defs>\n       <path d=\"M 0 0 \nL 0 3.5 \n\" id=\"m432ff8c883\" style=\"stroke:#000000;stroke-width:0.8;\"/>\n      </defs>\n      <g>\n       <use style=\"stroke:#000000;stroke-width:0.8;\" x=\"62.227531\" xlink:href=\"#m432ff8c883\" y=\"294.118125\"/>\n      </g>\n     </g>\n     <g id=\"text_1\">\n      <!-- 0.0 -->\n      <defs>\n       <path d=\"M 31.78125 66.40625 \nQ 24.171875 66.40625 20.328125 58.90625 \nQ 16.5 51.421875 16.5 36.375 \nQ 16.5 21.390625 20.328125 13.890625 \nQ 24.171875 6.390625 31.78125 6.390625 \nQ 39.453125 6.390625 43.28125 13.890625 \nQ 47.125 21.390625 47.125 36.375 \nQ 47.125 51.421875 43.28125 58.90625 \nQ 39.453125 66.40625 31.78125 66.40625 \nz\nM 31.78125 74.21875 \nQ 44.046875 74.21875 50.515625 64.515625 \nQ 56.984375 54.828125 56.984375 36.375 \nQ 56.984375 17.96875 50.515625 8.265625 \nQ 44.046875 -1.421875 31.78125 -1.421875 \nQ 19.53125 -1.421875 13.0625 8.265625 \nQ 6.59375 17.96875 6.59375 36.375 \nQ 6.59375 54.828125 13.0625 64.515625 \nQ 19.53125 74.21875 31.78125 74.21875 \nz\n\" id=\"DejaVuSans-48\"/>\n       <path d=\"M 10.6875 12.40625 \nL 21 12.40625 \nL 21 0 \nL 10.6875 0 \nz\n\" id=\"DejaVuSans-46\"/>\n      </defs>\n      <g transform=\"translate(54.275968 308.716563)scale(0.1 -0.1)\">\n       <use xlink:href=\"#DejaVuSans-48\"/>\n       <use x=\"63.623047\" xlink:href=\"#DejaVuSans-46\"/>\n       <use x=\"95.410156\" xlink:href=\"#DejaVuSans-48\"/>\n      </g>\n     </g>\n    </g>\n    <g id=\"xtick_2\">\n     <g id=\"line2d_2\">\n      <g>\n       <use style=\"stroke:#000000;stroke-width:0.8;\" x=\"110.770376\" xlink:href=\"#m432ff8c883\" y=\"294.118125\"/>\n      </g>\n     </g>\n     <g id=\"text_2\">\n      <!-- 2.5 -->\n      <defs>\n       <path d=\"M 19.1875 8.296875 \nL 53.609375 8.296875 \nL 53.609375 0 \nL 7.328125 0 \nL 7.328125 8.296875 \nQ 12.9375 14.109375 22.625 23.890625 \nQ 32.328125 33.6875 34.8125 36.53125 \nQ 39.546875 41.84375 41.421875 45.53125 \nQ 43.3125 49.21875 43.3125 52.78125 \nQ 43.3125 58.59375 39.234375 62.25 \nQ 35.15625 65.921875 28.609375 65.921875 \nQ 23.96875 65.921875 18.8125 64.3125 \nQ 13.671875 62.703125 7.8125 59.421875 \nL 7.8125 69.390625 \nQ 13.765625 71.78125 18.9375 73 \nQ 24.125 74.21875 28.421875 74.21875 \nQ 39.75 74.21875 46.484375 68.546875 \nQ 53.21875 62.890625 53.21875 53.421875 \nQ 53.21875 48.921875 51.53125 44.890625 \nQ 49.859375 40.875 45.40625 35.40625 \nQ 44.1875 33.984375 37.640625 27.21875 \nQ 31.109375 20.453125 19.1875 8.296875 \nz\n\" id=\"DejaVuSans-50\"/>\n       <path d=\"M 10.796875 72.90625 \nL 49.515625 72.90625 \nL 49.515625 64.59375 \nL 19.828125 64.59375 \nL 19.828125 46.734375 \nQ 21.96875 47.46875 24.109375 47.828125 \nQ 26.265625 48.1875 28.421875 48.1875 \nQ 40.625 48.1875 47.75 41.5 \nQ 54.890625 34.8125 54.890625 23.390625 \nQ 54.890625 11.625 47.5625 5.09375 \nQ 40.234375 -1.421875 26.90625 -1.421875 \nQ 22.3125 -1.421875 17.546875 -0.640625 \nQ 12.796875 0.140625 7.71875 1.703125 \nL 7.71875 11.625 \nQ 12.109375 9.234375 16.796875 8.0625 \nQ 21.484375 6.890625 26.703125 6.890625 \nQ 35.15625 6.890625 40.078125 11.328125 \nQ 45.015625 15.765625 45.015625 23.390625 \nQ 45.015625 31 40.078125 35.4375 \nQ 35.15625 39.890625 26.703125 39.890625 \nQ 22.75 39.890625 18.8125 39.015625 \nQ 14.890625 38.140625 10.796875 36.28125 \nz\n\" id=\"DejaVuSans-53\"/>\n      </defs>\n      <g transform=\"translate(102.818813 308.716563)scale(0.1 -0.1)\">\n       <use xlink:href=\"#DejaVuSans-50\"/>\n       <use x=\"63.623047\" xlink:href=\"#DejaVuSans-46\"/>\n       <use x=\"95.410156\" xlink:href=\"#DejaVuSans-53\"/>\n      </g>\n     </g>\n    </g>\n    <g id=\"xtick_3\">\n     <g id=\"line2d_3\">\n      <g>\n       <use style=\"stroke:#000000;stroke-width:0.8;\" x=\"159.31322\" xlink:href=\"#m432ff8c883\" y=\"294.118125\"/>\n      </g>\n     </g>\n     <g id=\"text_3\">\n      <!-- 5.0 -->\n      <g transform=\"translate(151.361658 308.716563)scale(0.1 -0.1)\">\n       <use xlink:href=\"#DejaVuSans-53\"/>\n       <use x=\"63.623047\" xlink:href=\"#DejaVuSans-46\"/>\n       <use x=\"95.410156\" xlink:href=\"#DejaVuSans-48\"/>\n      </g>\n     </g>\n    </g>\n    <g id=\"xtick_4\">\n     <g id=\"line2d_4\">\n      <g>\n       <use style=\"stroke:#000000;stroke-width:0.8;\" x=\"207.856065\" xlink:href=\"#m432ff8c883\" y=\"294.118125\"/>\n      </g>\n     </g>\n     <g id=\"text_4\">\n      <!-- 7.5 -->\n      <defs>\n       <path d=\"M 8.203125 72.90625 \nL 55.078125 72.90625 \nL 55.078125 68.703125 \nL 28.609375 0 \nL 18.3125 0 \nL 43.21875 64.59375 \nL 8.203125 64.59375 \nz\n\" id=\"DejaVuSans-55\"/>\n      </defs>\n      <g transform=\"translate(199.904503 308.716563)scale(0.1 -0.1)\">\n       <use xlink:href=\"#DejaVuSans-55\"/>\n       <use x=\"63.623047\" xlink:href=\"#DejaVuSans-46\"/>\n       <use x=\"95.410156\" xlink:href=\"#DejaVuSans-53\"/>\n      </g>\n     </g>\n    </g>\n    <g id=\"xtick_5\">\n     <g id=\"line2d_5\">\n      <g>\n       <use style=\"stroke:#000000;stroke-width:0.8;\" x=\"256.39891\" xlink:href=\"#m432ff8c883\" y=\"294.118125\"/>\n      </g>\n     </g>\n     <g id=\"text_5\">\n      <!-- 10.0 -->\n      <defs>\n       <path d=\"M 12.40625 8.296875 \nL 28.515625 8.296875 \nL 28.515625 63.921875 \nL 10.984375 60.40625 \nL 10.984375 69.390625 \nL 28.421875 72.90625 \nL 38.28125 72.90625 \nL 38.28125 8.296875 \nL 54.390625 8.296875 \nL 54.390625 0 \nL 12.40625 0 \nz\n\" id=\"DejaVuSans-49\"/>\n      </defs>\n      <g transform=\"translate(245.266097 308.716563)scale(0.1 -0.1)\">\n       <use xlink:href=\"#DejaVuSans-49\"/>\n       <use x=\"63.623047\" xlink:href=\"#DejaVuSans-48\"/>\n       <use x=\"127.246094\" xlink:href=\"#DejaVuSans-46\"/>\n       <use x=\"159.033203\" xlink:href=\"#DejaVuSans-48\"/>\n      </g>\n     </g>\n    </g>\n    <g id=\"xtick_6\">\n     <g id=\"line2d_6\">\n      <g>\n       <use style=\"stroke:#000000;stroke-width:0.8;\" x=\"304.941755\" xlink:href=\"#m432ff8c883\" y=\"294.118125\"/>\n      </g>\n     </g>\n     <g id=\"text_6\">\n      <!-- 12.5 -->\n      <g transform=\"translate(293.808942 308.716563)scale(0.1 -0.1)\">\n       <use xlink:href=\"#DejaVuSans-49\"/>\n       <use x=\"63.623047\" xlink:href=\"#DejaVuSans-50\"/>\n       <use x=\"127.246094\" xlink:href=\"#DejaVuSans-46\"/>\n       <use x=\"159.033203\" xlink:href=\"#DejaVuSans-53\"/>\n      </g>\n     </g>\n    </g>\n    <g id=\"xtick_7\">\n     <g id=\"line2d_7\">\n      <g>\n       <use style=\"stroke:#000000;stroke-width:0.8;\" x=\"353.484599\" xlink:href=\"#m432ff8c883\" y=\"294.118125\"/>\n      </g>\n     </g>\n     <g id=\"text_7\">\n      <!-- 15.0 -->\n      <g transform=\"translate(342.351787 308.716563)scale(0.1 -0.1)\">\n       <use xlink:href=\"#DejaVuSans-49\"/>\n       <use x=\"63.623047\" xlink:href=\"#DejaVuSans-53\"/>\n       <use x=\"127.246094\" xlink:href=\"#DejaVuSans-46\"/>\n       <use x=\"159.033203\" xlink:href=\"#DejaVuSans-48\"/>\n      </g>\n     </g>\n    </g>\n    <g id=\"xtick_8\">\n     <g id=\"line2d_8\">\n      <g>\n       <use style=\"stroke:#000000;stroke-width:0.8;\" x=\"402.027444\" xlink:href=\"#m432ff8c883\" y=\"294.118125\"/>\n      </g>\n     </g>\n     <g id=\"text_8\">\n      <!-- 17.5 -->\n      <g transform=\"translate(390.894631 308.716563)scale(0.1 -0.1)\">\n       <use xlink:href=\"#DejaVuSans-49\"/>\n       <use x=\"63.623047\" xlink:href=\"#DejaVuSans-55\"/>\n       <use x=\"127.246094\" xlink:href=\"#DejaVuSans-46\"/>\n       <use x=\"159.033203\" xlink:href=\"#DejaVuSans-53\"/>\n      </g>\n     </g>\n    </g>\n    <g id=\"text_9\">\n     <!-- Epochs -->\n     <defs>\n      <path d=\"M 9.8125 72.90625 \nL 55.90625 72.90625 \nL 55.90625 64.59375 \nL 19.671875 64.59375 \nL 19.671875 43.015625 \nL 54.390625 43.015625 \nL 54.390625 34.71875 \nL 19.671875 34.71875 \nL 19.671875 8.296875 \nL 56.78125 8.296875 \nL 56.78125 0 \nL 9.8125 0 \nz\n\" id=\"DejaVuSans-69\"/>\n      <path d=\"M 18.109375 8.203125 \nL 18.109375 -20.796875 \nL 9.078125 -20.796875 \nL 9.078125 54.6875 \nL 18.109375 54.6875 \nL 18.109375 46.390625 \nQ 20.953125 51.265625 25.265625 53.625 \nQ 29.59375 56 35.59375 56 \nQ 45.5625 56 51.78125 48.09375 \nQ 58.015625 40.1875 58.015625 27.296875 \nQ 58.015625 14.40625 51.78125 6.484375 \nQ 45.5625 -1.421875 35.59375 -1.421875 \nQ 29.59375 -1.421875 25.265625 0.953125 \nQ 20.953125 3.328125 18.109375 8.203125 \nz\nM 48.6875 27.296875 \nQ 48.6875 37.203125 44.609375 42.84375 \nQ 40.53125 48.484375 33.40625 48.484375 \nQ 26.265625 48.484375 22.1875 42.84375 \nQ 18.109375 37.203125 18.109375 27.296875 \nQ 18.109375 17.390625 22.1875 11.75 \nQ 26.265625 6.109375 33.40625 6.109375 \nQ 40.53125 6.109375 44.609375 11.75 \nQ 48.6875 17.390625 48.6875 27.296875 \nz\n\" id=\"DejaVuSans-112\"/>\n      <path d=\"M 30.609375 48.390625 \nQ 23.390625 48.390625 19.1875 42.75 \nQ 14.984375 37.109375 14.984375 27.296875 \nQ 14.984375 17.484375 19.15625 11.84375 \nQ 23.34375 6.203125 30.609375 6.203125 \nQ 37.796875 6.203125 41.984375 11.859375 \nQ 46.1875 17.53125 46.1875 27.296875 \nQ 46.1875 37.015625 41.984375 42.703125 \nQ 37.796875 48.390625 30.609375 48.390625 \nz\nM 30.609375 56 \nQ 42.328125 56 49.015625 48.375 \nQ 55.71875 40.765625 55.71875 27.296875 \nQ 55.71875 13.875 49.015625 6.21875 \nQ 42.328125 -1.421875 30.609375 -1.421875 \nQ 18.84375 -1.421875 12.171875 6.21875 \nQ 5.515625 13.875 5.515625 27.296875 \nQ 5.515625 40.765625 12.171875 48.375 \nQ 18.84375 56 30.609375 56 \nz\n\" id=\"DejaVuSans-111\"/>\n      <path d=\"M 48.78125 52.59375 \nL 48.78125 44.1875 \nQ 44.96875 46.296875 41.140625 47.34375 \nQ 37.3125 48.390625 33.40625 48.390625 \nQ 24.65625 48.390625 19.8125 42.84375 \nQ 14.984375 37.3125 14.984375 27.296875 \nQ 14.984375 17.28125 19.8125 11.734375 \nQ 24.65625 6.203125 33.40625 6.203125 \nQ 37.3125 6.203125 41.140625 7.25 \nQ 44.96875 8.296875 48.78125 10.40625 \nL 48.78125 2.09375 \nQ 45.015625 0.34375 40.984375 -0.53125 \nQ 36.96875 -1.421875 32.421875 -1.421875 \nQ 20.0625 -1.421875 12.78125 6.34375 \nQ 5.515625 14.109375 5.515625 27.296875 \nQ 5.515625 40.671875 12.859375 48.328125 \nQ 20.21875 56 33.015625 56 \nQ 37.15625 56 41.109375 55.140625 \nQ 45.0625 54.296875 48.78125 52.59375 \nz\n\" id=\"DejaVuSans-99\"/>\n      <path d=\"M 54.890625 33.015625 \nL 54.890625 0 \nL 45.90625 0 \nL 45.90625 32.71875 \nQ 45.90625 40.484375 42.875 44.328125 \nQ 39.84375 48.1875 33.796875 48.1875 \nQ 26.515625 48.1875 22.3125 43.546875 \nQ 18.109375 38.921875 18.109375 30.90625 \nL 18.109375 0 \nL 9.078125 0 \nL 9.078125 75.984375 \nL 18.109375 75.984375 \nL 18.109375 46.1875 \nQ 21.34375 51.125 25.703125 53.5625 \nQ 30.078125 56 35.796875 56 \nQ 45.21875 56 50.046875 50.171875 \nQ 54.890625 44.34375 54.890625 33.015625 \nz\n\" id=\"DejaVuSans-104\"/>\n      <path d=\"M 44.28125 53.078125 \nL 44.28125 44.578125 \nQ 40.484375 46.53125 36.375 47.5 \nQ 32.28125 48.484375 27.875 48.484375 \nQ 21.1875 48.484375 17.84375 46.4375 \nQ 14.5 44.390625 14.5 40.28125 \nQ 14.5 37.15625 16.890625 35.375 \nQ 19.28125 33.59375 26.515625 31.984375 \nL 29.59375 31.296875 \nQ 39.15625 29.25 43.1875 25.515625 \nQ 47.21875 21.78125 47.21875 15.09375 \nQ 47.21875 7.46875 41.1875 3.015625 \nQ 35.15625 -1.421875 24.609375 -1.421875 \nQ 20.21875 -1.421875 15.453125 -0.5625 \nQ 10.6875 0.296875 5.421875 2 \nL 5.421875 11.28125 \nQ 10.40625 8.6875 15.234375 7.390625 \nQ 20.0625 6.109375 24.8125 6.109375 \nQ 31.15625 6.109375 34.5625 8.28125 \nQ 37.984375 10.453125 37.984375 14.40625 \nQ 37.984375 18.0625 35.515625 20.015625 \nQ 33.0625 21.96875 24.703125 23.78125 \nL 21.578125 24.515625 \nQ 13.234375 26.265625 9.515625 29.90625 \nQ 5.8125 33.546875 5.8125 39.890625 \nQ 5.8125 47.609375 11.28125 51.796875 \nQ 16.75 56 26.8125 56 \nQ 31.78125 56 36.171875 55.265625 \nQ 40.578125 54.546875 44.28125 53.078125 \nz\n\" id=\"DejaVuSans-115\"/>\n     </defs>\n     <g transform=\"translate(228.774716 322.394687)scale(0.1 -0.1)\">\n      <use xlink:href=\"#DejaVuSans-69\"/>\n      <use x=\"63.183594\" xlink:href=\"#DejaVuSans-112\"/>\n      <use x=\"126.660156\" xlink:href=\"#DejaVuSans-111\"/>\n      <use x=\"187.841797\" xlink:href=\"#DejaVuSans-99\"/>\n      <use x=\"242.822266\" xlink:href=\"#DejaVuSans-104\"/>\n      <use x=\"306.201172\" xlink:href=\"#DejaVuSans-115\"/>\n     </g>\n    </g>\n   </g>\n   <g id=\"matplotlib.axis_2\">\n    <g id=\"ytick_1\">\n     <g id=\"line2d_9\">\n      <defs>\n       <path d=\"M 0 0 \nL -3.5 0 \n\" id=\"m3a56a05cd3\" style=\"stroke:#000000;stroke-width:0.8;\"/>\n      </defs>\n      <g>\n       <use style=\"stroke:#000000;stroke-width:0.8;\" x=\"43.78125\" xlink:href=\"#m3a56a05cd3\" y=\"285.414421\"/>\n      </g>\n     </g>\n     <g id=\"text_10\">\n      <!-- 0.4 -->\n      <defs>\n       <path d=\"M 37.796875 64.3125 \nL 12.890625 25.390625 \nL 37.796875 25.390625 \nz\nM 35.203125 72.90625 \nL 47.609375 72.90625 \nL 47.609375 25.390625 \nL 58.015625 25.390625 \nL 58.015625 17.1875 \nL 47.609375 17.1875 \nL 47.609375 0 \nL 37.796875 0 \nL 37.796875 17.1875 \nL 4.890625 17.1875 \nL 4.890625 26.703125 \nz\n\" id=\"DejaVuSans-52\"/>\n      </defs>\n      <g transform=\"translate(20.878125 289.213639)scale(0.1 -0.1)\">\n       <use xlink:href=\"#DejaVuSans-48\"/>\n       <use x=\"63.623047\" xlink:href=\"#DejaVuSans-46\"/>\n       <use x=\"95.410156\" xlink:href=\"#DejaVuSans-52\"/>\n      </g>\n     </g>\n    </g>\n    <g id=\"ytick_2\">\n     <g id=\"line2d_10\">\n      <g>\n       <use style=\"stroke:#000000;stroke-width:0.8;\" x=\"43.78125\" xlink:href=\"#m3a56a05cd3\" y=\"239.067282\"/>\n      </g>\n     </g>\n     <g id=\"text_11\">\n      <!-- 0.6 -->\n      <defs>\n       <path d=\"M 33.015625 40.375 \nQ 26.375 40.375 22.484375 35.828125 \nQ 18.609375 31.296875 18.609375 23.390625 \nQ 18.609375 15.53125 22.484375 10.953125 \nQ 26.375 6.390625 33.015625 6.390625 \nQ 39.65625 6.390625 43.53125 10.953125 \nQ 47.40625 15.53125 47.40625 23.390625 \nQ 47.40625 31.296875 43.53125 35.828125 \nQ 39.65625 40.375 33.015625 40.375 \nz\nM 52.59375 71.296875 \nL 52.59375 62.3125 \nQ 48.875 64.0625 45.09375 64.984375 \nQ 41.3125 65.921875 37.59375 65.921875 \nQ 27.828125 65.921875 22.671875 59.328125 \nQ 17.53125 52.734375 16.796875 39.40625 \nQ 19.671875 43.65625 24.015625 45.921875 \nQ 28.375 48.1875 33.59375 48.1875 \nQ 44.578125 48.1875 50.953125 41.515625 \nQ 57.328125 34.859375 57.328125 23.390625 \nQ 57.328125 12.15625 50.6875 5.359375 \nQ 44.046875 -1.421875 33.015625 -1.421875 \nQ 20.359375 -1.421875 13.671875 8.265625 \nQ 6.984375 17.96875 6.984375 36.375 \nQ 6.984375 53.65625 15.1875 63.9375 \nQ 23.390625 74.21875 37.203125 74.21875 \nQ 40.921875 74.21875 44.703125 73.484375 \nQ 48.484375 72.75 52.59375 71.296875 \nz\n\" id=\"DejaVuSans-54\"/>\n      </defs>\n      <g transform=\"translate(20.878125 242.8665)scale(0.1 -0.1)\">\n       <use xlink:href=\"#DejaVuSans-48\"/>\n       <use x=\"63.623047\" xlink:href=\"#DejaVuSans-46\"/>\n       <use x=\"95.410156\" xlink:href=\"#DejaVuSans-54\"/>\n      </g>\n     </g>\n    </g>\n    <g id=\"ytick_3\">\n     <g id=\"line2d_11\">\n      <g>\n       <use style=\"stroke:#000000;stroke-width:0.8;\" x=\"43.78125\" xlink:href=\"#m3a56a05cd3\" y=\"192.720142\"/>\n      </g>\n     </g>\n     <g id=\"text_12\">\n      <!-- 0.8 -->\n      <defs>\n       <path d=\"M 31.78125 34.625 \nQ 24.75 34.625 20.71875 30.859375 \nQ 16.703125 27.09375 16.703125 20.515625 \nQ 16.703125 13.921875 20.71875 10.15625 \nQ 24.75 6.390625 31.78125 6.390625 \nQ 38.8125 6.390625 42.859375 10.171875 \nQ 46.921875 13.96875 46.921875 20.515625 \nQ 46.921875 27.09375 42.890625 30.859375 \nQ 38.875 34.625 31.78125 34.625 \nz\nM 21.921875 38.8125 \nQ 15.578125 40.375 12.03125 44.71875 \nQ 8.5 49.078125 8.5 55.328125 \nQ 8.5 64.0625 14.71875 69.140625 \nQ 20.953125 74.21875 31.78125 74.21875 \nQ 42.671875 74.21875 48.875 69.140625 \nQ 55.078125 64.0625 55.078125 55.328125 \nQ 55.078125 49.078125 51.53125 44.71875 \nQ 48 40.375 41.703125 38.8125 \nQ 48.828125 37.15625 52.796875 32.3125 \nQ 56.78125 27.484375 56.78125 20.515625 \nQ 56.78125 9.90625 50.3125 4.234375 \nQ 43.84375 -1.421875 31.78125 -1.421875 \nQ 19.734375 -1.421875 13.25 4.234375 \nQ 6.78125 9.90625 6.78125 20.515625 \nQ 6.78125 27.484375 10.78125 32.3125 \nQ 14.796875 37.15625 21.921875 38.8125 \nz\nM 18.3125 54.390625 \nQ 18.3125 48.734375 21.84375 45.5625 \nQ 25.390625 42.390625 31.78125 42.390625 \nQ 38.140625 42.390625 41.71875 45.5625 \nQ 45.3125 48.734375 45.3125 54.390625 \nQ 45.3125 60.0625 41.71875 63.234375 \nQ 38.140625 66.40625 31.78125 66.40625 \nQ 25.390625 66.40625 21.84375 63.234375 \nQ 18.3125 60.0625 18.3125 54.390625 \nz\n\" id=\"DejaVuSans-56\"/>\n      </defs>\n      <g transform=\"translate(20.878125 196.519361)scale(0.1 -0.1)\">\n       <use xlink:href=\"#DejaVuSans-48\"/>\n       <use x=\"63.623047\" xlink:href=\"#DejaVuSans-46\"/>\n       <use x=\"95.410156\" xlink:href=\"#DejaVuSans-56\"/>\n      </g>\n     </g>\n    </g>\n    <g id=\"ytick_4\">\n     <g id=\"line2d_12\">\n      <g>\n       <use style=\"stroke:#000000;stroke-width:0.8;\" x=\"43.78125\" xlink:href=\"#m3a56a05cd3\" y=\"146.373003\"/>\n      </g>\n     </g>\n     <g id=\"text_13\">\n      <!-- 1.0 -->\n      <g transform=\"translate(20.878125 150.172222)scale(0.1 -0.1)\">\n       <use xlink:href=\"#DejaVuSans-49\"/>\n       <use x=\"63.623047\" xlink:href=\"#DejaVuSans-46\"/>\n       <use x=\"95.410156\" xlink:href=\"#DejaVuSans-48\"/>\n      </g>\n     </g>\n    </g>\n    <g id=\"ytick_5\">\n     <g id=\"line2d_13\">\n      <g>\n       <use style=\"stroke:#000000;stroke-width:0.8;\" x=\"43.78125\" xlink:href=\"#m3a56a05cd3\" y=\"100.025864\"/>\n      </g>\n     </g>\n     <g id=\"text_14\">\n      <!-- 1.2 -->\n      <g transform=\"translate(20.878125 103.825083)scale(0.1 -0.1)\">\n       <use xlink:href=\"#DejaVuSans-49\"/>\n       <use x=\"63.623047\" xlink:href=\"#DejaVuSans-46\"/>\n       <use x=\"95.410156\" xlink:href=\"#DejaVuSans-50\"/>\n      </g>\n     </g>\n    </g>\n    <g id=\"ytick_6\">\n     <g id=\"line2d_14\">\n      <g>\n       <use style=\"stroke:#000000;stroke-width:0.8;\" x=\"43.78125\" xlink:href=\"#m3a56a05cd3\" y=\"53.678725\"/>\n      </g>\n     </g>\n     <g id=\"text_15\">\n      <!-- 1.4 -->\n      <g transform=\"translate(20.878125 57.477944)scale(0.1 -0.1)\">\n       <use xlink:href=\"#DejaVuSans-49\"/>\n       <use x=\"63.623047\" xlink:href=\"#DejaVuSans-46\"/>\n       <use x=\"95.410156\" xlink:href=\"#DejaVuSans-52\"/>\n      </g>\n     </g>\n    </g>\n    <g id=\"text_16\">\n     <!-- Loss -->\n     <defs>\n      <path d=\"M 9.8125 72.90625 \nL 19.671875 72.90625 \nL 19.671875 8.296875 \nL 55.171875 8.296875 \nL 55.171875 0 \nL 9.8125 0 \nz\n\" id=\"DejaVuSans-76\"/>\n     </defs>\n     <g transform=\"translate(14.798438 169.185313)rotate(-90)scale(0.1 -0.1)\">\n      <use xlink:href=\"#DejaVuSans-76\"/>\n      <use x=\"53.962891\" xlink:href=\"#DejaVuSans-111\"/>\n      <use x=\"115.144531\" xlink:href=\"#DejaVuSans-115\"/>\n      <use x=\"167.244141\" xlink:href=\"#DejaVuSans-115\"/>\n     </g>\n    </g>\n   </g>\n   <g id=\"line2d_15\">\n    <path clip-path=\"url(#p9148885871)\" d=\"M 62.227531 34.67267 \nL 81.644669 130.913646 \nL 101.061807 164.994869 \nL 120.478945 186.208423 \nL 139.896083 203.786276 \nL 159.31322 214.173048 \nL 178.730358 222.37006 \nL 198.147496 231.704196 \nL 217.564634 238.330936 \nL 236.981772 245.935389 \nL 256.39891 251.762813 \nL 275.816048 257.013108 \nL 295.233186 260.376105 \nL 314.650324 264.754864 \nL 334.067461 269.855794 \nL 353.484599 271.001009 \nL 372.901737 275.722445 \nL 392.318875 277.832578 \nL 411.736013 280.915643 \nL 431.153151 281.76358 \n\" style=\"fill:none;stroke:#0000ff;stroke-linecap:square;stroke-width:1.5;\"/>\n    <defs>\n     <path d=\"M 0 3 \nC 0.795609 3 1.55874 2.683901 2.12132 2.12132 \nC 2.683901 1.55874 3 0.795609 3 0 \nC 3 -0.795609 2.683901 -1.55874 2.12132 -2.12132 \nC 1.55874 -2.683901 0.795609 -3 0 -3 \nC -0.795609 -3 -1.55874 -2.683901 -2.12132 -2.12132 \nC -2.683901 -1.55874 -3 -0.795609 -3 0 \nC -3 0.795609 -2.683901 1.55874 -2.12132 2.12132 \nC -1.55874 2.683901 -0.795609 3 0 3 \nz\n\" id=\"m604a7f2f83\" style=\"stroke:#0000ff;\"/>\n    </defs>\n    <g clip-path=\"url(#p9148885871)\">\n     <use style=\"fill:#0000ff;stroke:#0000ff;\" x=\"62.227531\" xlink:href=\"#m604a7f2f83\" y=\"34.67267\"/>\n     <use style=\"fill:#0000ff;stroke:#0000ff;\" x=\"81.644669\" xlink:href=\"#m604a7f2f83\" y=\"130.913646\"/>\n     <use style=\"fill:#0000ff;stroke:#0000ff;\" x=\"101.061807\" xlink:href=\"#m604a7f2f83\" y=\"164.994869\"/>\n     <use style=\"fill:#0000ff;stroke:#0000ff;\" x=\"120.478945\" xlink:href=\"#m604a7f2f83\" y=\"186.208423\"/>\n     <use style=\"fill:#0000ff;stroke:#0000ff;\" x=\"139.896083\" xlink:href=\"#m604a7f2f83\" y=\"203.786276\"/>\n     <use style=\"fill:#0000ff;stroke:#0000ff;\" x=\"159.31322\" xlink:href=\"#m604a7f2f83\" y=\"214.173048\"/>\n     <use style=\"fill:#0000ff;stroke:#0000ff;\" x=\"178.730358\" xlink:href=\"#m604a7f2f83\" y=\"222.37006\"/>\n     <use style=\"fill:#0000ff;stroke:#0000ff;\" x=\"198.147496\" xlink:href=\"#m604a7f2f83\" y=\"231.704196\"/>\n     <use style=\"fill:#0000ff;stroke:#0000ff;\" x=\"217.564634\" xlink:href=\"#m604a7f2f83\" y=\"238.330936\"/>\n     <use style=\"fill:#0000ff;stroke:#0000ff;\" x=\"236.981772\" xlink:href=\"#m604a7f2f83\" y=\"245.935389\"/>\n     <use style=\"fill:#0000ff;stroke:#0000ff;\" x=\"256.39891\" xlink:href=\"#m604a7f2f83\" y=\"251.762813\"/>\n     <use style=\"fill:#0000ff;stroke:#0000ff;\" x=\"275.816048\" xlink:href=\"#m604a7f2f83\" y=\"257.013108\"/>\n     <use style=\"fill:#0000ff;stroke:#0000ff;\" x=\"295.233186\" xlink:href=\"#m604a7f2f83\" y=\"260.376105\"/>\n     <use style=\"fill:#0000ff;stroke:#0000ff;\" x=\"314.650324\" xlink:href=\"#m604a7f2f83\" y=\"264.754864\"/>\n     <use style=\"fill:#0000ff;stroke:#0000ff;\" x=\"334.067461\" xlink:href=\"#m604a7f2f83\" y=\"269.855794\"/>\n     <use style=\"fill:#0000ff;stroke:#0000ff;\" x=\"353.484599\" xlink:href=\"#m604a7f2f83\" y=\"271.001009\"/>\n     <use style=\"fill:#0000ff;stroke:#0000ff;\" x=\"372.901737\" xlink:href=\"#m604a7f2f83\" y=\"275.722445\"/>\n     <use style=\"fill:#0000ff;stroke:#0000ff;\" x=\"392.318875\" xlink:href=\"#m604a7f2f83\" y=\"277.832578\"/>\n     <use style=\"fill:#0000ff;stroke:#0000ff;\" x=\"411.736013\" xlink:href=\"#m604a7f2f83\" y=\"280.915643\"/>\n     <use style=\"fill:#0000ff;stroke:#0000ff;\" x=\"431.153151\" xlink:href=\"#m604a7f2f83\" y=\"281.76358\"/>\n    </g>\n   </g>\n   <g id=\"line2d_16\">\n    <path clip-path=\"url(#p9148885871)\" d=\"M 62.227531 123.005418 \nL 81.644669 149.793343 \nL 101.061807 172.929708 \nL 120.478945 203.228307 \nL 139.896083 207.2063 \nL 159.31322 217.649784 \nL 178.730358 216.49304 \nL 198.147496 206.628301 \nL 217.564634 227.480889 \nL 236.981772 225.369161 \nL 256.39891 203.722713 \nL 275.816048 248.261928 \nL 295.233186 231.000914 \nL 314.650324 220.60018 \nL 334.067461 239.533076 \nL 353.484599 229.548099 \nL 372.901737 239.903873 \nL 392.318875 248.969972 \nL 411.736013 252.658509 \nL 431.153151 225.709018 \n\" style=\"fill:none;stroke:#ff0000;stroke-linecap:square;stroke-width:1.5;\"/>\n    <defs>\n     <path d=\"M 0 3 \nC 0.795609 3 1.55874 2.683901 2.12132 2.12132 \nC 2.683901 1.55874 3 0.795609 3 0 \nC 3 -0.795609 2.683901 -1.55874 2.12132 -2.12132 \nC 1.55874 -2.683901 0.795609 -3 0 -3 \nC -0.795609 -3 -1.55874 -2.683901 -2.12132 -2.12132 \nC -2.683901 -1.55874 -3 -0.795609 -3 0 \nC -3 0.795609 -2.683901 1.55874 -2.12132 2.12132 \nC -1.55874 2.683901 -0.795609 3 0 3 \nz\n\" id=\"m93639f56ba\" style=\"stroke:#ff0000;\"/>\n    </defs>\n    <g clip-path=\"url(#p9148885871)\">\n     <use style=\"fill:#ff0000;stroke:#ff0000;\" x=\"62.227531\" xlink:href=\"#m93639f56ba\" y=\"123.005418\"/>\n     <use style=\"fill:#ff0000;stroke:#ff0000;\" x=\"81.644669\" xlink:href=\"#m93639f56ba\" y=\"149.793343\"/>\n     <use style=\"fill:#ff0000;stroke:#ff0000;\" x=\"101.061807\" xlink:href=\"#m93639f56ba\" y=\"172.929708\"/>\n     <use style=\"fill:#ff0000;stroke:#ff0000;\" x=\"120.478945\" xlink:href=\"#m93639f56ba\" y=\"203.228307\"/>\n     <use style=\"fill:#ff0000;stroke:#ff0000;\" x=\"139.896083\" xlink:href=\"#m93639f56ba\" y=\"207.2063\"/>\n     <use style=\"fill:#ff0000;stroke:#ff0000;\" x=\"159.31322\" xlink:href=\"#m93639f56ba\" y=\"217.649784\"/>\n     <use style=\"fill:#ff0000;stroke:#ff0000;\" x=\"178.730358\" xlink:href=\"#m93639f56ba\" y=\"216.49304\"/>\n     <use style=\"fill:#ff0000;stroke:#ff0000;\" x=\"198.147496\" xlink:href=\"#m93639f56ba\" y=\"206.628301\"/>\n     <use style=\"fill:#ff0000;stroke:#ff0000;\" x=\"217.564634\" xlink:href=\"#m93639f56ba\" y=\"227.480889\"/>\n     <use style=\"fill:#ff0000;stroke:#ff0000;\" x=\"236.981772\" xlink:href=\"#m93639f56ba\" y=\"225.369161\"/>\n     <use style=\"fill:#ff0000;stroke:#ff0000;\" x=\"256.39891\" xlink:href=\"#m93639f56ba\" y=\"203.722713\"/>\n     <use style=\"fill:#ff0000;stroke:#ff0000;\" x=\"275.816048\" xlink:href=\"#m93639f56ba\" y=\"248.261928\"/>\n     <use style=\"fill:#ff0000;stroke:#ff0000;\" x=\"295.233186\" xlink:href=\"#m93639f56ba\" y=\"231.000914\"/>\n     <use style=\"fill:#ff0000;stroke:#ff0000;\" x=\"314.650324\" xlink:href=\"#m93639f56ba\" y=\"220.60018\"/>\n     <use style=\"fill:#ff0000;stroke:#ff0000;\" x=\"334.067461\" xlink:href=\"#m93639f56ba\" y=\"239.533076\"/>\n     <use style=\"fill:#ff0000;stroke:#ff0000;\" x=\"353.484599\" xlink:href=\"#m93639f56ba\" y=\"229.548099\"/>\n     <use style=\"fill:#ff0000;stroke:#ff0000;\" x=\"372.901737\" xlink:href=\"#m93639f56ba\" y=\"239.903873\"/>\n     <use style=\"fill:#ff0000;stroke:#ff0000;\" x=\"392.318875\" xlink:href=\"#m93639f56ba\" y=\"248.969972\"/>\n     <use style=\"fill:#ff0000;stroke:#ff0000;\" x=\"411.736013\" xlink:href=\"#m93639f56ba\" y=\"252.658509\"/>\n     <use style=\"fill:#ff0000;stroke:#ff0000;\" x=\"431.153151\" xlink:href=\"#m93639f56ba\" y=\"225.709018\"/>\n    </g>\n   </g>\n   <g id=\"patch_3\">\n    <path d=\"M 43.78125 294.118125 \nL 43.78125 22.318125 \n\" style=\"fill:none;stroke:#000000;stroke-linecap:square;stroke-linejoin:miter;stroke-width:0.8;\"/>\n   </g>\n   <g id=\"patch_4\">\n    <path d=\"M 449.599432 294.118125 \nL 449.599432 22.318125 \n\" style=\"fill:none;stroke:#000000;stroke-linecap:square;stroke-linejoin:miter;stroke-width:0.8;\"/>\n   </g>\n   <g id=\"patch_5\">\n    <path d=\"M 43.78125 294.118125 \nL 449.599432 294.118125 \n\" style=\"fill:none;stroke:#000000;stroke-linecap:square;stroke-linejoin:miter;stroke-width:0.8;\"/>\n   </g>\n   <g id=\"patch_6\">\n    <path d=\"M 43.78125 22.318125 \nL 449.599432 22.318125 \n\" style=\"fill:none;stroke:#000000;stroke-linecap:square;stroke-linejoin:miter;stroke-width:0.8;\"/>\n   </g>\n   <g id=\"text_17\">\n    <!-- Model loss -->\n    <defs>\n     <path d=\"M 9.8125 72.90625 \nL 24.515625 72.90625 \nL 43.109375 23.296875 \nL 61.8125 72.90625 \nL 76.515625 72.90625 \nL 76.515625 0 \nL 66.890625 0 \nL 66.890625 64.015625 \nL 48.09375 14.015625 \nL 38.1875 14.015625 \nL 19.390625 64.015625 \nL 19.390625 0 \nL 9.8125 0 \nz\n\" id=\"DejaVuSans-77\"/>\n     <path d=\"M 45.40625 46.390625 \nL 45.40625 75.984375 \nL 54.390625 75.984375 \nL 54.390625 0 \nL 45.40625 0 \nL 45.40625 8.203125 \nQ 42.578125 3.328125 38.25 0.953125 \nQ 33.9375 -1.421875 27.875 -1.421875 \nQ 17.96875 -1.421875 11.734375 6.484375 \nQ 5.515625 14.40625 5.515625 27.296875 \nQ 5.515625 40.1875 11.734375 48.09375 \nQ 17.96875 56 27.875 56 \nQ 33.9375 56 38.25 53.625 \nQ 42.578125 51.265625 45.40625 46.390625 \nz\nM 14.796875 27.296875 \nQ 14.796875 17.390625 18.875 11.75 \nQ 22.953125 6.109375 30.078125 6.109375 \nQ 37.203125 6.109375 41.296875 11.75 \nQ 45.40625 17.390625 45.40625 27.296875 \nQ 45.40625 37.203125 41.296875 42.84375 \nQ 37.203125 48.484375 30.078125 48.484375 \nQ 22.953125 48.484375 18.875 42.84375 \nQ 14.796875 37.203125 14.796875 27.296875 \nz\n\" id=\"DejaVuSans-100\"/>\n     <path d=\"M 56.203125 29.59375 \nL 56.203125 25.203125 \nL 14.890625 25.203125 \nQ 15.484375 15.921875 20.484375 11.0625 \nQ 25.484375 6.203125 34.421875 6.203125 \nQ 39.59375 6.203125 44.453125 7.46875 \nQ 49.3125 8.734375 54.109375 11.28125 \nL 54.109375 2.78125 \nQ 49.265625 0.734375 44.1875 -0.34375 \nQ 39.109375 -1.421875 33.890625 -1.421875 \nQ 20.796875 -1.421875 13.15625 6.1875 \nQ 5.515625 13.8125 5.515625 26.8125 \nQ 5.515625 40.234375 12.765625 48.109375 \nQ 20.015625 56 32.328125 56 \nQ 43.359375 56 49.78125 48.890625 \nQ 56.203125 41.796875 56.203125 29.59375 \nz\nM 47.21875 32.234375 \nQ 47.125 39.59375 43.09375 43.984375 \nQ 39.0625 48.390625 32.421875 48.390625 \nQ 24.90625 48.390625 20.390625 44.140625 \nQ 15.875 39.890625 15.1875 32.171875 \nz\n\" id=\"DejaVuSans-101\"/>\n     <path d=\"M 9.421875 75.984375 \nL 18.40625 75.984375 \nL 18.40625 0 \nL 9.421875 0 \nz\n\" id=\"DejaVuSans-108\"/>\n     <path id=\"DejaVuSans-32\"/>\n    </defs>\n    <g transform=\"translate(215.178153 16.318125)scale(0.12 -0.12)\">\n     <use xlink:href=\"#DejaVuSans-77\"/>\n     <use x=\"86.279297\" xlink:href=\"#DejaVuSans-111\"/>\n     <use x=\"147.460938\" xlink:href=\"#DejaVuSans-100\"/>\n     <use x=\"210.9375\" xlink:href=\"#DejaVuSans-101\"/>\n     <use x=\"272.460938\" xlink:href=\"#DejaVuSans-108\"/>\n     <use x=\"300.244141\" xlink:href=\"#DejaVuSans-32\"/>\n     <use x=\"332.03125\" xlink:href=\"#DejaVuSans-108\"/>\n     <use x=\"359.814453\" xlink:href=\"#DejaVuSans-111\"/>\n     <use x=\"420.996094\" xlink:href=\"#DejaVuSans-115\"/>\n     <use x=\"473.095703\" xlink:href=\"#DejaVuSans-115\"/>\n    </g>\n   </g>\n   <g id=\"legend_1\">\n    <g id=\"patch_7\">\n     <path d=\"M 386.611932 59.674375 \nL 442.599432 59.674375 \nQ 444.599432 59.674375 444.599432 57.674375 \nL 444.599432 29.318125 \nQ 444.599432 27.318125 442.599432 27.318125 \nL 386.611932 27.318125 \nQ 384.611932 27.318125 384.611932 29.318125 \nL 384.611932 57.674375 \nQ 384.611932 59.674375 386.611932 59.674375 \nz\n\" style=\"fill:#ffffff;opacity:0.8;stroke:#cccccc;stroke-linejoin:miter;\"/>\n    </g>\n    <g id=\"line2d_17\">\n     <path d=\"M 388.611932 35.416562 \nL 408.611932 35.416562 \n\" style=\"fill:none;stroke:#0000ff;stroke-linecap:square;stroke-width:1.5;\"/>\n    </g>\n    <g id=\"line2d_18\">\n     <g>\n      <use style=\"fill:#0000ff;stroke:#0000ff;\" x=\"398.611932\" xlink:href=\"#m604a7f2f83\" y=\"35.416562\"/>\n     </g>\n    </g>\n    <g id=\"text_18\">\n     <!-- Train -->\n     <defs>\n      <path d=\"M -0.296875 72.90625 \nL 61.375 72.90625 \nL 61.375 64.59375 \nL 35.5 64.59375 \nL 35.5 0 \nL 25.59375 0 \nL 25.59375 64.59375 \nL -0.296875 64.59375 \nz\n\" id=\"DejaVuSans-84\"/>\n      <path d=\"M 41.109375 46.296875 \nQ 39.59375 47.171875 37.8125 47.578125 \nQ 36.03125 48 33.890625 48 \nQ 26.265625 48 22.1875 43.046875 \nQ 18.109375 38.09375 18.109375 28.8125 \nL 18.109375 0 \nL 9.078125 0 \nL 9.078125 54.6875 \nL 18.109375 54.6875 \nL 18.109375 46.1875 \nQ 20.953125 51.171875 25.484375 53.578125 \nQ 30.03125 56 36.53125 56 \nQ 37.453125 56 38.578125 55.875 \nQ 39.703125 55.765625 41.0625 55.515625 \nz\n\" id=\"DejaVuSans-114\"/>\n      <path d=\"M 34.28125 27.484375 \nQ 23.390625 27.484375 19.1875 25 \nQ 14.984375 22.515625 14.984375 16.5 \nQ 14.984375 11.71875 18.140625 8.90625 \nQ 21.296875 6.109375 26.703125 6.109375 \nQ 34.1875 6.109375 38.703125 11.40625 \nQ 43.21875 16.703125 43.21875 25.484375 \nL 43.21875 27.484375 \nz\nM 52.203125 31.203125 \nL 52.203125 0 \nL 43.21875 0 \nL 43.21875 8.296875 \nQ 40.140625 3.328125 35.546875 0.953125 \nQ 30.953125 -1.421875 24.3125 -1.421875 \nQ 15.921875 -1.421875 10.953125 3.296875 \nQ 6 8.015625 6 15.921875 \nQ 6 25.140625 12.171875 29.828125 \nQ 18.359375 34.515625 30.609375 34.515625 \nL 43.21875 34.515625 \nL 43.21875 35.40625 \nQ 43.21875 41.609375 39.140625 45 \nQ 35.0625 48.390625 27.6875 48.390625 \nQ 23 48.390625 18.546875 47.265625 \nQ 14.109375 46.140625 10.015625 43.890625 \nL 10.015625 52.203125 \nQ 14.9375 54.109375 19.578125 55.046875 \nQ 24.21875 56 28.609375 56 \nQ 40.484375 56 46.34375 49.84375 \nQ 52.203125 43.703125 52.203125 31.203125 \nz\n\" id=\"DejaVuSans-97\"/>\n      <path d=\"M 9.421875 54.6875 \nL 18.40625 54.6875 \nL 18.40625 0 \nL 9.421875 0 \nz\nM 9.421875 75.984375 \nL 18.40625 75.984375 \nL 18.40625 64.59375 \nL 9.421875 64.59375 \nz\n\" id=\"DejaVuSans-105\"/>\n      <path d=\"M 54.890625 33.015625 \nL 54.890625 0 \nL 45.90625 0 \nL 45.90625 32.71875 \nQ 45.90625 40.484375 42.875 44.328125 \nQ 39.84375 48.1875 33.796875 48.1875 \nQ 26.515625 48.1875 22.3125 43.546875 \nQ 18.109375 38.921875 18.109375 30.90625 \nL 18.109375 0 \nL 9.078125 0 \nL 9.078125 54.6875 \nL 18.109375 54.6875 \nL 18.109375 46.1875 \nQ 21.34375 51.125 25.703125 53.5625 \nQ 30.078125 56 35.796875 56 \nQ 45.21875 56 50.046875 50.171875 \nQ 54.890625 44.34375 54.890625 33.015625 \nz\n\" id=\"DejaVuSans-110\"/>\n     </defs>\n     <g transform=\"translate(416.611932 38.916562)scale(0.1 -0.1)\">\n      <use xlink:href=\"#DejaVuSans-84\"/>\n      <use x=\"46.333984\" xlink:href=\"#DejaVuSans-114\"/>\n      <use x=\"87.447266\" xlink:href=\"#DejaVuSans-97\"/>\n      <use x=\"148.726562\" xlink:href=\"#DejaVuSans-105\"/>\n      <use x=\"176.509766\" xlink:href=\"#DejaVuSans-110\"/>\n     </g>\n    </g>\n    <g id=\"line2d_19\">\n     <path d=\"M 388.611932 50.094688 \nL 408.611932 50.094688 \n\" style=\"fill:none;stroke:#ff0000;stroke-linecap:square;stroke-width:1.5;\"/>\n    </g>\n    <g id=\"line2d_20\">\n     <g>\n      <use style=\"fill:#ff0000;stroke:#ff0000;\" x=\"398.611932\" xlink:href=\"#m93639f56ba\" y=\"50.094688\"/>\n     </g>\n    </g>\n    <g id=\"text_19\">\n     <!-- Test -->\n     <defs>\n      <path d=\"M 18.3125 70.21875 \nL 18.3125 54.6875 \nL 36.8125 54.6875 \nL 36.8125 47.703125 \nL 18.3125 47.703125 \nL 18.3125 18.015625 \nQ 18.3125 11.328125 20.140625 9.421875 \nQ 21.96875 7.515625 27.59375 7.515625 \nL 36.8125 7.515625 \nL 36.8125 0 \nL 27.59375 0 \nQ 17.1875 0 13.234375 3.875 \nQ 9.28125 7.765625 9.28125 18.015625 \nL 9.28125 47.703125 \nL 2.6875 47.703125 \nL 2.6875 54.6875 \nL 9.28125 54.6875 \nL 9.28125 70.21875 \nz\n\" id=\"DejaVuSans-116\"/>\n     </defs>\n     <g transform=\"translate(416.611932 53.594688)scale(0.1 -0.1)\">\n      <use xlink:href=\"#DejaVuSans-84\"/>\n      <use x=\"44.083984\" xlink:href=\"#DejaVuSans-101\"/>\n      <use x=\"105.607422\" xlink:href=\"#DejaVuSans-115\"/>\n      <use x=\"157.707031\" xlink:href=\"#DejaVuSans-116\"/>\n     </g>\n    </g>\n   </g>\n  </g>\n  <g id=\"axes_2\">\n   <g id=\"patch_8\">\n    <path d=\"M 530.763068 294.118125 \nL 936.58125 294.118125 \nL 936.58125 22.318125 \nL 530.763068 22.318125 \nz\n\" style=\"fill:#ffffff;\"/>\n   </g>\n   <g id=\"matplotlib.axis_3\">\n    <g id=\"xtick_9\">\n     <g id=\"line2d_21\">\n      <g>\n       <use style=\"stroke:#000000;stroke-width:0.8;\" x=\"549.209349\" xlink:href=\"#m432ff8c883\" y=\"294.118125\"/>\n      </g>\n     </g>\n     <g id=\"text_20\">\n      <!-- 0.0 -->\n      <g transform=\"translate(541.257787 308.716563)scale(0.1 -0.1)\">\n       <use xlink:href=\"#DejaVuSans-48\"/>\n       <use x=\"63.623047\" xlink:href=\"#DejaVuSans-46\"/>\n       <use x=\"95.410156\" xlink:href=\"#DejaVuSans-48\"/>\n      </g>\n     </g>\n    </g>\n    <g id=\"xtick_10\">\n     <g id=\"line2d_22\">\n      <g>\n       <use style=\"stroke:#000000;stroke-width:0.8;\" x=\"597.752194\" xlink:href=\"#m432ff8c883\" y=\"294.118125\"/>\n      </g>\n     </g>\n     <g id=\"text_21\">\n      <!-- 2.5 -->\n      <g transform=\"translate(589.800631 308.716563)scale(0.1 -0.1)\">\n       <use xlink:href=\"#DejaVuSans-50\"/>\n       <use x=\"63.623047\" xlink:href=\"#DejaVuSans-46\"/>\n       <use x=\"95.410156\" xlink:href=\"#DejaVuSans-53\"/>\n      </g>\n     </g>\n    </g>\n    <g id=\"xtick_11\">\n     <g id=\"line2d_23\">\n      <g>\n       <use style=\"stroke:#000000;stroke-width:0.8;\" x=\"646.295039\" xlink:href=\"#m432ff8c883\" y=\"294.118125\"/>\n      </g>\n     </g>\n     <g id=\"text_22\">\n      <!-- 5.0 -->\n      <g transform=\"translate(638.343476 308.716563)scale(0.1 -0.1)\">\n       <use xlink:href=\"#DejaVuSans-53\"/>\n       <use x=\"63.623047\" xlink:href=\"#DejaVuSans-46\"/>\n       <use x=\"95.410156\" xlink:href=\"#DejaVuSans-48\"/>\n      </g>\n     </g>\n    </g>\n    <g id=\"xtick_12\">\n     <g id=\"line2d_24\">\n      <g>\n       <use style=\"stroke:#000000;stroke-width:0.8;\" x=\"694.837883\" xlink:href=\"#m432ff8c883\" y=\"294.118125\"/>\n      </g>\n     </g>\n     <g id=\"text_23\">\n      <!-- 7.5 -->\n      <g transform=\"translate(686.886321 308.716563)scale(0.1 -0.1)\">\n       <use xlink:href=\"#DejaVuSans-55\"/>\n       <use x=\"63.623047\" xlink:href=\"#DejaVuSans-46\"/>\n       <use x=\"95.410156\" xlink:href=\"#DejaVuSans-53\"/>\n      </g>\n     </g>\n    </g>\n    <g id=\"xtick_13\">\n     <g id=\"line2d_25\">\n      <g>\n       <use style=\"stroke:#000000;stroke-width:0.8;\" x=\"743.380728\" xlink:href=\"#m432ff8c883\" y=\"294.118125\"/>\n      </g>\n     </g>\n     <g id=\"text_24\">\n      <!-- 10.0 -->\n      <g transform=\"translate(732.247916 308.716563)scale(0.1 -0.1)\">\n       <use xlink:href=\"#DejaVuSans-49\"/>\n       <use x=\"63.623047\" xlink:href=\"#DejaVuSans-48\"/>\n       <use x=\"127.246094\" xlink:href=\"#DejaVuSans-46\"/>\n       <use x=\"159.033203\" xlink:href=\"#DejaVuSans-48\"/>\n      </g>\n     </g>\n    </g>\n    <g id=\"xtick_14\">\n     <g id=\"line2d_26\">\n      <g>\n       <use style=\"stroke:#000000;stroke-width:0.8;\" x=\"791.923573\" xlink:href=\"#m432ff8c883\" y=\"294.118125\"/>\n      </g>\n     </g>\n     <g id=\"text_25\">\n      <!-- 12.5 -->\n      <g transform=\"translate(780.79076 308.716563)scale(0.1 -0.1)\">\n       <use xlink:href=\"#DejaVuSans-49\"/>\n       <use x=\"63.623047\" xlink:href=\"#DejaVuSans-50\"/>\n       <use x=\"127.246094\" xlink:href=\"#DejaVuSans-46\"/>\n       <use x=\"159.033203\" xlink:href=\"#DejaVuSans-53\"/>\n      </g>\n     </g>\n    </g>\n    <g id=\"xtick_15\">\n     <g id=\"line2d_27\">\n      <g>\n       <use style=\"stroke:#000000;stroke-width:0.8;\" x=\"840.466417\" xlink:href=\"#m432ff8c883\" y=\"294.118125\"/>\n      </g>\n     </g>\n     <g id=\"text_26\">\n      <!-- 15.0 -->\n      <g transform=\"translate(829.333605 308.716563)scale(0.1 -0.1)\">\n       <use xlink:href=\"#DejaVuSans-49\"/>\n       <use x=\"63.623047\" xlink:href=\"#DejaVuSans-53\"/>\n       <use x=\"127.246094\" xlink:href=\"#DejaVuSans-46\"/>\n       <use x=\"159.033203\" xlink:href=\"#DejaVuSans-48\"/>\n      </g>\n     </g>\n    </g>\n    <g id=\"xtick_16\">\n     <g id=\"line2d_28\">\n      <g>\n       <use style=\"stroke:#000000;stroke-width:0.8;\" x=\"889.009262\" xlink:href=\"#m432ff8c883\" y=\"294.118125\"/>\n      </g>\n     </g>\n     <g id=\"text_27\">\n      <!-- 17.5 -->\n      <g transform=\"translate(877.87645 308.716563)scale(0.1 -0.1)\">\n       <use xlink:href=\"#DejaVuSans-49\"/>\n       <use x=\"63.623047\" xlink:href=\"#DejaVuSans-55\"/>\n       <use x=\"127.246094\" xlink:href=\"#DejaVuSans-46\"/>\n       <use x=\"159.033203\" xlink:href=\"#DejaVuSans-53\"/>\n      </g>\n     </g>\n    </g>\n    <g id=\"text_28\">\n     <!-- Epochs -->\n     <g transform=\"translate(715.756534 322.394687)scale(0.1 -0.1)\">\n      <use xlink:href=\"#DejaVuSans-69\"/>\n      <use x=\"63.183594\" xlink:href=\"#DejaVuSans-112\"/>\n      <use x=\"126.660156\" xlink:href=\"#DejaVuSans-111\"/>\n      <use x=\"187.841797\" xlink:href=\"#DejaVuSans-99\"/>\n      <use x=\"242.822266\" xlink:href=\"#DejaVuSans-104\"/>\n      <use x=\"306.201172\" xlink:href=\"#DejaVuSans-115\"/>\n     </g>\n    </g>\n   </g>\n   <g id=\"matplotlib.axis_4\">\n    <g id=\"ytick_7\">\n     <g id=\"line2d_29\">\n      <g>\n       <use style=\"stroke:#000000;stroke-width:0.8;\" x=\"530.763068\" xlink:href=\"#m3a56a05cd3\" y=\"288.211685\"/>\n      </g>\n     </g>\n     <g id=\"text_29\">\n      <!-- 45 -->\n      <g transform=\"translate(511.038068 292.010904)scale(0.1 -0.1)\">\n       <use xlink:href=\"#DejaVuSans-52\"/>\n       <use x=\"63.623047\" xlink:href=\"#DejaVuSans-53\"/>\n      </g>\n     </g>\n    </g>\n    <g id=\"ytick_8\">\n     <g id=\"line2d_30\">\n      <g>\n       <use style=\"stroke:#000000;stroke-width:0.8;\" x=\"530.763068\" xlink:href=\"#m3a56a05cd3\" y=\"257.379364\"/>\n      </g>\n     </g>\n     <g id=\"text_30\">\n      <!-- 50 -->\n      <g transform=\"translate(511.038068 261.178583)scale(0.1 -0.1)\">\n       <use xlink:href=\"#DejaVuSans-53\"/>\n       <use x=\"63.623047\" xlink:href=\"#DejaVuSans-48\"/>\n      </g>\n     </g>\n    </g>\n    <g id=\"ytick_9\">\n     <g id=\"line2d_31\">\n      <g>\n       <use style=\"stroke:#000000;stroke-width:0.8;\" x=\"530.763068\" xlink:href=\"#m3a56a05cd3\" y=\"226.547044\"/>\n      </g>\n     </g>\n     <g id=\"text_31\">\n      <!-- 55 -->\n      <g transform=\"translate(511.038068 230.346263)scale(0.1 -0.1)\">\n       <use xlink:href=\"#DejaVuSans-53\"/>\n       <use x=\"63.623047\" xlink:href=\"#DejaVuSans-53\"/>\n      </g>\n     </g>\n    </g>\n    <g id=\"ytick_10\">\n     <g id=\"line2d_32\">\n      <g>\n       <use style=\"stroke:#000000;stroke-width:0.8;\" x=\"530.763068\" xlink:href=\"#m3a56a05cd3\" y=\"195.714723\"/>\n      </g>\n     </g>\n     <g id=\"text_32\">\n      <!-- 60 -->\n      <g transform=\"translate(511.038068 199.513942)scale(0.1 -0.1)\">\n       <use xlink:href=\"#DejaVuSans-54\"/>\n       <use x=\"63.623047\" xlink:href=\"#DejaVuSans-48\"/>\n      </g>\n     </g>\n    </g>\n    <g id=\"ytick_11\">\n     <g id=\"line2d_33\">\n      <g>\n       <use style=\"stroke:#000000;stroke-width:0.8;\" x=\"530.763068\" xlink:href=\"#m3a56a05cd3\" y=\"164.882403\"/>\n      </g>\n     </g>\n     <g id=\"text_33\">\n      <!-- 65 -->\n      <g transform=\"translate(511.038068 168.681621)scale(0.1 -0.1)\">\n       <use xlink:href=\"#DejaVuSans-54\"/>\n       <use x=\"63.623047\" xlink:href=\"#DejaVuSans-53\"/>\n      </g>\n     </g>\n    </g>\n    <g id=\"ytick_12\">\n     <g id=\"line2d_34\">\n      <g>\n       <use style=\"stroke:#000000;stroke-width:0.8;\" x=\"530.763068\" xlink:href=\"#m3a56a05cd3\" y=\"134.050082\"/>\n      </g>\n     </g>\n     <g id=\"text_34\">\n      <!-- 70 -->\n      <g transform=\"translate(511.038068 137.849301)scale(0.1 -0.1)\">\n       <use xlink:href=\"#DejaVuSans-55\"/>\n       <use x=\"63.623047\" xlink:href=\"#DejaVuSans-48\"/>\n      </g>\n     </g>\n    </g>\n    <g id=\"ytick_13\">\n     <g id=\"line2d_35\">\n      <g>\n       <use style=\"stroke:#000000;stroke-width:0.8;\" x=\"530.763068\" xlink:href=\"#m3a56a05cd3\" y=\"103.217761\"/>\n      </g>\n     </g>\n     <g id=\"text_35\">\n      <!-- 75 -->\n      <g transform=\"translate(511.038068 107.01698)scale(0.1 -0.1)\">\n       <use xlink:href=\"#DejaVuSans-55\"/>\n       <use x=\"63.623047\" xlink:href=\"#DejaVuSans-53\"/>\n      </g>\n     </g>\n    </g>\n    <g id=\"ytick_14\">\n     <g id=\"line2d_36\">\n      <g>\n       <use style=\"stroke:#000000;stroke-width:0.8;\" x=\"530.763068\" xlink:href=\"#m3a56a05cd3\" y=\"72.385441\"/>\n      </g>\n     </g>\n     <g id=\"text_36\">\n      <!-- 80 -->\n      <g transform=\"translate(511.038068 76.18466)scale(0.1 -0.1)\">\n       <use xlink:href=\"#DejaVuSans-56\"/>\n       <use x=\"63.623047\" xlink:href=\"#DejaVuSans-48\"/>\n      </g>\n     </g>\n    </g>\n    <g id=\"ytick_15\">\n     <g id=\"line2d_37\">\n      <g>\n       <use style=\"stroke:#000000;stroke-width:0.8;\" x=\"530.763068\" xlink:href=\"#m3a56a05cd3\" y=\"41.55312\"/>\n      </g>\n     </g>\n     <g id=\"text_37\">\n      <!-- 85 -->\n      <g transform=\"translate(511.038068 45.352339)scale(0.1 -0.1)\">\n       <use xlink:href=\"#DejaVuSans-56\"/>\n       <use x=\"63.623047\" xlink:href=\"#DejaVuSans-53\"/>\n      </g>\n     </g>\n    </g>\n    <g id=\"text_38\">\n     <!-- Accuracy (%) -->\n     <defs>\n      <path d=\"M 34.1875 63.1875 \nL 20.796875 26.90625 \nL 47.609375 26.90625 \nz\nM 28.609375 72.90625 \nL 39.796875 72.90625 \nL 67.578125 0 \nL 57.328125 0 \nL 50.6875 18.703125 \nL 17.828125 18.703125 \nL 11.1875 0 \nL 0.78125 0 \nz\n\" id=\"DejaVuSans-65\"/>\n      <path d=\"M 8.5 21.578125 \nL 8.5 54.6875 \nL 17.484375 54.6875 \nL 17.484375 21.921875 \nQ 17.484375 14.15625 20.5 10.265625 \nQ 23.53125 6.390625 29.59375 6.390625 \nQ 36.859375 6.390625 41.078125 11.03125 \nQ 45.3125 15.671875 45.3125 23.6875 \nL 45.3125 54.6875 \nL 54.296875 54.6875 \nL 54.296875 0 \nL 45.3125 0 \nL 45.3125 8.40625 \nQ 42.046875 3.421875 37.71875 1 \nQ 33.40625 -1.421875 27.6875 -1.421875 \nQ 18.265625 -1.421875 13.375 4.4375 \nQ 8.5 10.296875 8.5 21.578125 \nz\nM 31.109375 56 \nz\n\" id=\"DejaVuSans-117\"/>\n      <path d=\"M 32.171875 -5.078125 \nQ 28.375 -14.84375 24.75 -17.8125 \nQ 21.140625 -20.796875 15.09375 -20.796875 \nL 7.90625 -20.796875 \nL 7.90625 -13.28125 \nL 13.1875 -13.28125 \nQ 16.890625 -13.28125 18.9375 -11.515625 \nQ 21 -9.765625 23.484375 -3.21875 \nL 25.09375 0.875 \nL 2.984375 54.6875 \nL 12.5 54.6875 \nL 29.59375 11.921875 \nL 46.6875 54.6875 \nL 56.203125 54.6875 \nz\n\" id=\"DejaVuSans-121\"/>\n      <path d=\"M 31 75.875 \nQ 24.46875 64.65625 21.28125 53.65625 \nQ 18.109375 42.671875 18.109375 31.390625 \nQ 18.109375 20.125 21.3125 9.0625 \nQ 24.515625 -2 31 -13.1875 \nL 23.1875 -13.1875 \nQ 15.875 -1.703125 12.234375 9.375 \nQ 8.59375 20.453125 8.59375 31.390625 \nQ 8.59375 42.28125 12.203125 53.3125 \nQ 15.828125 64.359375 23.1875 75.875 \nz\n\" id=\"DejaVuSans-40\"/>\n      <path d=\"M 72.703125 32.078125 \nQ 68.453125 32.078125 66.03125 28.46875 \nQ 63.625 24.859375 63.625 18.40625 \nQ 63.625 12.0625 66.03125 8.421875 \nQ 68.453125 4.78125 72.703125 4.78125 \nQ 76.859375 4.78125 79.265625 8.421875 \nQ 81.6875 12.0625 81.6875 18.40625 \nQ 81.6875 24.8125 79.265625 28.4375 \nQ 76.859375 32.078125 72.703125 32.078125 \nz\nM 72.703125 38.28125 \nQ 80.421875 38.28125 84.953125 32.90625 \nQ 89.5 27.546875 89.5 18.40625 \nQ 89.5 9.28125 84.9375 3.921875 \nQ 80.375 -1.421875 72.703125 -1.421875 \nQ 64.890625 -1.421875 60.34375 3.921875 \nQ 55.8125 9.28125 55.8125 18.40625 \nQ 55.8125 27.59375 60.375 32.9375 \nQ 64.9375 38.28125 72.703125 38.28125 \nz\nM 22.3125 68.015625 \nQ 18.109375 68.015625 15.6875 64.375 \nQ 13.28125 60.75 13.28125 54.390625 \nQ 13.28125 47.953125 15.671875 44.328125 \nQ 18.0625 40.71875 22.3125 40.71875 \nQ 26.5625 40.71875 28.96875 44.328125 \nQ 31.390625 47.953125 31.390625 54.390625 \nQ 31.390625 60.6875 28.953125 64.34375 \nQ 26.515625 68.015625 22.3125 68.015625 \nz\nM 66.40625 74.21875 \nL 74.21875 74.21875 \nL 28.609375 -1.421875 \nL 20.796875 -1.421875 \nz\nM 22.3125 74.21875 \nQ 30.03125 74.21875 34.609375 68.875 \nQ 39.203125 63.53125 39.203125 54.390625 \nQ 39.203125 45.171875 34.640625 39.84375 \nQ 30.078125 34.515625 22.3125 34.515625 \nQ 14.546875 34.515625 10.03125 39.859375 \nQ 5.515625 45.21875 5.515625 54.390625 \nQ 5.515625 63.484375 10.046875 68.84375 \nQ 14.59375 74.21875 22.3125 74.21875 \nz\n\" id=\"DejaVuSans-37\"/>\n      <path d=\"M 8.015625 75.875 \nL 15.828125 75.875 \nQ 23.140625 64.359375 26.78125 53.3125 \nQ 30.421875 42.28125 30.421875 31.390625 \nQ 30.421875 20.453125 26.78125 9.375 \nQ 23.140625 -1.703125 15.828125 -13.1875 \nL 8.015625 -13.1875 \nQ 14.5 -2 17.703125 9.0625 \nQ 20.90625 20.125 20.90625 31.390625 \nQ 20.90625 42.671875 17.703125 53.65625 \nQ 14.5 64.65625 8.015625 75.875 \nz\n\" id=\"DejaVuSans-41\"/>\n     </defs>\n     <g transform=\"translate(504.958381 191.287656)rotate(-90)scale(0.1 -0.1)\">\n      <use xlink:href=\"#DejaVuSans-65\"/>\n      <use x=\"66.658203\" xlink:href=\"#DejaVuSans-99\"/>\n      <use x=\"121.638672\" xlink:href=\"#DejaVuSans-99\"/>\n      <use x=\"176.619141\" xlink:href=\"#DejaVuSans-117\"/>\n      <use x=\"239.998047\" xlink:href=\"#DejaVuSans-114\"/>\n      <use x=\"281.111328\" xlink:href=\"#DejaVuSans-97\"/>\n      <use x=\"342.390625\" xlink:href=\"#DejaVuSans-99\"/>\n      <use x=\"397.371094\" xlink:href=\"#DejaVuSans-121\"/>\n      <use x=\"456.550781\" xlink:href=\"#DejaVuSans-32\"/>\n      <use x=\"488.337891\" xlink:href=\"#DejaVuSans-40\"/>\n      <use x=\"527.351562\" xlink:href=\"#DejaVuSans-37\"/>\n      <use x=\"622.371094\" xlink:href=\"#DejaVuSans-41\"/>\n     </g>\n    </g>\n   </g>\n   <g id=\"line2d_38\">\n    <path clip-path=\"url(#p5103857c88)\" d=\"M 549.209349 281.76358 \nL 568.626487 177.247448 \nL 588.043625 144.413991 \nL 607.460763 122.52502 \nL 626.877901 106.157702 \nL 646.295039 95.707324 \nL 665.712176 88.406883 \nL 685.129314 79.920583 \nL 704.546452 73.101897 \nL 723.96359 68.543753 \nL 743.380728 61.169196 \nL 762.797866 57.092807 \nL 782.215004 54.511095 \nL 801.632142 50.372943 \nL 821.04928 47.136537 \nL 840.466417 44.616588 \nL 859.883555 41.219598 \nL 879.300693 39.477868 \nL 898.717831 37.106151 \nL 918.134969 34.67267 \n\" style=\"fill:none;stroke:#0000ff;stroke-linecap:square;stroke-width:1.5;\"/>\n    <g clip-path=\"url(#p5103857c88)\">\n     <use style=\"fill:#0000ff;stroke:#0000ff;\" x=\"549.209349\" xlink:href=\"#m604a7f2f83\" y=\"281.76358\"/>\n     <use style=\"fill:#0000ff;stroke:#0000ff;\" x=\"568.626487\" xlink:href=\"#m604a7f2f83\" y=\"177.247448\"/>\n     <use style=\"fill:#0000ff;stroke:#0000ff;\" x=\"588.043625\" xlink:href=\"#m604a7f2f83\" y=\"144.413991\"/>\n     <use style=\"fill:#0000ff;stroke:#0000ff;\" x=\"607.460763\" xlink:href=\"#m604a7f2f83\" y=\"122.52502\"/>\n     <use style=\"fill:#0000ff;stroke:#0000ff;\" x=\"626.877901\" xlink:href=\"#m604a7f2f83\" y=\"106.157702\"/>\n     <use style=\"fill:#0000ff;stroke:#0000ff;\" x=\"646.295039\" xlink:href=\"#m604a7f2f83\" y=\"95.707324\"/>\n     <use style=\"fill:#0000ff;stroke:#0000ff;\" x=\"665.712176\" xlink:href=\"#m604a7f2f83\" y=\"88.406883\"/>\n     <use style=\"fill:#0000ff;stroke:#0000ff;\" x=\"685.129314\" xlink:href=\"#m604a7f2f83\" y=\"79.920583\"/>\n     <use style=\"fill:#0000ff;stroke:#0000ff;\" x=\"704.546452\" xlink:href=\"#m604a7f2f83\" y=\"73.101897\"/>\n     <use style=\"fill:#0000ff;stroke:#0000ff;\" x=\"723.96359\" xlink:href=\"#m604a7f2f83\" y=\"68.543753\"/>\n     <use style=\"fill:#0000ff;stroke:#0000ff;\" x=\"743.380728\" xlink:href=\"#m604a7f2f83\" y=\"61.169196\"/>\n     <use style=\"fill:#0000ff;stroke:#0000ff;\" x=\"762.797866\" xlink:href=\"#m604a7f2f83\" y=\"57.092807\"/>\n     <use style=\"fill:#0000ff;stroke:#0000ff;\" x=\"782.215004\" xlink:href=\"#m604a7f2f83\" y=\"54.511095\"/>\n     <use style=\"fill:#0000ff;stroke:#0000ff;\" x=\"801.632142\" xlink:href=\"#m604a7f2f83\" y=\"50.372943\"/>\n     <use style=\"fill:#0000ff;stroke:#0000ff;\" x=\"821.04928\" xlink:href=\"#m604a7f2f83\" y=\"47.136537\"/>\n     <use style=\"fill:#0000ff;stroke:#0000ff;\" x=\"840.466417\" xlink:href=\"#m604a7f2f83\" y=\"44.616588\"/>\n     <use style=\"fill:#0000ff;stroke:#0000ff;\" x=\"859.883555\" xlink:href=\"#m604a7f2f83\" y=\"41.219598\"/>\n     <use style=\"fill:#0000ff;stroke:#0000ff;\" x=\"879.300693\" xlink:href=\"#m604a7f2f83\" y=\"39.477868\"/>\n     <use style=\"fill:#0000ff;stroke:#0000ff;\" x=\"898.717831\" xlink:href=\"#m604a7f2f83\" y=\"37.106151\"/>\n     <use style=\"fill:#0000ff;stroke:#0000ff;\" x=\"918.134969\" xlink:href=\"#m604a7f2f83\" y=\"34.67267\"/>\n    </g>\n   </g>\n   <g id=\"line2d_39\">\n    <path clip-path=\"url(#p5103857c88)\" d=\"M 549.209349 196.639685 \nL 568.626487 159.887561 \nL 588.043625 141.634849 \nL 607.460763 111.85081 \nL 626.877901 108.767581 \nL 646.295039 95.324701 \nL 665.712176 97.544629 \nL 685.129314 102.909461 \nL 704.546452 84.101748 \nL 723.96359 86.321676 \nL 743.380728 99.271231 \nL 762.797866 65.725686 \nL 782.215004 78.428579 \nL 801.632142 88.78823 \nL 821.04928 68.377265 \nL 840.466417 76.701976 \nL 859.883555 67.698952 \nL 879.300693 61.100806 \nL 898.717831 57.030963 \nL 918.134969 76.270326 \n\" style=\"fill:none;stroke:#ff0000;stroke-linecap:square;stroke-width:1.5;\"/>\n    <g clip-path=\"url(#p5103857c88)\">\n     <use style=\"fill:#ff0000;stroke:#ff0000;\" x=\"549.209349\" xlink:href=\"#m93639f56ba\" y=\"196.639685\"/>\n     <use style=\"fill:#ff0000;stroke:#ff0000;\" x=\"568.626487\" xlink:href=\"#m93639f56ba\" y=\"159.887561\"/>\n     <use style=\"fill:#ff0000;stroke:#ff0000;\" x=\"588.043625\" xlink:href=\"#m93639f56ba\" y=\"141.634849\"/>\n     <use style=\"fill:#ff0000;stroke:#ff0000;\" x=\"607.460763\" xlink:href=\"#m93639f56ba\" y=\"111.85081\"/>\n     <use style=\"fill:#ff0000;stroke:#ff0000;\" x=\"626.877901\" xlink:href=\"#m93639f56ba\" y=\"108.767581\"/>\n     <use style=\"fill:#ff0000;stroke:#ff0000;\" x=\"646.295039\" xlink:href=\"#m93639f56ba\" y=\"95.324701\"/>\n     <use style=\"fill:#ff0000;stroke:#ff0000;\" x=\"665.712176\" xlink:href=\"#m93639f56ba\" y=\"97.544629\"/>\n     <use style=\"fill:#ff0000;stroke:#ff0000;\" x=\"685.129314\" xlink:href=\"#m93639f56ba\" y=\"102.909461\"/>\n     <use style=\"fill:#ff0000;stroke:#ff0000;\" x=\"704.546452\" xlink:href=\"#m93639f56ba\" y=\"84.101748\"/>\n     <use style=\"fill:#ff0000;stroke:#ff0000;\" x=\"723.96359\" xlink:href=\"#m93639f56ba\" y=\"86.321676\"/>\n     <use style=\"fill:#ff0000;stroke:#ff0000;\" x=\"743.380728\" xlink:href=\"#m93639f56ba\" y=\"99.271231\"/>\n     <use style=\"fill:#ff0000;stroke:#ff0000;\" x=\"762.797866\" xlink:href=\"#m93639f56ba\" y=\"65.725686\"/>\n     <use style=\"fill:#ff0000;stroke:#ff0000;\" x=\"782.215004\" xlink:href=\"#m93639f56ba\" y=\"78.428579\"/>\n     <use style=\"fill:#ff0000;stroke:#ff0000;\" x=\"801.632142\" xlink:href=\"#m93639f56ba\" y=\"88.78823\"/>\n     <use style=\"fill:#ff0000;stroke:#ff0000;\" x=\"821.04928\" xlink:href=\"#m93639f56ba\" y=\"68.377265\"/>\n     <use style=\"fill:#ff0000;stroke:#ff0000;\" x=\"840.466417\" xlink:href=\"#m93639f56ba\" y=\"76.701976\"/>\n     <use style=\"fill:#ff0000;stroke:#ff0000;\" x=\"859.883555\" xlink:href=\"#m93639f56ba\" y=\"67.698952\"/>\n     <use style=\"fill:#ff0000;stroke:#ff0000;\" x=\"879.300693\" xlink:href=\"#m93639f56ba\" y=\"61.100806\"/>\n     <use style=\"fill:#ff0000;stroke:#ff0000;\" x=\"898.717831\" xlink:href=\"#m93639f56ba\" y=\"57.030963\"/>\n     <use style=\"fill:#ff0000;stroke:#ff0000;\" x=\"918.134969\" xlink:href=\"#m93639f56ba\" y=\"76.270326\"/>\n    </g>\n   </g>\n   <g id=\"patch_9\">\n    <path d=\"M 530.763068 294.118125 \nL 530.763068 22.318125 \n\" style=\"fill:none;stroke:#000000;stroke-linecap:square;stroke-linejoin:miter;stroke-width:0.8;\"/>\n   </g>\n   <g id=\"patch_10\">\n    <path d=\"M 936.58125 294.118125 \nL 936.58125 22.318125 \n\" style=\"fill:none;stroke:#000000;stroke-linecap:square;stroke-linejoin:miter;stroke-width:0.8;\"/>\n   </g>\n   <g id=\"patch_11\">\n    <path d=\"M 530.763068 294.118125 \nL 936.58125 294.118125 \n\" style=\"fill:none;stroke:#000000;stroke-linecap:square;stroke-linejoin:miter;stroke-width:0.8;\"/>\n   </g>\n   <g id=\"patch_12\">\n    <path d=\"M 530.763068 22.318125 \nL 936.58125 22.318125 \n\" style=\"fill:none;stroke:#000000;stroke-linecap:square;stroke-linejoin:miter;stroke-width:0.8;\"/>\n   </g>\n   <g id=\"text_39\">\n    <!-- Final model test accuracy: 79.37% -->\n    <defs>\n     <path d=\"M 9.8125 72.90625 \nL 51.703125 72.90625 \nL 51.703125 64.59375 \nL 19.671875 64.59375 \nL 19.671875 43.109375 \nL 48.578125 43.109375 \nL 48.578125 34.8125 \nL 19.671875 34.8125 \nL 19.671875 0 \nL 9.8125 0 \nz\n\" id=\"DejaVuSans-70\"/>\n     <path d=\"M 52 44.1875 \nQ 55.375 50.25 60.0625 53.125 \nQ 64.75 56 71.09375 56 \nQ 79.640625 56 84.28125 50.015625 \nQ 88.921875 44.046875 88.921875 33.015625 \nL 88.921875 0 \nL 79.890625 0 \nL 79.890625 32.71875 \nQ 79.890625 40.578125 77.09375 44.375 \nQ 74.3125 48.1875 68.609375 48.1875 \nQ 61.625 48.1875 57.5625 43.546875 \nQ 53.515625 38.921875 53.515625 30.90625 \nL 53.515625 0 \nL 44.484375 0 \nL 44.484375 32.71875 \nQ 44.484375 40.625 41.703125 44.40625 \nQ 38.921875 48.1875 33.109375 48.1875 \nQ 26.21875 48.1875 22.15625 43.53125 \nQ 18.109375 38.875 18.109375 30.90625 \nL 18.109375 0 \nL 9.078125 0 \nL 9.078125 54.6875 \nL 18.109375 54.6875 \nL 18.109375 46.1875 \nQ 21.1875 51.21875 25.484375 53.609375 \nQ 29.78125 56 35.6875 56 \nQ 41.65625 56 45.828125 52.96875 \nQ 50 49.953125 52 44.1875 \nz\n\" id=\"DejaVuSans-109\"/>\n     <path d=\"M 11.71875 12.40625 \nL 22.015625 12.40625 \nL 22.015625 0 \nL 11.71875 0 \nz\nM 11.71875 51.703125 \nL 22.015625 51.703125 \nL 22.015625 39.3125 \nL 11.71875 39.3125 \nz\n\" id=\"DejaVuSans-58\"/>\n     <path d=\"M 10.984375 1.515625 \nL 10.984375 10.5 \nQ 14.703125 8.734375 18.5 7.8125 \nQ 22.3125 6.890625 25.984375 6.890625 \nQ 35.75 6.890625 40.890625 13.453125 \nQ 46.046875 20.015625 46.78125 33.40625 \nQ 43.953125 29.203125 39.59375 26.953125 \nQ 35.25 24.703125 29.984375 24.703125 \nQ 19.046875 24.703125 12.671875 31.3125 \nQ 6.296875 37.9375 6.296875 49.421875 \nQ 6.296875 60.640625 12.9375 67.421875 \nQ 19.578125 74.21875 30.609375 74.21875 \nQ 43.265625 74.21875 49.921875 64.515625 \nQ 56.59375 54.828125 56.59375 36.375 \nQ 56.59375 19.140625 48.40625 8.859375 \nQ 40.234375 -1.421875 26.421875 -1.421875 \nQ 22.703125 -1.421875 18.890625 -0.6875 \nQ 15.09375 0.046875 10.984375 1.515625 \nz\nM 30.609375 32.421875 \nQ 37.25 32.421875 41.125 36.953125 \nQ 45.015625 41.5 45.015625 49.421875 \nQ 45.015625 57.28125 41.125 61.84375 \nQ 37.25 66.40625 30.609375 66.40625 \nQ 23.96875 66.40625 20.09375 61.84375 \nQ 16.21875 57.28125 16.21875 49.421875 \nQ 16.21875 41.5 20.09375 36.953125 \nQ 23.96875 32.421875 30.609375 32.421875 \nz\n\" id=\"DejaVuSans-57\"/>\n     <path d=\"M 40.578125 39.3125 \nQ 47.65625 37.796875 51.625 33 \nQ 55.609375 28.21875 55.609375 21.1875 \nQ 55.609375 10.40625 48.1875 4.484375 \nQ 40.765625 -1.421875 27.09375 -1.421875 \nQ 22.515625 -1.421875 17.65625 -0.515625 \nQ 12.796875 0.390625 7.625 2.203125 \nL 7.625 11.71875 \nQ 11.71875 9.328125 16.59375 8.109375 \nQ 21.484375 6.890625 26.8125 6.890625 \nQ 36.078125 6.890625 40.9375 10.546875 \nQ 45.796875 14.203125 45.796875 21.1875 \nQ 45.796875 27.640625 41.28125 31.265625 \nQ 36.765625 34.90625 28.71875 34.90625 \nL 20.21875 34.90625 \nL 20.21875 43.015625 \nL 29.109375 43.015625 \nQ 36.375 43.015625 40.234375 45.921875 \nQ 44.09375 48.828125 44.09375 54.296875 \nQ 44.09375 59.90625 40.109375 62.90625 \nQ 36.140625 65.921875 28.71875 65.921875 \nQ 24.65625 65.921875 20.015625 65.03125 \nQ 15.375 64.15625 9.8125 62.3125 \nL 9.8125 71.09375 \nQ 15.4375 72.65625 20.34375 73.4375 \nQ 25.25 74.21875 29.59375 74.21875 \nQ 40.828125 74.21875 47.359375 69.109375 \nQ 53.90625 64.015625 53.90625 55.328125 \nQ 53.90625 49.265625 50.4375 45.09375 \nQ 46.96875 40.921875 40.578125 39.3125 \nz\n\" id=\"DejaVuSans-51\"/>\n    </defs>\n    <g transform=\"translate(630.474972 16.318125)scale(0.12 -0.12)\">\n     <use xlink:href=\"#DejaVuSans-70\"/>\n     <use x=\"50.269531\" xlink:href=\"#DejaVuSans-105\"/>\n     <use x=\"78.052734\" xlink:href=\"#DejaVuSans-110\"/>\n     <use x=\"141.431641\" xlink:href=\"#DejaVuSans-97\"/>\n     <use x=\"202.710938\" xlink:href=\"#DejaVuSans-108\"/>\n     <use x=\"230.494141\" xlink:href=\"#DejaVuSans-32\"/>\n     <use x=\"262.28125\" xlink:href=\"#DejaVuSans-109\"/>\n     <use x=\"359.693359\" xlink:href=\"#DejaVuSans-111\"/>\n     <use x=\"420.875\" xlink:href=\"#DejaVuSans-100\"/>\n     <use x=\"484.351562\" xlink:href=\"#DejaVuSans-101\"/>\n     <use x=\"545.875\" xlink:href=\"#DejaVuSans-108\"/>\n     <use x=\"573.658203\" xlink:href=\"#DejaVuSans-32\"/>\n     <use x=\"605.445312\" xlink:href=\"#DejaVuSans-116\"/>\n     <use x=\"644.654297\" xlink:href=\"#DejaVuSans-101\"/>\n     <use x=\"706.177734\" xlink:href=\"#DejaVuSans-115\"/>\n     <use x=\"758.277344\" xlink:href=\"#DejaVuSans-116\"/>\n     <use x=\"797.486328\" xlink:href=\"#DejaVuSans-32\"/>\n     <use x=\"829.273438\" xlink:href=\"#DejaVuSans-97\"/>\n     <use x=\"890.552734\" xlink:href=\"#DejaVuSans-99\"/>\n     <use x=\"945.533203\" xlink:href=\"#DejaVuSans-99\"/>\n     <use x=\"1000.513672\" xlink:href=\"#DejaVuSans-117\"/>\n     <use x=\"1063.892578\" xlink:href=\"#DejaVuSans-114\"/>\n     <use x=\"1105.005859\" xlink:href=\"#DejaVuSans-97\"/>\n     <use x=\"1166.285156\" xlink:href=\"#DejaVuSans-99\"/>\n     <use x=\"1221.265625\" xlink:href=\"#DejaVuSans-121\"/>\n     <use x=\"1273.195312\" xlink:href=\"#DejaVuSans-58\"/>\n     <use x=\"1306.886719\" xlink:href=\"#DejaVuSans-32\"/>\n     <use x=\"1338.673828\" xlink:href=\"#DejaVuSans-55\"/>\n     <use x=\"1402.296875\" xlink:href=\"#DejaVuSans-57\"/>\n     <use x=\"1465.919922\" xlink:href=\"#DejaVuSans-46\"/>\n     <use x=\"1497.707031\" xlink:href=\"#DejaVuSans-51\"/>\n     <use x=\"1561.330078\" xlink:href=\"#DejaVuSans-55\"/>\n     <use x=\"1624.953125\" xlink:href=\"#DejaVuSans-37\"/>\n    </g>\n   </g>\n   <g id=\"legend_2\">\n    <g id=\"patch_13\">\n     <path d=\"M 537.763068 59.674375 \nL 593.750568 59.674375 \nQ 595.750568 59.674375 595.750568 57.674375 \nL 595.750568 29.318125 \nQ 595.750568 27.318125 593.750568 27.318125 \nL 537.763068 27.318125 \nQ 535.763068 27.318125 535.763068 29.318125 \nL 535.763068 57.674375 \nQ 535.763068 59.674375 537.763068 59.674375 \nz\n\" style=\"fill:#ffffff;opacity:0.8;stroke:#cccccc;stroke-linejoin:miter;\"/>\n    </g>\n    <g id=\"line2d_40\">\n     <path d=\"M 539.763068 35.416562 \nL 559.763068 35.416562 \n\" style=\"fill:none;stroke:#0000ff;stroke-linecap:square;stroke-width:1.5;\"/>\n    </g>\n    <g id=\"line2d_41\">\n     <g>\n      <use style=\"fill:#0000ff;stroke:#0000ff;\" x=\"549.763068\" xlink:href=\"#m604a7f2f83\" y=\"35.416562\"/>\n     </g>\n    </g>\n    <g id=\"text_40\">\n     <!-- Train -->\n     <g transform=\"translate(567.763068 38.916562)scale(0.1 -0.1)\">\n      <use xlink:href=\"#DejaVuSans-84\"/>\n      <use x=\"46.333984\" xlink:href=\"#DejaVuSans-114\"/>\n      <use x=\"87.447266\" xlink:href=\"#DejaVuSans-97\"/>\n      <use x=\"148.726562\" xlink:href=\"#DejaVuSans-105\"/>\n      <use x=\"176.509766\" xlink:href=\"#DejaVuSans-110\"/>\n     </g>\n    </g>\n    <g id=\"line2d_42\">\n     <path d=\"M 539.763068 50.094688 \nL 559.763068 50.094688 \n\" style=\"fill:none;stroke:#ff0000;stroke-linecap:square;stroke-width:1.5;\"/>\n    </g>\n    <g id=\"line2d_43\">\n     <g>\n      <use style=\"fill:#ff0000;stroke:#ff0000;\" x=\"549.763068\" xlink:href=\"#m93639f56ba\" y=\"50.094688\"/>\n     </g>\n    </g>\n    <g id=\"text_41\">\n     <!-- Test -->\n     <g transform=\"translate(567.763068 53.594688)scale(0.1 -0.1)\">\n      <use xlink:href=\"#DejaVuSans-84\"/>\n      <use x=\"44.083984\" xlink:href=\"#DejaVuSans-101\"/>\n      <use x=\"105.607422\" xlink:href=\"#DejaVuSans-115\"/>\n      <use x=\"157.707031\" xlink:href=\"#DejaVuSans-116\"/>\n     </g>\n    </g>\n   </g>\n  </g>\n </g>\n <defs>\n  <clipPath id=\"p9148885871\">\n   <rect height=\"271.8\" width=\"405.818182\" x=\"43.78125\" y=\"22.318125\"/>\n  </clipPath>\n  <clipPath id=\"p5103857c88\">\n   <rect height=\"271.8\" width=\"405.818182\" x=\"530.763068\" y=\"22.318125\"/>\n  </clipPath>\n </defs>\n</svg>\n"
          },
          "metadata": {
            "needs_background": "light"
          }
        }
      ]
    },
    {
      "cell_type": "code",
      "source": [
        ""
      ],
      "metadata": {
        "id": "kNs18LuO5hc5"
      },
      "execution_count": 95,
      "outputs": []
    },
    {
      "cell_type": "code",
      "source": [
        ""
      ],
      "metadata": {
        "id": "KisCHidU5hTU"
      },
      "execution_count": 95,
      "outputs": []
    },
    {
      "cell_type": "code",
      "source": [
        ""
      ],
      "metadata": {
        "id": "5ot06UTH5hGc"
      },
      "execution_count": 95,
      "outputs": []
    },
    {
      "cell_type": "code",
      "source": [
        ""
      ],
      "metadata": {
        "id": "9x5vTO_15hDG"
      },
      "execution_count": 95,
      "outputs": []
    },
    {
      "cell_type": "code",
      "source": [
        ""
      ],
      "metadata": {
        "id": "kciBsiwN5g_P"
      },
      "execution_count": 95,
      "outputs": []
    },
    {
      "cell_type": "code",
      "source": [
        ""
      ],
      "metadata": {
        "id": "21ygCEC35g7W"
      },
      "execution_count": 95,
      "outputs": []
    }
  ]
}