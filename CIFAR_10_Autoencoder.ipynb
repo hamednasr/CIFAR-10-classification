{
  "nbformat": 4,
  "nbformat_minor": 0,
  "metadata": {
    "colab": {
      "name": "CIFAR 10 Autoencoder.ipynb",
      "provenance": [],
      "collapsed_sections": [],
      "authorship_tag": "ABX9TyMrHhcZjpOqxU0IlqP6HVTf",
      "include_colab_link": true
    },
    "kernelspec": {
      "name": "python3",
      "display_name": "Python 3"
    },
    "language_info": {
      "name": "python"
    },
    "accelerator": "GPU"
  },
  "cells": [
    {
      "cell_type": "markdown",
      "metadata": {
        "id": "view-in-github",
        "colab_type": "text"
      },
      "source": [
        "<a href=\"https://colab.research.google.com/github/hamednasr/CIFAR-10-classification/blob/main/CIFAR_10_Autoencoder.ipynb\" target=\"_parent\"><img src=\"https://colab.research.google.com/assets/colab-badge.svg\" alt=\"Open In Colab\"/></a>"
      ]
    },
    {
      "cell_type": "markdown",
      "source": [
        "# CIFAR 10 Autoencoder"
      ],
      "metadata": {
        "id": "fJfHYXtBYGmk"
      }
    },
    {
      "cell_type": "code",
      "execution_count": 80,
      "metadata": {
        "id": "KhP_klLaKVD3"
      },
      "outputs": [],
      "source": [
        "import torch\n",
        "import torch.nn as nn\n",
        "import torch.nn.functional as F\n",
        "\n",
        "import torchvision\n",
        "import torchvision.transforms as T\n",
        "from torch.utils.data import DataLoader, TensorDataset\n",
        "from sklearn.model_selection import train_test_split\n",
        "from sklearn.metrics import classification_report, confusion_matrix\n",
        "\n",
        "import numpy as np\n",
        "import matplotlib.pyplot as plt\n",
        "from IPython import display\n",
        "display.set_matplotlib_formats('svg')"
      ]
    },
    {
      "cell_type": "code",
      "source": [
        "trans = T.Compose([T.ToTensor()])"
      ],
      "metadata": {
        "id": "w-ntDOvrN0yb"
      },
      "execution_count": 81,
      "outputs": []
    },
    {
      "cell_type": "code",
      "source": [
        "# device= 'cpu'\n",
        "device = torch.device('cuda:0' if torch.cuda.is_available else 'cpu')\n",
        "device"
      ],
      "metadata": {
        "colab": {
          "base_uri": "https://localhost:8080/"
        },
        "id": "J1X4YaSU-EZv",
        "outputId": "1e134e54-cc93-4ace-dedb-5fda7c079776"
      },
      "execution_count": 82,
      "outputs": [
        {
          "output_type": "execute_result",
          "data": {
            "text/plain": [
              "device(type='cuda', index=0)"
            ]
          },
          "metadata": {},
          "execution_count": 82
        }
      ]
    },
    {
      "cell_type": "code",
      "source": [
        "train = torchvision.datasets.CIFAR10(root = 'cifar10',download=True,transform=trans)\n",
        "train"
      ],
      "metadata": {
        "colab": {
          "base_uri": "https://localhost:8080/"
        },
        "id": "k-arbojHZwZz",
        "outputId": "581649aa-91fe-4acc-aeee-3c045f5cb7be"
      },
      "execution_count": 83,
      "outputs": [
        {
          "output_type": "stream",
          "name": "stdout",
          "text": [
            "Files already downloaded and verified\n"
          ]
        },
        {
          "output_type": "execute_result",
          "data": {
            "text/plain": [
              "Dataset CIFAR10\n",
              "    Number of datapoints: 50000\n",
              "    Root location: cifar10\n",
              "    Split: Train\n",
              "    StandardTransform\n",
              "Transform: Compose(\n",
              "               ToTensor()\n",
              "           )"
            ]
          },
          "metadata": {},
          "execution_count": 83
        }
      ]
    },
    {
      "cell_type": "code",
      "source": [
        "test = torchvision.datasets.CIFAR10(root = 'cifar10',train=False,download=True,transform=trans)\n",
        "test"
      ],
      "metadata": {
        "colab": {
          "base_uri": "https://localhost:8080/"
        },
        "id": "fPcTcNSh-t71",
        "outputId": "b41e282b-ad03-4039-b10b-d7765169ff6d"
      },
      "execution_count": 84,
      "outputs": [
        {
          "output_type": "stream",
          "name": "stdout",
          "text": [
            "Files already downloaded and verified\n"
          ]
        },
        {
          "output_type": "execute_result",
          "data": {
            "text/plain": [
              "Dataset CIFAR10\n",
              "    Number of datapoints: 10000\n",
              "    Root location: cifar10\n",
              "    Split: Test\n",
              "    StandardTransform\n",
              "Transform: Compose(\n",
              "               ToTensor()\n",
              "           )"
            ]
          },
          "metadata": {},
          "execution_count": 84
        }
      ]
    },
    {
      "cell_type": "code",
      "source": [
        "trans(test.data[11,:]).shape"
      ],
      "metadata": {
        "colab": {
          "base_uri": "https://localhost:8080/"
        },
        "id": "lhaQ0eadSGg6",
        "outputId": "18e803f4-7c48-4996-da0d-bd9c6c43a1a6"
      },
      "execution_count": 85,
      "outputs": [
        {
          "output_type": "execute_result",
          "data": {
            "text/plain": [
              "torch.Size([3, 32, 32])"
            ]
          },
          "metadata": {},
          "execution_count": 85
        }
      ]
    },
    {
      "cell_type": "code",
      "source": [
        "test.transform(test.data[11,:]).shape"
      ],
      "metadata": {
        "colab": {
          "base_uri": "https://localhost:8080/"
        },
        "id": "w7hJ0Lh-TIqo",
        "outputId": "c2369dca-97e0-4e04-b589-c3b6855e4a13"
      },
      "execution_count": 86,
      "outputs": [
        {
          "output_type": "execute_result",
          "data": {
            "text/plain": [
              "torch.Size([3, 32, 32])"
            ]
          },
          "metadata": {},
          "execution_count": 86
        }
      ]
    },
    {
      "cell_type": "code",
      "source": [
        "train.data.shape"
      ],
      "metadata": {
        "colab": {
          "base_uri": "https://localhost:8080/"
        },
        "id": "Cuvt3He-pBBl",
        "outputId": "b7dad681-9ff7-423d-d1e9-d1f740f6087a"
      },
      "execution_count": 87,
      "outputs": [
        {
          "output_type": "execute_result",
          "data": {
            "text/plain": [
              "(50000, 32, 32, 3)"
            ]
          },
          "metadata": {},
          "execution_count": 87
        }
      ]
    },
    {
      "cell_type": "code",
      "source": [
        "test.data.shape"
      ],
      "metadata": {
        "colab": {
          "base_uri": "https://localhost:8080/"
        },
        "id": "DVt1X2P4-2hM",
        "outputId": "111b9158-f41a-4fe5-f693-0e8d602195ed"
      },
      "execution_count": 88,
      "outputs": [
        {
          "output_type": "execute_result",
          "data": {
            "text/plain": [
              "(10000, 32, 32, 3)"
            ]
          },
          "metadata": {},
          "execution_count": 88
        }
      ]
    },
    {
      "cell_type": "code",
      "source": [
        "plt.imshow(train.data[1])"
      ],
      "metadata": {
        "colab": {
          "base_uri": "https://localhost:8080/",
          "height": 371
        },
        "id": "MaPBy789qDGS",
        "outputId": "9e820963-9874-42ef-96fd-cb1f0735dd05"
      },
      "execution_count": 89,
      "outputs": [
        {
          "output_type": "execute_result",
          "data": {
            "text/plain": [
              "<matplotlib.image.AxesImage at 0x7f3ed5449650>"
            ]
          },
          "metadata": {},
          "execution_count": 89
        },
        {
          "output_type": "display_data",
          "data": {
            "text/plain": [
              "<Figure size 432x288 with 1 Axes>"
            ],
            "image/svg+xml": "<?xml version=\"1.0\" encoding=\"utf-8\" standalone=\"no\"?>\n<!DOCTYPE svg PUBLIC \"-//W3C//DTD SVG 1.1//EN\"\n  \"http://www.w3.org/Graphics/SVG/1.1/DTD/svg11.dtd\">\n<!-- Created with matplotlib (https://matplotlib.org/) -->\n<svg height=\"248.919844pt\" version=\"1.1\" viewBox=\"0 0 251.565 248.919844\" width=\"251.565pt\" xmlns=\"http://www.w3.org/2000/svg\" xmlns:xlink=\"http://www.w3.org/1999/xlink\">\n <defs>\n  <style type=\"text/css\">\n*{stroke-linecap:butt;stroke-linejoin:round;}\n  </style>\n </defs>\n <g id=\"figure_1\">\n  <g id=\"patch_1\">\n   <path d=\"M 0 248.919844 \nL 251.565 248.919844 \nL 251.565 0 \nL 0 0 \nz\n\" style=\"fill:none;\"/>\n  </g>\n  <g id=\"axes_1\">\n   <g id=\"patch_2\">\n    <path d=\"M 26.925 225.041719 \nL 244.365 225.041719 \nL 244.365 7.601719 \nL 26.925 7.601719 \nz\n\" style=\"fill:#ffffff;\"/>\n   </g>\n   <g clip-path=\"url(#p6174199bfe)\">\n    <image height=\"218\" id=\"image9f3ea816b3\" transform=\"scale(1 -1)translate(0 -218)\" width=\"218\" x=\"26.925\" xlink:href=\"data:image/png;base64,\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\" y=\"-7.041719\"/>\n   </g>\n   <g id=\"matplotlib.axis_1\">\n    <g id=\"xtick_1\">\n     <g id=\"line2d_1\">\n      <defs>\n       <path d=\"M 0 0 \nL 0 3.5 \n\" id=\"m2cf85d58d5\" style=\"stroke:#000000;stroke-width:0.8;\"/>\n      </defs>\n      <g>\n       <use style=\"stroke:#000000;stroke-width:0.8;\" x=\"30.3225\" xlink:href=\"#m2cf85d58d5\" y=\"225.041719\"/>\n      </g>\n     </g>\n     <g id=\"text_1\">\n      <!-- 0 -->\n      <defs>\n       <path d=\"M 31.78125 66.40625 \nQ 24.171875 66.40625 20.328125 58.90625 \nQ 16.5 51.421875 16.5 36.375 \nQ 16.5 21.390625 20.328125 13.890625 \nQ 24.171875 6.390625 31.78125 6.390625 \nQ 39.453125 6.390625 43.28125 13.890625 \nQ 47.125 21.390625 47.125 36.375 \nQ 47.125 51.421875 43.28125 58.90625 \nQ 39.453125 66.40625 31.78125 66.40625 \nz\nM 31.78125 74.21875 \nQ 44.046875 74.21875 50.515625 64.515625 \nQ 56.984375 54.828125 56.984375 36.375 \nQ 56.984375 17.96875 50.515625 8.265625 \nQ 44.046875 -1.421875 31.78125 -1.421875 \nQ 19.53125 -1.421875 13.0625 8.265625 \nQ 6.59375 17.96875 6.59375 36.375 \nQ 6.59375 54.828125 13.0625 64.515625 \nQ 19.53125 74.21875 31.78125 74.21875 \nz\n\" id=\"DejaVuSans-48\"/>\n      </defs>\n      <g transform=\"translate(27.14125 239.640156)scale(0.1 -0.1)\">\n       <use xlink:href=\"#DejaVuSans-48\"/>\n      </g>\n     </g>\n    </g>\n    <g id=\"xtick_2\">\n     <g id=\"line2d_2\">\n      <g>\n       <use style=\"stroke:#000000;stroke-width:0.8;\" x=\"64.2975\" xlink:href=\"#m2cf85d58d5\" y=\"225.041719\"/>\n      </g>\n     </g>\n     <g id=\"text_2\">\n      <!-- 5 -->\n      <defs>\n       <path d=\"M 10.796875 72.90625 \nL 49.515625 72.90625 \nL 49.515625 64.59375 \nL 19.828125 64.59375 \nL 19.828125 46.734375 \nQ 21.96875 47.46875 24.109375 47.828125 \nQ 26.265625 48.1875 28.421875 48.1875 \nQ 40.625 48.1875 47.75 41.5 \nQ 54.890625 34.8125 54.890625 23.390625 \nQ 54.890625 11.625 47.5625 5.09375 \nQ 40.234375 -1.421875 26.90625 -1.421875 \nQ 22.3125 -1.421875 17.546875 -0.640625 \nQ 12.796875 0.140625 7.71875 1.703125 \nL 7.71875 11.625 \nQ 12.109375 9.234375 16.796875 8.0625 \nQ 21.484375 6.890625 26.703125 6.890625 \nQ 35.15625 6.890625 40.078125 11.328125 \nQ 45.015625 15.765625 45.015625 23.390625 \nQ 45.015625 31 40.078125 35.4375 \nQ 35.15625 39.890625 26.703125 39.890625 \nQ 22.75 39.890625 18.8125 39.015625 \nQ 14.890625 38.140625 10.796875 36.28125 \nz\n\" id=\"DejaVuSans-53\"/>\n      </defs>\n      <g transform=\"translate(61.11625 239.640156)scale(0.1 -0.1)\">\n       <use xlink:href=\"#DejaVuSans-53\"/>\n      </g>\n     </g>\n    </g>\n    <g id=\"xtick_3\">\n     <g id=\"line2d_3\">\n      <g>\n       <use style=\"stroke:#000000;stroke-width:0.8;\" x=\"98.2725\" xlink:href=\"#m2cf85d58d5\" y=\"225.041719\"/>\n      </g>\n     </g>\n     <g id=\"text_3\">\n      <!-- 10 -->\n      <defs>\n       <path d=\"M 12.40625 8.296875 \nL 28.515625 8.296875 \nL 28.515625 63.921875 \nL 10.984375 60.40625 \nL 10.984375 69.390625 \nL 28.421875 72.90625 \nL 38.28125 72.90625 \nL 38.28125 8.296875 \nL 54.390625 8.296875 \nL 54.390625 0 \nL 12.40625 0 \nz\n\" id=\"DejaVuSans-49\"/>\n      </defs>\n      <g transform=\"translate(91.91 239.640156)scale(0.1 -0.1)\">\n       <use xlink:href=\"#DejaVuSans-49\"/>\n       <use x=\"63.623047\" xlink:href=\"#DejaVuSans-48\"/>\n      </g>\n     </g>\n    </g>\n    <g id=\"xtick_4\">\n     <g id=\"line2d_4\">\n      <g>\n       <use style=\"stroke:#000000;stroke-width:0.8;\" x=\"132.2475\" xlink:href=\"#m2cf85d58d5\" y=\"225.041719\"/>\n      </g>\n     </g>\n     <g id=\"text_4\">\n      <!-- 15 -->\n      <g transform=\"translate(125.885 239.640156)scale(0.1 -0.1)\">\n       <use xlink:href=\"#DejaVuSans-49\"/>\n       <use x=\"63.623047\" xlink:href=\"#DejaVuSans-53\"/>\n      </g>\n     </g>\n    </g>\n    <g id=\"xtick_5\">\n     <g id=\"line2d_5\">\n      <g>\n       <use style=\"stroke:#000000;stroke-width:0.8;\" x=\"166.2225\" xlink:href=\"#m2cf85d58d5\" y=\"225.041719\"/>\n      </g>\n     </g>\n     <g id=\"text_5\">\n      <!-- 20 -->\n      <defs>\n       <path d=\"M 19.1875 8.296875 \nL 53.609375 8.296875 \nL 53.609375 0 \nL 7.328125 0 \nL 7.328125 8.296875 \nQ 12.9375 14.109375 22.625 23.890625 \nQ 32.328125 33.6875 34.8125 36.53125 \nQ 39.546875 41.84375 41.421875 45.53125 \nQ 43.3125 49.21875 43.3125 52.78125 \nQ 43.3125 58.59375 39.234375 62.25 \nQ 35.15625 65.921875 28.609375 65.921875 \nQ 23.96875 65.921875 18.8125 64.3125 \nQ 13.671875 62.703125 7.8125 59.421875 \nL 7.8125 69.390625 \nQ 13.765625 71.78125 18.9375 73 \nQ 24.125 74.21875 28.421875 74.21875 \nQ 39.75 74.21875 46.484375 68.546875 \nQ 53.21875 62.890625 53.21875 53.421875 \nQ 53.21875 48.921875 51.53125 44.890625 \nQ 49.859375 40.875 45.40625 35.40625 \nQ 44.1875 33.984375 37.640625 27.21875 \nQ 31.109375 20.453125 19.1875 8.296875 \nz\n\" id=\"DejaVuSans-50\"/>\n      </defs>\n      <g transform=\"translate(159.86 239.640156)scale(0.1 -0.1)\">\n       <use xlink:href=\"#DejaVuSans-50\"/>\n       <use x=\"63.623047\" xlink:href=\"#DejaVuSans-48\"/>\n      </g>\n     </g>\n    </g>\n    <g id=\"xtick_6\">\n     <g id=\"line2d_6\">\n      <g>\n       <use style=\"stroke:#000000;stroke-width:0.8;\" x=\"200.1975\" xlink:href=\"#m2cf85d58d5\" y=\"225.041719\"/>\n      </g>\n     </g>\n     <g id=\"text_6\">\n      <!-- 25 -->\n      <g transform=\"translate(193.835 239.640156)scale(0.1 -0.1)\">\n       <use xlink:href=\"#DejaVuSans-50\"/>\n       <use x=\"63.623047\" xlink:href=\"#DejaVuSans-53\"/>\n      </g>\n     </g>\n    </g>\n    <g id=\"xtick_7\">\n     <g id=\"line2d_7\">\n      <g>\n       <use style=\"stroke:#000000;stroke-width:0.8;\" x=\"234.1725\" xlink:href=\"#m2cf85d58d5\" y=\"225.041719\"/>\n      </g>\n     </g>\n     <g id=\"text_7\">\n      <!-- 30 -->\n      <defs>\n       <path d=\"M 40.578125 39.3125 \nQ 47.65625 37.796875 51.625 33 \nQ 55.609375 28.21875 55.609375 21.1875 \nQ 55.609375 10.40625 48.1875 4.484375 \nQ 40.765625 -1.421875 27.09375 -1.421875 \nQ 22.515625 -1.421875 17.65625 -0.515625 \nQ 12.796875 0.390625 7.625 2.203125 \nL 7.625 11.71875 \nQ 11.71875 9.328125 16.59375 8.109375 \nQ 21.484375 6.890625 26.8125 6.890625 \nQ 36.078125 6.890625 40.9375 10.546875 \nQ 45.796875 14.203125 45.796875 21.1875 \nQ 45.796875 27.640625 41.28125 31.265625 \nQ 36.765625 34.90625 28.71875 34.90625 \nL 20.21875 34.90625 \nL 20.21875 43.015625 \nL 29.109375 43.015625 \nQ 36.375 43.015625 40.234375 45.921875 \nQ 44.09375 48.828125 44.09375 54.296875 \nQ 44.09375 59.90625 40.109375 62.90625 \nQ 36.140625 65.921875 28.71875 65.921875 \nQ 24.65625 65.921875 20.015625 65.03125 \nQ 15.375 64.15625 9.8125 62.3125 \nL 9.8125 71.09375 \nQ 15.4375 72.65625 20.34375 73.4375 \nQ 25.25 74.21875 29.59375 74.21875 \nQ 40.828125 74.21875 47.359375 69.109375 \nQ 53.90625 64.015625 53.90625 55.328125 \nQ 53.90625 49.265625 50.4375 45.09375 \nQ 46.96875 40.921875 40.578125 39.3125 \nz\n\" id=\"DejaVuSans-51\"/>\n      </defs>\n      <g transform=\"translate(227.81 239.640156)scale(0.1 -0.1)\">\n       <use xlink:href=\"#DejaVuSans-51\"/>\n       <use x=\"63.623047\" xlink:href=\"#DejaVuSans-48\"/>\n      </g>\n     </g>\n    </g>\n   </g>\n   <g id=\"matplotlib.axis_2\">\n    <g id=\"ytick_1\">\n     <g id=\"line2d_8\">\n      <defs>\n       <path d=\"M 0 0 \nL -3.5 0 \n\" id=\"mfb26d0549b\" style=\"stroke:#000000;stroke-width:0.8;\"/>\n      </defs>\n      <g>\n       <use style=\"stroke:#000000;stroke-width:0.8;\" x=\"26.925\" xlink:href=\"#mfb26d0549b\" y=\"10.999219\"/>\n      </g>\n     </g>\n     <g id=\"text_8\">\n      <!-- 0 -->\n      <g transform=\"translate(13.5625 14.798437)scale(0.1 -0.1)\">\n       <use xlink:href=\"#DejaVuSans-48\"/>\n      </g>\n     </g>\n    </g>\n    <g id=\"ytick_2\">\n     <g id=\"line2d_9\">\n      <g>\n       <use style=\"stroke:#000000;stroke-width:0.8;\" x=\"26.925\" xlink:href=\"#mfb26d0549b\" y=\"44.974219\"/>\n      </g>\n     </g>\n     <g id=\"text_9\">\n      <!-- 5 -->\n      <g transform=\"translate(13.5625 48.773437)scale(0.1 -0.1)\">\n       <use xlink:href=\"#DejaVuSans-53\"/>\n      </g>\n     </g>\n    </g>\n    <g id=\"ytick_3\">\n     <g id=\"line2d_10\">\n      <g>\n       <use style=\"stroke:#000000;stroke-width:0.8;\" x=\"26.925\" xlink:href=\"#mfb26d0549b\" y=\"78.949219\"/>\n      </g>\n     </g>\n     <g id=\"text_10\">\n      <!-- 10 -->\n      <g transform=\"translate(7.2 82.748437)scale(0.1 -0.1)\">\n       <use xlink:href=\"#DejaVuSans-49\"/>\n       <use x=\"63.623047\" xlink:href=\"#DejaVuSans-48\"/>\n      </g>\n     </g>\n    </g>\n    <g id=\"ytick_4\">\n     <g id=\"line2d_11\">\n      <g>\n       <use style=\"stroke:#000000;stroke-width:0.8;\" x=\"26.925\" xlink:href=\"#mfb26d0549b\" y=\"112.924219\"/>\n      </g>\n     </g>\n     <g id=\"text_11\">\n      <!-- 15 -->\n      <g transform=\"translate(7.2 116.723437)scale(0.1 -0.1)\">\n       <use xlink:href=\"#DejaVuSans-49\"/>\n       <use x=\"63.623047\" xlink:href=\"#DejaVuSans-53\"/>\n      </g>\n     </g>\n    </g>\n    <g id=\"ytick_5\">\n     <g id=\"line2d_12\">\n      <g>\n       <use style=\"stroke:#000000;stroke-width:0.8;\" x=\"26.925\" xlink:href=\"#mfb26d0549b\" y=\"146.899219\"/>\n      </g>\n     </g>\n     <g id=\"text_12\">\n      <!-- 20 -->\n      <g transform=\"translate(7.2 150.698437)scale(0.1 -0.1)\">\n       <use xlink:href=\"#DejaVuSans-50\"/>\n       <use x=\"63.623047\" xlink:href=\"#DejaVuSans-48\"/>\n      </g>\n     </g>\n    </g>\n    <g id=\"ytick_6\">\n     <g id=\"line2d_13\">\n      <g>\n       <use style=\"stroke:#000000;stroke-width:0.8;\" x=\"26.925\" xlink:href=\"#mfb26d0549b\" y=\"180.874219\"/>\n      </g>\n     </g>\n     <g id=\"text_13\">\n      <!-- 25 -->\n      <g transform=\"translate(7.2 184.673437)scale(0.1 -0.1)\">\n       <use xlink:href=\"#DejaVuSans-50\"/>\n       <use x=\"63.623047\" xlink:href=\"#DejaVuSans-53\"/>\n      </g>\n     </g>\n    </g>\n    <g id=\"ytick_7\">\n     <g id=\"line2d_14\">\n      <g>\n       <use style=\"stroke:#000000;stroke-width:0.8;\" x=\"26.925\" xlink:href=\"#mfb26d0549b\" y=\"214.849219\"/>\n      </g>\n     </g>\n     <g id=\"text_14\">\n      <!-- 30 -->\n      <g transform=\"translate(7.2 218.648437)scale(0.1 -0.1)\">\n       <use xlink:href=\"#DejaVuSans-51\"/>\n       <use x=\"63.623047\" xlink:href=\"#DejaVuSans-48\"/>\n      </g>\n     </g>\n    </g>\n   </g>\n   <g id=\"patch_3\">\n    <path d=\"M 26.925 225.041719 \nL 26.925 7.601719 \n\" style=\"fill:none;stroke:#000000;stroke-linecap:square;stroke-linejoin:miter;stroke-width:0.8;\"/>\n   </g>\n   <g id=\"patch_4\">\n    <path d=\"M 244.365 225.041719 \nL 244.365 7.601719 \n\" style=\"fill:none;stroke:#000000;stroke-linecap:square;stroke-linejoin:miter;stroke-width:0.8;\"/>\n   </g>\n   <g id=\"patch_5\">\n    <path d=\"M 26.925 225.041719 \nL 244.365 225.041719 \n\" style=\"fill:none;stroke:#000000;stroke-linecap:square;stroke-linejoin:miter;stroke-width:0.8;\"/>\n   </g>\n   <g id=\"patch_6\">\n    <path d=\"M 26.925 7.601719 \nL 244.365 7.601719 \n\" style=\"fill:none;stroke:#000000;stroke-linecap:square;stroke-linejoin:miter;stroke-width:0.8;\"/>\n   </g>\n  </g>\n </g>\n <defs>\n  <clipPath id=\"p6174199bfe\">\n   <rect height=\"217.44\" width=\"217.44\" x=\"26.925\" y=\"7.601719\"/>\n  </clipPath>\n </defs>\n</svg>\n"
          },
          "metadata": {
            "needs_background": "light"
          }
        }
      ]
    },
    {
      "cell_type": "markdown",
      "source": [
        "# data preparation for pytorch"
      ],
      "metadata": {
        "id": "myzFh-YcvvGb"
      }
    },
    {
      "cell_type": "code",
      "source": [
        "train"
      ],
      "metadata": {
        "colab": {
          "base_uri": "https://localhost:8080/"
        },
        "id": "0i5hyWFEQQCM",
        "outputId": "1cbb33da-3450-4d79-dd47-fe3899c34bd0"
      },
      "execution_count": 90,
      "outputs": [
        {
          "output_type": "execute_result",
          "data": {
            "text/plain": [
              "Dataset CIFAR10\n",
              "    Number of datapoints: 50000\n",
              "    Root location: cifar10\n",
              "    Split: Train\n",
              "    StandardTransform\n",
              "Transform: Compose(\n",
              "               ToTensor()\n",
              "           )"
            ]
          },
          "metadata": {},
          "execution_count": 90
        }
      ]
    },
    {
      "cell_type": "code",
      "source": [
        "batchsize=128\n",
        "trainloader = DataLoader(train,batch_size=batchsize,shuffle=True,drop_last=True)"
      ],
      "metadata": {
        "id": "54ETrDbfxp_4"
      },
      "execution_count": 91,
      "outputs": []
    },
    {
      "cell_type": "code",
      "source": [
        "testloader = DataLoader(test,batch_size=10000)"
      ],
      "metadata": {
        "id": "8pbPtQLPyNTI"
      },
      "execution_count": 92,
      "outputs": []
    },
    {
      "cell_type": "markdown",
      "source": [
        "## building model:"
      ],
      "metadata": {
        "id": "rHICHFPQAhrk"
      }
    },
    {
      "cell_type": "code",
      "source": [
        "def CreateModel():\n",
        "  \n",
        "  class CNNmodel(nn.Module):\n",
        "    def __init__(self):\n",
        "      super().__init__()\n",
        "\n",
        "      self.enc1 = nn.Conv2d(3,16,kernel_size=4,stride=2,padding=1) #first encoder layer\n",
        "      # (32+2*1-4)/2+1=16 \n",
        "      # self.batchnorm1 = nn.BatchNorm2d(16)\n",
        "      \n",
        "      self.enc2 = nn.Conv2d(16,32,kernel_size=4,stride=2,padding=1) #second encoder layer\n",
        "      #(16+2*1-4)/2+1 = 8 \n",
        "      # self.batchnorm2 = nn.BatchNorm2d(32)\n",
        "\n",
        "      self.latent = nn.Conv2d(32,64,kernel_size=4,stride=2,padding=1) #latent layer\n",
        "      # # #(8+2*1-4)/2+1 = 4\n",
        "      # self.batchnorm3 = nn.BatchNorm2d(64)\n",
        "\n",
        "      self.dec1 = nn.ConvTranspose2d(64,32,kernel_size=4,stride=2,padding=1) #first decoding layer\n",
        "\n",
        "      self.dec2 = nn.ConvTranspose2d(32,16,kernel_size=4,stride=2,padding=1) #second decoding layer\n",
        "\n",
        "      self.out = nn.ConvTranspose2d(16,3,kernel_size=4,stride=2,padding=1) #output layer\n",
        "\n",
        "    \n",
        "    def forward(self,x):\n",
        "\n",
        "      x= F.leaky_relu(self.enc1(x))\n",
        "\n",
        "      x= F.leaky_relu(self.enc2(x))\n",
        "      \n",
        "      x= F.leaky_relu(self.latent(x))\n",
        "\n",
        "      x= F.leaky_relu(self.dec1(x))\n",
        "\n",
        "      x= F.leaky_relu(self.dec2(x))\n",
        "\n",
        "      x= F.leaky_relu(self.out(x))\n",
        "      \n",
        "      return x\n",
        "\n",
        "  CNNAutoenc = CNNmodel()\n",
        "\n",
        "  lossfun = nn.MSELoss()\n",
        "\n",
        "  optimizer = torch.optim.Adam(params=CNNAutoenc.parameters(), lr = 0.001)\n",
        "\n",
        "  return CNNAutoenc, lossfun, optimizer"
      ],
      "metadata": {
        "id": "wDgnpPH_0Ulb"
      },
      "execution_count": 93,
      "outputs": []
    },
    {
      "cell_type": "markdown",
      "source": [
        "## Sanity checking of the model:"
      ],
      "metadata": {
        "id": "gdekDEkHxD05"
      }
    },
    {
      "cell_type": "code",
      "source": [
        "X = torch.randn(5,3,32,32)\n",
        "CNNAutoenc, lossfun, optimizer = CreateModel()\n",
        "yhat = CNNAutoenc(X)\n",
        "print(yhat.shape)\n"
      ],
      "metadata": {
        "colab": {
          "base_uri": "https://localhost:8080/"
        },
        "id": "ZLGZar1cwuQV",
        "outputId": "c13a2a61-df93-4a00-b00c-6e1889f5ed82"
      },
      "execution_count": 94,
      "outputs": [
        {
          "output_type": "stream",
          "name": "stdout",
          "text": [
            "torch.Size([5, 3, 32, 32])\n"
          ]
        }
      ]
    },
    {
      "cell_type": "markdown",
      "source": [
        "## Train the model:"
      ],
      "metadata": {
        "id": "SwSgqcfbxJGU"
      }
    },
    {
      "cell_type": "code",
      "source": [
        "epochs = 20\n",
        "\n",
        "def TrainModel():\n",
        "\n",
        "  CNNAutoenc, lossfun, optimizer = CreateModel()\n",
        "  CNNAutoenc.to(device)\n",
        "\n",
        "\n",
        "  trainloss = []\n",
        "  testloss = []\n",
        "\n",
        "  for i in range(epochs):\n",
        "    \n",
        "    CNNAutoenc.train()\n",
        "\n",
        "    batchloss = []\n",
        "\n",
        "\n",
        "    for X, y in trainloader:\n",
        "\n",
        "      X = X.to(device)\n",
        "      y = y.to(device)\n",
        "      \n",
        "      yhat = CNNAutoenc(X)\n",
        "\n",
        "      loss = lossfun(yhat,X)\n",
        "      batchloss.append(loss.item())\n",
        "\n",
        "      optimizer.zero_grad()\n",
        "      loss.backward()\n",
        "      optimizer.step() \n",
        "\n",
        "    trainloss.append(np.mean(batchloss))\n",
        "\n",
        "\n",
        "    CNNAutoenc.eval()\n",
        "    X,y = next(iter(testloader))\n",
        "    X = X.to(device)\n",
        "    y = y.to(device)\n",
        "    yhat = CNNAutoenc(X)\n",
        "    testloss.append(lossfun(yhat,X).item())\n",
        "    print(f'{i+1} of {epochs} epochs done.')\n",
        "\n",
        "  return  CNNAutoenc, trainloss, testloss"
      ],
      "metadata": {
        "id": "q8Re_HGbooKN"
      },
      "execution_count": 148,
      "outputs": []
    },
    {
      "cell_type": "code",
      "source": [
        "CNNAutoenc, trainloss, testloss = TrainModel()"
      ],
      "metadata": {
        "id": "KF9RLOaN5hrb",
        "colab": {
          "base_uri": "https://localhost:8080/"
        },
        "outputId": "e0c50698-af3a-46d1-bc6a-738734d70b5d"
      },
      "execution_count": 149,
      "outputs": [
        {
          "output_type": "stream",
          "name": "stdout",
          "text": [
            "1 of 20 epochs done.\n",
            "2 of 20 epochs done.\n",
            "3 of 20 epochs done.\n",
            "4 of 20 epochs done.\n",
            "5 of 20 epochs done.\n",
            "6 of 20 epochs done.\n",
            "7 of 20 epochs done.\n",
            "8 of 20 epochs done.\n",
            "9 of 20 epochs done.\n",
            "10 of 20 epochs done.\n",
            "11 of 20 epochs done.\n",
            "12 of 20 epochs done.\n",
            "13 of 20 epochs done.\n",
            "14 of 20 epochs done.\n",
            "15 of 20 epochs done.\n",
            "16 of 20 epochs done.\n",
            "17 of 20 epochs done.\n",
            "18 of 20 epochs done.\n",
            "19 of 20 epochs done.\n",
            "20 of 20 epochs done.\n"
          ]
        }
      ]
    },
    {
      "cell_type": "code",
      "source": [
        "fig,ax = plt.subplots(1,1,figsize=(5,5))\n",
        "\n",
        "ax.plot(trainloss,'bo-',label='Train')\n",
        "ax.plot(testloss,'ro-',label='Test')\n",
        "ax.set_xlabel('Epochs')\n",
        "ax.set_ylabel('Loss')\n",
        "ax.set_title('Model loss')\n",
        "ax.legend()\n",
        "\n",
        "plt.show()"
      ],
      "metadata": {
        "colab": {
          "base_uri": "https://localhost:8080/",
          "height": 463
        },
        "id": "id3czxHI5hnI",
        "outputId": "01ce120e-9164-479c-f38c-389ec8519cce"
      },
      "execution_count": 150,
      "outputs": [
        {
          "output_type": "display_data",
          "data": {
            "text/plain": [
              "<Figure size 360x360 with 1 Axes>"
            ],
            "image/svg+xml": "<?xml version=\"1.0\" encoding=\"utf-8\" standalone=\"no\"?>\n<!DOCTYPE svg PUBLIC \"-//W3C//DTD SVG 1.1//EN\"\n  \"http://www.w3.org/Graphics/SVG/1.1/DTD/svg11.dtd\">\n<!-- Created with matplotlib (https://matplotlib.org/) -->\n<svg height=\"331.674375pt\" version=\"1.1\" viewBox=\"0 0 342.70625 331.674375\" width=\"342.70625pt\" xmlns=\"http://www.w3.org/2000/svg\" xmlns:xlink=\"http://www.w3.org/1999/xlink\">\n <defs>\n  <style type=\"text/css\">\n*{stroke-linecap:butt;stroke-linejoin:round;}\n  </style>\n </defs>\n <g id=\"figure_1\">\n  <g id=\"patch_1\">\n   <path d=\"M -0 331.674375 \nL 342.70625 331.674375 \nL 342.70625 0 \nL -0 0 \nz\n\" style=\"fill:none;\"/>\n  </g>\n  <g id=\"axes_1\">\n   <g id=\"patch_2\">\n    <path d=\"M 56.50625 294.118125 \nL 335.50625 294.118125 \nL 335.50625 22.318125 \nL 56.50625 22.318125 \nz\n\" style=\"fill:#ffffff;\"/>\n   </g>\n   <g id=\"matplotlib.axis_1\">\n    <g id=\"xtick_1\">\n     <g id=\"line2d_1\">\n      <defs>\n       <path d=\"M 0 0 \nL 0 3.5 \n\" id=\"m314dee6606\" style=\"stroke:#000000;stroke-width:0.8;\"/>\n      </defs>\n      <g>\n       <use style=\"stroke:#000000;stroke-width:0.8;\" x=\"69.188068\" xlink:href=\"#m314dee6606\" y=\"294.118125\"/>\n      </g>\n     </g>\n     <g id=\"text_1\">\n      <!-- 0.0 -->\n      <defs>\n       <path d=\"M 31.78125 66.40625 \nQ 24.171875 66.40625 20.328125 58.90625 \nQ 16.5 51.421875 16.5 36.375 \nQ 16.5 21.390625 20.328125 13.890625 \nQ 24.171875 6.390625 31.78125 6.390625 \nQ 39.453125 6.390625 43.28125 13.890625 \nQ 47.125 21.390625 47.125 36.375 \nQ 47.125 51.421875 43.28125 58.90625 \nQ 39.453125 66.40625 31.78125 66.40625 \nz\nM 31.78125 74.21875 \nQ 44.046875 74.21875 50.515625 64.515625 \nQ 56.984375 54.828125 56.984375 36.375 \nQ 56.984375 17.96875 50.515625 8.265625 \nQ 44.046875 -1.421875 31.78125 -1.421875 \nQ 19.53125 -1.421875 13.0625 8.265625 \nQ 6.59375 17.96875 6.59375 36.375 \nQ 6.59375 54.828125 13.0625 64.515625 \nQ 19.53125 74.21875 31.78125 74.21875 \nz\n\" id=\"DejaVuSans-48\"/>\n       <path d=\"M 10.6875 12.40625 \nL 21 12.40625 \nL 21 0 \nL 10.6875 0 \nz\n\" id=\"DejaVuSans-46\"/>\n      </defs>\n      <g transform=\"translate(61.236506 308.716563)scale(0.1 -0.1)\">\n       <use xlink:href=\"#DejaVuSans-48\"/>\n       <use x=\"63.623047\" xlink:href=\"#DejaVuSans-46\"/>\n       <use x=\"95.410156\" xlink:href=\"#DejaVuSans-48\"/>\n      </g>\n     </g>\n    </g>\n    <g id=\"xtick_2\">\n     <g id=\"line2d_2\">\n      <g>\n       <use style=\"stroke:#000000;stroke-width:0.8;\" x=\"102.561274\" xlink:href=\"#m314dee6606\" y=\"294.118125\"/>\n      </g>\n     </g>\n     <g id=\"text_2\">\n      <!-- 2.5 -->\n      <defs>\n       <path d=\"M 19.1875 8.296875 \nL 53.609375 8.296875 \nL 53.609375 0 \nL 7.328125 0 \nL 7.328125 8.296875 \nQ 12.9375 14.109375 22.625 23.890625 \nQ 32.328125 33.6875 34.8125 36.53125 \nQ 39.546875 41.84375 41.421875 45.53125 \nQ 43.3125 49.21875 43.3125 52.78125 \nQ 43.3125 58.59375 39.234375 62.25 \nQ 35.15625 65.921875 28.609375 65.921875 \nQ 23.96875 65.921875 18.8125 64.3125 \nQ 13.671875 62.703125 7.8125 59.421875 \nL 7.8125 69.390625 \nQ 13.765625 71.78125 18.9375 73 \nQ 24.125 74.21875 28.421875 74.21875 \nQ 39.75 74.21875 46.484375 68.546875 \nQ 53.21875 62.890625 53.21875 53.421875 \nQ 53.21875 48.921875 51.53125 44.890625 \nQ 49.859375 40.875 45.40625 35.40625 \nQ 44.1875 33.984375 37.640625 27.21875 \nQ 31.109375 20.453125 19.1875 8.296875 \nz\n\" id=\"DejaVuSans-50\"/>\n       <path d=\"M 10.796875 72.90625 \nL 49.515625 72.90625 \nL 49.515625 64.59375 \nL 19.828125 64.59375 \nL 19.828125 46.734375 \nQ 21.96875 47.46875 24.109375 47.828125 \nQ 26.265625 48.1875 28.421875 48.1875 \nQ 40.625 48.1875 47.75 41.5 \nQ 54.890625 34.8125 54.890625 23.390625 \nQ 54.890625 11.625 47.5625 5.09375 \nQ 40.234375 -1.421875 26.90625 -1.421875 \nQ 22.3125 -1.421875 17.546875 -0.640625 \nQ 12.796875 0.140625 7.71875 1.703125 \nL 7.71875 11.625 \nQ 12.109375 9.234375 16.796875 8.0625 \nQ 21.484375 6.890625 26.703125 6.890625 \nQ 35.15625 6.890625 40.078125 11.328125 \nQ 45.015625 15.765625 45.015625 23.390625 \nQ 45.015625 31 40.078125 35.4375 \nQ 35.15625 39.890625 26.703125 39.890625 \nQ 22.75 39.890625 18.8125 39.015625 \nQ 14.890625 38.140625 10.796875 36.28125 \nz\n\" id=\"DejaVuSans-53\"/>\n      </defs>\n      <g transform=\"translate(94.609711 308.716563)scale(0.1 -0.1)\">\n       <use xlink:href=\"#DejaVuSans-50\"/>\n       <use x=\"63.623047\" xlink:href=\"#DejaVuSans-46\"/>\n       <use x=\"95.410156\" xlink:href=\"#DejaVuSans-53\"/>\n      </g>\n     </g>\n    </g>\n    <g id=\"xtick_3\">\n     <g id=\"line2d_3\">\n      <g>\n       <use style=\"stroke:#000000;stroke-width:0.8;\" x=\"135.93448\" xlink:href=\"#m314dee6606\" y=\"294.118125\"/>\n      </g>\n     </g>\n     <g id=\"text_3\">\n      <!-- 5.0 -->\n      <g transform=\"translate(127.982917 308.716563)scale(0.1 -0.1)\">\n       <use xlink:href=\"#DejaVuSans-53\"/>\n       <use x=\"63.623047\" xlink:href=\"#DejaVuSans-46\"/>\n       <use x=\"95.410156\" xlink:href=\"#DejaVuSans-48\"/>\n      </g>\n     </g>\n    </g>\n    <g id=\"xtick_4\">\n     <g id=\"line2d_4\">\n      <g>\n       <use style=\"stroke:#000000;stroke-width:0.8;\" x=\"169.307685\" xlink:href=\"#m314dee6606\" y=\"294.118125\"/>\n      </g>\n     </g>\n     <g id=\"text_4\">\n      <!-- 7.5 -->\n      <defs>\n       <path d=\"M 8.203125 72.90625 \nL 55.078125 72.90625 \nL 55.078125 68.703125 \nL 28.609375 0 \nL 18.3125 0 \nL 43.21875 64.59375 \nL 8.203125 64.59375 \nz\n\" id=\"DejaVuSans-55\"/>\n      </defs>\n      <g transform=\"translate(161.356123 308.716563)scale(0.1 -0.1)\">\n       <use xlink:href=\"#DejaVuSans-55\"/>\n       <use x=\"63.623047\" xlink:href=\"#DejaVuSans-46\"/>\n       <use x=\"95.410156\" xlink:href=\"#DejaVuSans-53\"/>\n      </g>\n     </g>\n    </g>\n    <g id=\"xtick_5\">\n     <g id=\"line2d_5\">\n      <g>\n       <use style=\"stroke:#000000;stroke-width:0.8;\" x=\"202.680891\" xlink:href=\"#m314dee6606\" y=\"294.118125\"/>\n      </g>\n     </g>\n     <g id=\"text_5\">\n      <!-- 10.0 -->\n      <defs>\n       <path d=\"M 12.40625 8.296875 \nL 28.515625 8.296875 \nL 28.515625 63.921875 \nL 10.984375 60.40625 \nL 10.984375 69.390625 \nL 28.421875 72.90625 \nL 38.28125 72.90625 \nL 38.28125 8.296875 \nL 54.390625 8.296875 \nL 54.390625 0 \nL 12.40625 0 \nz\n\" id=\"DejaVuSans-49\"/>\n      </defs>\n      <g transform=\"translate(191.548079 308.716563)scale(0.1 -0.1)\">\n       <use xlink:href=\"#DejaVuSans-49\"/>\n       <use x=\"63.623047\" xlink:href=\"#DejaVuSans-48\"/>\n       <use x=\"127.246094\" xlink:href=\"#DejaVuSans-46\"/>\n       <use x=\"159.033203\" xlink:href=\"#DejaVuSans-48\"/>\n      </g>\n     </g>\n    </g>\n    <g id=\"xtick_6\">\n     <g id=\"line2d_6\">\n      <g>\n       <use style=\"stroke:#000000;stroke-width:0.8;\" x=\"236.054097\" xlink:href=\"#m314dee6606\" y=\"294.118125\"/>\n      </g>\n     </g>\n     <g id=\"text_6\">\n      <!-- 12.5 -->\n      <g transform=\"translate(224.921284 308.716563)scale(0.1 -0.1)\">\n       <use xlink:href=\"#DejaVuSans-49\"/>\n       <use x=\"63.623047\" xlink:href=\"#DejaVuSans-50\"/>\n       <use x=\"127.246094\" xlink:href=\"#DejaVuSans-46\"/>\n       <use x=\"159.033203\" xlink:href=\"#DejaVuSans-53\"/>\n      </g>\n     </g>\n    </g>\n    <g id=\"xtick_7\">\n     <g id=\"line2d_7\">\n      <g>\n       <use style=\"stroke:#000000;stroke-width:0.8;\" x=\"269.427303\" xlink:href=\"#m314dee6606\" y=\"294.118125\"/>\n      </g>\n     </g>\n     <g id=\"text_7\">\n      <!-- 15.0 -->\n      <g transform=\"translate(258.29449 308.716563)scale(0.1 -0.1)\">\n       <use xlink:href=\"#DejaVuSans-49\"/>\n       <use x=\"63.623047\" xlink:href=\"#DejaVuSans-53\"/>\n       <use x=\"127.246094\" xlink:href=\"#DejaVuSans-46\"/>\n       <use x=\"159.033203\" xlink:href=\"#DejaVuSans-48\"/>\n      </g>\n     </g>\n    </g>\n    <g id=\"xtick_8\">\n     <g id=\"line2d_8\">\n      <g>\n       <use style=\"stroke:#000000;stroke-width:0.8;\" x=\"302.800508\" xlink:href=\"#m314dee6606\" y=\"294.118125\"/>\n      </g>\n     </g>\n     <g id=\"text_8\">\n      <!-- 17.5 -->\n      <g transform=\"translate(291.667696 308.716563)scale(0.1 -0.1)\">\n       <use xlink:href=\"#DejaVuSans-49\"/>\n       <use x=\"63.623047\" xlink:href=\"#DejaVuSans-55\"/>\n       <use x=\"127.246094\" xlink:href=\"#DejaVuSans-46\"/>\n       <use x=\"159.033203\" xlink:href=\"#DejaVuSans-53\"/>\n      </g>\n     </g>\n    </g>\n    <g id=\"text_9\">\n     <!-- Epochs -->\n     <defs>\n      <path d=\"M 9.8125 72.90625 \nL 55.90625 72.90625 \nL 55.90625 64.59375 \nL 19.671875 64.59375 \nL 19.671875 43.015625 \nL 54.390625 43.015625 \nL 54.390625 34.71875 \nL 19.671875 34.71875 \nL 19.671875 8.296875 \nL 56.78125 8.296875 \nL 56.78125 0 \nL 9.8125 0 \nz\n\" id=\"DejaVuSans-69\"/>\n      <path d=\"M 18.109375 8.203125 \nL 18.109375 -20.796875 \nL 9.078125 -20.796875 \nL 9.078125 54.6875 \nL 18.109375 54.6875 \nL 18.109375 46.390625 \nQ 20.953125 51.265625 25.265625 53.625 \nQ 29.59375 56 35.59375 56 \nQ 45.5625 56 51.78125 48.09375 \nQ 58.015625 40.1875 58.015625 27.296875 \nQ 58.015625 14.40625 51.78125 6.484375 \nQ 45.5625 -1.421875 35.59375 -1.421875 \nQ 29.59375 -1.421875 25.265625 0.953125 \nQ 20.953125 3.328125 18.109375 8.203125 \nz\nM 48.6875 27.296875 \nQ 48.6875 37.203125 44.609375 42.84375 \nQ 40.53125 48.484375 33.40625 48.484375 \nQ 26.265625 48.484375 22.1875 42.84375 \nQ 18.109375 37.203125 18.109375 27.296875 \nQ 18.109375 17.390625 22.1875 11.75 \nQ 26.265625 6.109375 33.40625 6.109375 \nQ 40.53125 6.109375 44.609375 11.75 \nQ 48.6875 17.390625 48.6875 27.296875 \nz\n\" id=\"DejaVuSans-112\"/>\n      <path d=\"M 30.609375 48.390625 \nQ 23.390625 48.390625 19.1875 42.75 \nQ 14.984375 37.109375 14.984375 27.296875 \nQ 14.984375 17.484375 19.15625 11.84375 \nQ 23.34375 6.203125 30.609375 6.203125 \nQ 37.796875 6.203125 41.984375 11.859375 \nQ 46.1875 17.53125 46.1875 27.296875 \nQ 46.1875 37.015625 41.984375 42.703125 \nQ 37.796875 48.390625 30.609375 48.390625 \nz\nM 30.609375 56 \nQ 42.328125 56 49.015625 48.375 \nQ 55.71875 40.765625 55.71875 27.296875 \nQ 55.71875 13.875 49.015625 6.21875 \nQ 42.328125 -1.421875 30.609375 -1.421875 \nQ 18.84375 -1.421875 12.171875 6.21875 \nQ 5.515625 13.875 5.515625 27.296875 \nQ 5.515625 40.765625 12.171875 48.375 \nQ 18.84375 56 30.609375 56 \nz\n\" id=\"DejaVuSans-111\"/>\n      <path d=\"M 48.78125 52.59375 \nL 48.78125 44.1875 \nQ 44.96875 46.296875 41.140625 47.34375 \nQ 37.3125 48.390625 33.40625 48.390625 \nQ 24.65625 48.390625 19.8125 42.84375 \nQ 14.984375 37.3125 14.984375 27.296875 \nQ 14.984375 17.28125 19.8125 11.734375 \nQ 24.65625 6.203125 33.40625 6.203125 \nQ 37.3125 6.203125 41.140625 7.25 \nQ 44.96875 8.296875 48.78125 10.40625 \nL 48.78125 2.09375 \nQ 45.015625 0.34375 40.984375 -0.53125 \nQ 36.96875 -1.421875 32.421875 -1.421875 \nQ 20.0625 -1.421875 12.78125 6.34375 \nQ 5.515625 14.109375 5.515625 27.296875 \nQ 5.515625 40.671875 12.859375 48.328125 \nQ 20.21875 56 33.015625 56 \nQ 37.15625 56 41.109375 55.140625 \nQ 45.0625 54.296875 48.78125 52.59375 \nz\n\" id=\"DejaVuSans-99\"/>\n      <path d=\"M 54.890625 33.015625 \nL 54.890625 0 \nL 45.90625 0 \nL 45.90625 32.71875 \nQ 45.90625 40.484375 42.875 44.328125 \nQ 39.84375 48.1875 33.796875 48.1875 \nQ 26.515625 48.1875 22.3125 43.546875 \nQ 18.109375 38.921875 18.109375 30.90625 \nL 18.109375 0 \nL 9.078125 0 \nL 9.078125 75.984375 \nL 18.109375 75.984375 \nL 18.109375 46.1875 \nQ 21.34375 51.125 25.703125 53.5625 \nQ 30.078125 56 35.796875 56 \nQ 45.21875 56 50.046875 50.171875 \nQ 54.890625 44.34375 54.890625 33.015625 \nz\n\" id=\"DejaVuSans-104\"/>\n      <path d=\"M 44.28125 53.078125 \nL 44.28125 44.578125 \nQ 40.484375 46.53125 36.375 47.5 \nQ 32.28125 48.484375 27.875 48.484375 \nQ 21.1875 48.484375 17.84375 46.4375 \nQ 14.5 44.390625 14.5 40.28125 \nQ 14.5 37.15625 16.890625 35.375 \nQ 19.28125 33.59375 26.515625 31.984375 \nL 29.59375 31.296875 \nQ 39.15625 29.25 43.1875 25.515625 \nQ 47.21875 21.78125 47.21875 15.09375 \nQ 47.21875 7.46875 41.1875 3.015625 \nQ 35.15625 -1.421875 24.609375 -1.421875 \nQ 20.21875 -1.421875 15.453125 -0.5625 \nQ 10.6875 0.296875 5.421875 2 \nL 5.421875 11.28125 \nQ 10.40625 8.6875 15.234375 7.390625 \nQ 20.0625 6.109375 24.8125 6.109375 \nQ 31.15625 6.109375 34.5625 8.28125 \nQ 37.984375 10.453125 37.984375 14.40625 \nQ 37.984375 18.0625 35.515625 20.015625 \nQ 33.0625 21.96875 24.703125 23.78125 \nL 21.578125 24.515625 \nQ 13.234375 26.265625 9.515625 29.90625 \nQ 5.8125 33.546875 5.8125 39.890625 \nQ 5.8125 47.609375 11.28125 51.796875 \nQ 16.75 56 26.8125 56 \nQ 31.78125 56 36.171875 55.265625 \nQ 40.578125 54.546875 44.28125 53.078125 \nz\n\" id=\"DejaVuSans-115\"/>\n     </defs>\n     <g transform=\"translate(178.090625 322.394687)scale(0.1 -0.1)\">\n      <use xlink:href=\"#DejaVuSans-69\"/>\n      <use x=\"63.183594\" xlink:href=\"#DejaVuSans-112\"/>\n      <use x=\"126.660156\" xlink:href=\"#DejaVuSans-111\"/>\n      <use x=\"187.841797\" xlink:href=\"#DejaVuSans-99\"/>\n      <use x=\"242.822266\" xlink:href=\"#DejaVuSans-104\"/>\n      <use x=\"306.201172\" xlink:href=\"#DejaVuSans-115\"/>\n     </g>\n    </g>\n   </g>\n   <g id=\"matplotlib.axis_2\">\n    <g id=\"ytick_1\">\n     <g id=\"line2d_9\">\n      <defs>\n       <path d=\"M 0 0 \nL -3.5 0 \n\" id=\"mf3371bf534\" style=\"stroke:#000000;stroke-width:0.8;\"/>\n      </defs>\n      <g>\n       <use style=\"stroke:#000000;stroke-width:0.8;\" x=\"56.50625\" xlink:href=\"#mf3371bf534\" y=\"251.09043\"/>\n      </g>\n     </g>\n     <g id=\"text_10\">\n      <!-- 0.005 -->\n      <g transform=\"translate(20.878125 254.889649)scale(0.1 -0.1)\">\n       <use xlink:href=\"#DejaVuSans-48\"/>\n       <use x=\"63.623047\" xlink:href=\"#DejaVuSans-46\"/>\n       <use x=\"95.410156\" xlink:href=\"#DejaVuSans-48\"/>\n       <use x=\"159.033203\" xlink:href=\"#DejaVuSans-48\"/>\n       <use x=\"222.65625\" xlink:href=\"#DejaVuSans-53\"/>\n      </g>\n     </g>\n    </g>\n    <g id=\"ytick_2\">\n     <g id=\"line2d_10\">\n      <g>\n       <use style=\"stroke:#000000;stroke-width:0.8;\" x=\"56.50625\" xlink:href=\"#mf3371bf534\" y=\"204.880629\"/>\n      </g>\n     </g>\n     <g id=\"text_11\">\n      <!-- 0.010 -->\n      <g transform=\"translate(20.878125 208.679848)scale(0.1 -0.1)\">\n       <use xlink:href=\"#DejaVuSans-48\"/>\n       <use x=\"63.623047\" xlink:href=\"#DejaVuSans-46\"/>\n       <use x=\"95.410156\" xlink:href=\"#DejaVuSans-48\"/>\n       <use x=\"159.033203\" xlink:href=\"#DejaVuSans-49\"/>\n       <use x=\"222.65625\" xlink:href=\"#DejaVuSans-48\"/>\n      </g>\n     </g>\n    </g>\n    <g id=\"ytick_3\">\n     <g id=\"line2d_11\">\n      <g>\n       <use style=\"stroke:#000000;stroke-width:0.8;\" x=\"56.50625\" xlink:href=\"#mf3371bf534\" y=\"158.670828\"/>\n      </g>\n     </g>\n     <g id=\"text_12\">\n      <!-- 0.015 -->\n      <g transform=\"translate(20.878125 162.470046)scale(0.1 -0.1)\">\n       <use xlink:href=\"#DejaVuSans-48\"/>\n       <use x=\"63.623047\" xlink:href=\"#DejaVuSans-46\"/>\n       <use x=\"95.410156\" xlink:href=\"#DejaVuSans-48\"/>\n       <use x=\"159.033203\" xlink:href=\"#DejaVuSans-49\"/>\n       <use x=\"222.65625\" xlink:href=\"#DejaVuSans-53\"/>\n      </g>\n     </g>\n    </g>\n    <g id=\"ytick_4\">\n     <g id=\"line2d_12\">\n      <g>\n       <use style=\"stroke:#000000;stroke-width:0.8;\" x=\"56.50625\" xlink:href=\"#mf3371bf534\" y=\"112.461026\"/>\n      </g>\n     </g>\n     <g id=\"text_13\">\n      <!-- 0.020 -->\n      <g transform=\"translate(20.878125 116.260245)scale(0.1 -0.1)\">\n       <use xlink:href=\"#DejaVuSans-48\"/>\n       <use x=\"63.623047\" xlink:href=\"#DejaVuSans-46\"/>\n       <use x=\"95.410156\" xlink:href=\"#DejaVuSans-48\"/>\n       <use x=\"159.033203\" xlink:href=\"#DejaVuSans-50\"/>\n       <use x=\"222.65625\" xlink:href=\"#DejaVuSans-48\"/>\n      </g>\n     </g>\n    </g>\n    <g id=\"ytick_5\">\n     <g id=\"line2d_13\">\n      <g>\n       <use style=\"stroke:#000000;stroke-width:0.8;\" x=\"56.50625\" xlink:href=\"#mf3371bf534\" y=\"66.251225\"/>\n      </g>\n     </g>\n     <g id=\"text_14\">\n      <!-- 0.025 -->\n      <g transform=\"translate(20.878125 70.050444)scale(0.1 -0.1)\">\n       <use xlink:href=\"#DejaVuSans-48\"/>\n       <use x=\"63.623047\" xlink:href=\"#DejaVuSans-46\"/>\n       <use x=\"95.410156\" xlink:href=\"#DejaVuSans-48\"/>\n       <use x=\"159.033203\" xlink:href=\"#DejaVuSans-50\"/>\n       <use x=\"222.65625\" xlink:href=\"#DejaVuSans-53\"/>\n      </g>\n     </g>\n    </g>\n    <g id=\"text_15\">\n     <!-- Loss -->\n     <defs>\n      <path d=\"M 9.8125 72.90625 \nL 19.671875 72.90625 \nL 19.671875 8.296875 \nL 55.171875 8.296875 \nL 55.171875 0 \nL 9.8125 0 \nz\n\" id=\"DejaVuSans-76\"/>\n     </defs>\n     <g transform=\"translate(14.798438 169.185313)rotate(-90)scale(0.1 -0.1)\">\n      <use xlink:href=\"#DejaVuSans-76\"/>\n      <use x=\"53.962891\" xlink:href=\"#DejaVuSans-111\"/>\n      <use x=\"115.144531\" xlink:href=\"#DejaVuSans-115\"/>\n      <use x=\"167.244141\" xlink:href=\"#DejaVuSans-115\"/>\n     </g>\n    </g>\n   </g>\n   <g id=\"line2d_14\">\n    <path clip-path=\"url(#p55be86c4ae)\" d=\"M 69.188068 34.67267 \nL 82.53735 232.827973 \nL 95.886633 249.197128 \nL 109.235915 256.537825 \nL 122.585197 260.495456 \nL 135.93448 263.843443 \nL 149.283762 267.274809 \nL 162.633044 269.425742 \nL 175.982327 271.788051 \nL 189.331609 273.20276 \nL 202.680891 274.498951 \nL 216.030173 275.441438 \nL 229.379456 276.348505 \nL 242.728738 277.181376 \nL 256.07802 277.677086 \nL 269.427303 278.398763 \nL 282.776585 279.403666 \nL 296.125867 280.078517 \nL 309.47515 280.621263 \nL 322.824432 281.176703 \n\" style=\"fill:none;stroke:#0000ff;stroke-linecap:square;stroke-width:1.5;\"/>\n    <defs>\n     <path d=\"M 0 3 \nC 0.795609 3 1.55874 2.683901 2.12132 2.12132 \nC 2.683901 1.55874 3 0.795609 3 0 \nC 3 -0.795609 2.683901 -1.55874 2.12132 -2.12132 \nC 1.55874 -2.683901 0.795609 -3 0 -3 \nC -0.795609 -3 -1.55874 -2.683901 -2.12132 -2.12132 \nC -2.683901 -1.55874 -3 -0.795609 -3 0 \nC -3 0.795609 -2.683901 1.55874 -2.12132 2.12132 \nC -1.55874 2.683901 -0.795609 3 0 3 \nz\n\" id=\"mcc0763656f\" style=\"stroke:#0000ff;\"/>\n    </defs>\n    <g clip-path=\"url(#p55be86c4ae)\">\n     <use style=\"fill:#0000ff;stroke:#0000ff;\" x=\"69.188068\" xlink:href=\"#mcc0763656f\" y=\"34.67267\"/>\n     <use style=\"fill:#0000ff;stroke:#0000ff;\" x=\"82.53735\" xlink:href=\"#mcc0763656f\" y=\"232.827973\"/>\n     <use style=\"fill:#0000ff;stroke:#0000ff;\" x=\"95.886633\" xlink:href=\"#mcc0763656f\" y=\"249.197128\"/>\n     <use style=\"fill:#0000ff;stroke:#0000ff;\" x=\"109.235915\" xlink:href=\"#mcc0763656f\" y=\"256.537825\"/>\n     <use style=\"fill:#0000ff;stroke:#0000ff;\" x=\"122.585197\" xlink:href=\"#mcc0763656f\" y=\"260.495456\"/>\n     <use style=\"fill:#0000ff;stroke:#0000ff;\" x=\"135.93448\" xlink:href=\"#mcc0763656f\" y=\"263.843443\"/>\n     <use style=\"fill:#0000ff;stroke:#0000ff;\" x=\"149.283762\" xlink:href=\"#mcc0763656f\" y=\"267.274809\"/>\n     <use style=\"fill:#0000ff;stroke:#0000ff;\" x=\"162.633044\" xlink:href=\"#mcc0763656f\" y=\"269.425742\"/>\n     <use style=\"fill:#0000ff;stroke:#0000ff;\" x=\"175.982327\" xlink:href=\"#mcc0763656f\" y=\"271.788051\"/>\n     <use style=\"fill:#0000ff;stroke:#0000ff;\" x=\"189.331609\" xlink:href=\"#mcc0763656f\" y=\"273.20276\"/>\n     <use style=\"fill:#0000ff;stroke:#0000ff;\" x=\"202.680891\" xlink:href=\"#mcc0763656f\" y=\"274.498951\"/>\n     <use style=\"fill:#0000ff;stroke:#0000ff;\" x=\"216.030173\" xlink:href=\"#mcc0763656f\" y=\"275.441438\"/>\n     <use style=\"fill:#0000ff;stroke:#0000ff;\" x=\"229.379456\" xlink:href=\"#mcc0763656f\" y=\"276.348505\"/>\n     <use style=\"fill:#0000ff;stroke:#0000ff;\" x=\"242.728738\" xlink:href=\"#mcc0763656f\" y=\"277.181376\"/>\n     <use style=\"fill:#0000ff;stroke:#0000ff;\" x=\"256.07802\" xlink:href=\"#mcc0763656f\" y=\"277.677086\"/>\n     <use style=\"fill:#0000ff;stroke:#0000ff;\" x=\"269.427303\" xlink:href=\"#mcc0763656f\" y=\"278.398763\"/>\n     <use style=\"fill:#0000ff;stroke:#0000ff;\" x=\"282.776585\" xlink:href=\"#mcc0763656f\" y=\"279.403666\"/>\n     <use style=\"fill:#0000ff;stroke:#0000ff;\" x=\"296.125867\" xlink:href=\"#mcc0763656f\" y=\"280.078517\"/>\n     <use style=\"fill:#0000ff;stroke:#0000ff;\" x=\"309.47515\" xlink:href=\"#mcc0763656f\" y=\"280.621263\"/>\n     <use style=\"fill:#0000ff;stroke:#0000ff;\" x=\"322.824432\" xlink:href=\"#mcc0763656f\" y=\"281.176703\"/>\n    </g>\n   </g>\n   <g id=\"line2d_15\">\n    <path clip-path=\"url(#p55be86c4ae)\" d=\"M 69.188068 219.311101 \nL 82.53735 236.40748 \nL 95.886633 240.822434 \nL 109.235915 260.69944 \nL 122.585197 261.621524 \nL 135.93448 266.3913 \nL 149.283762 268.775475 \nL 162.633044 272.070252 \nL 175.982327 274.115082 \nL 189.331609 275.097093 \nL 202.680891 275.704651 \nL 216.030173 272.218795 \nL 229.379456 277.922587 \nL 242.728738 276.19359 \nL 256.07802 276.397327 \nL 269.427303 280.108923 \nL 282.776585 280.639349 \nL 296.125867 281.396517 \nL 309.47515 281.76358 \nL 322.824432 281.602566 \n\" style=\"fill:none;stroke:#ff0000;stroke-linecap:square;stroke-width:1.5;\"/>\n    <defs>\n     <path d=\"M 0 3 \nC 0.795609 3 1.55874 2.683901 2.12132 2.12132 \nC 2.683901 1.55874 3 0.795609 3 0 \nC 3 -0.795609 2.683901 -1.55874 2.12132 -2.12132 \nC 1.55874 -2.683901 0.795609 -3 0 -3 \nC -0.795609 -3 -1.55874 -2.683901 -2.12132 -2.12132 \nC -2.683901 -1.55874 -3 -0.795609 -3 0 \nC -3 0.795609 -2.683901 1.55874 -2.12132 2.12132 \nC -1.55874 2.683901 -0.795609 3 0 3 \nz\n\" id=\"me74108746d\" style=\"stroke:#ff0000;\"/>\n    </defs>\n    <g clip-path=\"url(#p55be86c4ae)\">\n     <use style=\"fill:#ff0000;stroke:#ff0000;\" x=\"69.188068\" xlink:href=\"#me74108746d\" y=\"219.311101\"/>\n     <use style=\"fill:#ff0000;stroke:#ff0000;\" x=\"82.53735\" xlink:href=\"#me74108746d\" y=\"236.40748\"/>\n     <use style=\"fill:#ff0000;stroke:#ff0000;\" x=\"95.886633\" xlink:href=\"#me74108746d\" y=\"240.822434\"/>\n     <use style=\"fill:#ff0000;stroke:#ff0000;\" x=\"109.235915\" xlink:href=\"#me74108746d\" y=\"260.69944\"/>\n     <use style=\"fill:#ff0000;stroke:#ff0000;\" x=\"122.585197\" xlink:href=\"#me74108746d\" y=\"261.621524\"/>\n     <use style=\"fill:#ff0000;stroke:#ff0000;\" x=\"135.93448\" xlink:href=\"#me74108746d\" y=\"266.3913\"/>\n     <use style=\"fill:#ff0000;stroke:#ff0000;\" x=\"149.283762\" xlink:href=\"#me74108746d\" y=\"268.775475\"/>\n     <use style=\"fill:#ff0000;stroke:#ff0000;\" x=\"162.633044\" xlink:href=\"#me74108746d\" y=\"272.070252\"/>\n     <use style=\"fill:#ff0000;stroke:#ff0000;\" x=\"175.982327\" xlink:href=\"#me74108746d\" y=\"274.115082\"/>\n     <use style=\"fill:#ff0000;stroke:#ff0000;\" x=\"189.331609\" xlink:href=\"#me74108746d\" y=\"275.097093\"/>\n     <use style=\"fill:#ff0000;stroke:#ff0000;\" x=\"202.680891\" xlink:href=\"#me74108746d\" y=\"275.704651\"/>\n     <use style=\"fill:#ff0000;stroke:#ff0000;\" x=\"216.030173\" xlink:href=\"#me74108746d\" y=\"272.218795\"/>\n     <use style=\"fill:#ff0000;stroke:#ff0000;\" x=\"229.379456\" xlink:href=\"#me74108746d\" y=\"277.922587\"/>\n     <use style=\"fill:#ff0000;stroke:#ff0000;\" x=\"242.728738\" xlink:href=\"#me74108746d\" y=\"276.19359\"/>\n     <use style=\"fill:#ff0000;stroke:#ff0000;\" x=\"256.07802\" xlink:href=\"#me74108746d\" y=\"276.397327\"/>\n     <use style=\"fill:#ff0000;stroke:#ff0000;\" x=\"269.427303\" xlink:href=\"#me74108746d\" y=\"280.108923\"/>\n     <use style=\"fill:#ff0000;stroke:#ff0000;\" x=\"282.776585\" xlink:href=\"#me74108746d\" y=\"280.639349\"/>\n     <use style=\"fill:#ff0000;stroke:#ff0000;\" x=\"296.125867\" xlink:href=\"#me74108746d\" y=\"281.396517\"/>\n     <use style=\"fill:#ff0000;stroke:#ff0000;\" x=\"309.47515\" xlink:href=\"#me74108746d\" y=\"281.76358\"/>\n     <use style=\"fill:#ff0000;stroke:#ff0000;\" x=\"322.824432\" xlink:href=\"#me74108746d\" y=\"281.602566\"/>\n    </g>\n   </g>\n   <g id=\"patch_3\">\n    <path d=\"M 56.50625 294.118125 \nL 56.50625 22.318125 \n\" style=\"fill:none;stroke:#000000;stroke-linecap:square;stroke-linejoin:miter;stroke-width:0.8;\"/>\n   </g>\n   <g id=\"patch_4\">\n    <path d=\"M 335.50625 294.118125 \nL 335.50625 22.318125 \n\" style=\"fill:none;stroke:#000000;stroke-linecap:square;stroke-linejoin:miter;stroke-width:0.8;\"/>\n   </g>\n   <g id=\"patch_5\">\n    <path d=\"M 56.50625 294.118125 \nL 335.50625 294.118125 \n\" style=\"fill:none;stroke:#000000;stroke-linecap:square;stroke-linejoin:miter;stroke-width:0.8;\"/>\n   </g>\n   <g id=\"patch_6\">\n    <path d=\"M 56.50625 22.318125 \nL 335.50625 22.318125 \n\" style=\"fill:none;stroke:#000000;stroke-linecap:square;stroke-linejoin:miter;stroke-width:0.8;\"/>\n   </g>\n   <g id=\"text_16\">\n    <!-- Model loss -->\n    <defs>\n     <path d=\"M 9.8125 72.90625 \nL 24.515625 72.90625 \nL 43.109375 23.296875 \nL 61.8125 72.90625 \nL 76.515625 72.90625 \nL 76.515625 0 \nL 66.890625 0 \nL 66.890625 64.015625 \nL 48.09375 14.015625 \nL 38.1875 14.015625 \nL 19.390625 64.015625 \nL 19.390625 0 \nL 9.8125 0 \nz\n\" id=\"DejaVuSans-77\"/>\n     <path d=\"M 45.40625 46.390625 \nL 45.40625 75.984375 \nL 54.390625 75.984375 \nL 54.390625 0 \nL 45.40625 0 \nL 45.40625 8.203125 \nQ 42.578125 3.328125 38.25 0.953125 \nQ 33.9375 -1.421875 27.875 -1.421875 \nQ 17.96875 -1.421875 11.734375 6.484375 \nQ 5.515625 14.40625 5.515625 27.296875 \nQ 5.515625 40.1875 11.734375 48.09375 \nQ 17.96875 56 27.875 56 \nQ 33.9375 56 38.25 53.625 \nQ 42.578125 51.265625 45.40625 46.390625 \nz\nM 14.796875 27.296875 \nQ 14.796875 17.390625 18.875 11.75 \nQ 22.953125 6.109375 30.078125 6.109375 \nQ 37.203125 6.109375 41.296875 11.75 \nQ 45.40625 17.390625 45.40625 27.296875 \nQ 45.40625 37.203125 41.296875 42.84375 \nQ 37.203125 48.484375 30.078125 48.484375 \nQ 22.953125 48.484375 18.875 42.84375 \nQ 14.796875 37.203125 14.796875 27.296875 \nz\n\" id=\"DejaVuSans-100\"/>\n     <path d=\"M 56.203125 29.59375 \nL 56.203125 25.203125 \nL 14.890625 25.203125 \nQ 15.484375 15.921875 20.484375 11.0625 \nQ 25.484375 6.203125 34.421875 6.203125 \nQ 39.59375 6.203125 44.453125 7.46875 \nQ 49.3125 8.734375 54.109375 11.28125 \nL 54.109375 2.78125 \nQ 49.265625 0.734375 44.1875 -0.34375 \nQ 39.109375 -1.421875 33.890625 -1.421875 \nQ 20.796875 -1.421875 13.15625 6.1875 \nQ 5.515625 13.8125 5.515625 26.8125 \nQ 5.515625 40.234375 12.765625 48.109375 \nQ 20.015625 56 32.328125 56 \nQ 43.359375 56 49.78125 48.890625 \nQ 56.203125 41.796875 56.203125 29.59375 \nz\nM 47.21875 32.234375 \nQ 47.125 39.59375 43.09375 43.984375 \nQ 39.0625 48.390625 32.421875 48.390625 \nQ 24.90625 48.390625 20.390625 44.140625 \nQ 15.875 39.890625 15.1875 32.171875 \nz\n\" id=\"DejaVuSans-101\"/>\n     <path d=\"M 9.421875 75.984375 \nL 18.40625 75.984375 \nL 18.40625 0 \nL 9.421875 0 \nz\n\" id=\"DejaVuSans-108\"/>\n     <path id=\"DejaVuSans-32\"/>\n    </defs>\n    <g transform=\"translate(164.494062 16.318125)scale(0.12 -0.12)\">\n     <use xlink:href=\"#DejaVuSans-77\"/>\n     <use x=\"86.279297\" xlink:href=\"#DejaVuSans-111\"/>\n     <use x=\"147.460938\" xlink:href=\"#DejaVuSans-100\"/>\n     <use x=\"210.9375\" xlink:href=\"#DejaVuSans-101\"/>\n     <use x=\"272.460938\" xlink:href=\"#DejaVuSans-108\"/>\n     <use x=\"300.244141\" xlink:href=\"#DejaVuSans-32\"/>\n     <use x=\"332.03125\" xlink:href=\"#DejaVuSans-108\"/>\n     <use x=\"359.814453\" xlink:href=\"#DejaVuSans-111\"/>\n     <use x=\"420.996094\" xlink:href=\"#DejaVuSans-115\"/>\n     <use x=\"473.095703\" xlink:href=\"#DejaVuSans-115\"/>\n    </g>\n   </g>\n   <g id=\"legend_1\">\n    <g id=\"patch_7\">\n     <path d=\"M 272.51875 59.674375 \nL 328.50625 59.674375 \nQ 330.50625 59.674375 330.50625 57.674375 \nL 330.50625 29.318125 \nQ 330.50625 27.318125 328.50625 27.318125 \nL 272.51875 27.318125 \nQ 270.51875 27.318125 270.51875 29.318125 \nL 270.51875 57.674375 \nQ 270.51875 59.674375 272.51875 59.674375 \nz\n\" style=\"fill:#ffffff;opacity:0.8;stroke:#cccccc;stroke-linejoin:miter;\"/>\n    </g>\n    <g id=\"line2d_16\">\n     <path d=\"M 274.51875 35.416562 \nL 294.51875 35.416562 \n\" style=\"fill:none;stroke:#0000ff;stroke-linecap:square;stroke-width:1.5;\"/>\n    </g>\n    <g id=\"line2d_17\">\n     <g>\n      <use style=\"fill:#0000ff;stroke:#0000ff;\" x=\"284.51875\" xlink:href=\"#mcc0763656f\" y=\"35.416562\"/>\n     </g>\n    </g>\n    <g id=\"text_17\">\n     <!-- Train -->\n     <defs>\n      <path d=\"M -0.296875 72.90625 \nL 61.375 72.90625 \nL 61.375 64.59375 \nL 35.5 64.59375 \nL 35.5 0 \nL 25.59375 0 \nL 25.59375 64.59375 \nL -0.296875 64.59375 \nz\n\" id=\"DejaVuSans-84\"/>\n      <path d=\"M 41.109375 46.296875 \nQ 39.59375 47.171875 37.8125 47.578125 \nQ 36.03125 48 33.890625 48 \nQ 26.265625 48 22.1875 43.046875 \nQ 18.109375 38.09375 18.109375 28.8125 \nL 18.109375 0 \nL 9.078125 0 \nL 9.078125 54.6875 \nL 18.109375 54.6875 \nL 18.109375 46.1875 \nQ 20.953125 51.171875 25.484375 53.578125 \nQ 30.03125 56 36.53125 56 \nQ 37.453125 56 38.578125 55.875 \nQ 39.703125 55.765625 41.0625 55.515625 \nz\n\" id=\"DejaVuSans-114\"/>\n      <path d=\"M 34.28125 27.484375 \nQ 23.390625 27.484375 19.1875 25 \nQ 14.984375 22.515625 14.984375 16.5 \nQ 14.984375 11.71875 18.140625 8.90625 \nQ 21.296875 6.109375 26.703125 6.109375 \nQ 34.1875 6.109375 38.703125 11.40625 \nQ 43.21875 16.703125 43.21875 25.484375 \nL 43.21875 27.484375 \nz\nM 52.203125 31.203125 \nL 52.203125 0 \nL 43.21875 0 \nL 43.21875 8.296875 \nQ 40.140625 3.328125 35.546875 0.953125 \nQ 30.953125 -1.421875 24.3125 -1.421875 \nQ 15.921875 -1.421875 10.953125 3.296875 \nQ 6 8.015625 6 15.921875 \nQ 6 25.140625 12.171875 29.828125 \nQ 18.359375 34.515625 30.609375 34.515625 \nL 43.21875 34.515625 \nL 43.21875 35.40625 \nQ 43.21875 41.609375 39.140625 45 \nQ 35.0625 48.390625 27.6875 48.390625 \nQ 23 48.390625 18.546875 47.265625 \nQ 14.109375 46.140625 10.015625 43.890625 \nL 10.015625 52.203125 \nQ 14.9375 54.109375 19.578125 55.046875 \nQ 24.21875 56 28.609375 56 \nQ 40.484375 56 46.34375 49.84375 \nQ 52.203125 43.703125 52.203125 31.203125 \nz\n\" id=\"DejaVuSans-97\"/>\n      <path d=\"M 9.421875 54.6875 \nL 18.40625 54.6875 \nL 18.40625 0 \nL 9.421875 0 \nz\nM 9.421875 75.984375 \nL 18.40625 75.984375 \nL 18.40625 64.59375 \nL 9.421875 64.59375 \nz\n\" id=\"DejaVuSans-105\"/>\n      <path d=\"M 54.890625 33.015625 \nL 54.890625 0 \nL 45.90625 0 \nL 45.90625 32.71875 \nQ 45.90625 40.484375 42.875 44.328125 \nQ 39.84375 48.1875 33.796875 48.1875 \nQ 26.515625 48.1875 22.3125 43.546875 \nQ 18.109375 38.921875 18.109375 30.90625 \nL 18.109375 0 \nL 9.078125 0 \nL 9.078125 54.6875 \nL 18.109375 54.6875 \nL 18.109375 46.1875 \nQ 21.34375 51.125 25.703125 53.5625 \nQ 30.078125 56 35.796875 56 \nQ 45.21875 56 50.046875 50.171875 \nQ 54.890625 44.34375 54.890625 33.015625 \nz\n\" id=\"DejaVuSans-110\"/>\n     </defs>\n     <g transform=\"translate(302.51875 38.916562)scale(0.1 -0.1)\">\n      <use xlink:href=\"#DejaVuSans-84\"/>\n      <use x=\"46.333984\" xlink:href=\"#DejaVuSans-114\"/>\n      <use x=\"87.447266\" xlink:href=\"#DejaVuSans-97\"/>\n      <use x=\"148.726562\" xlink:href=\"#DejaVuSans-105\"/>\n      <use x=\"176.509766\" xlink:href=\"#DejaVuSans-110\"/>\n     </g>\n    </g>\n    <g id=\"line2d_18\">\n     <path d=\"M 274.51875 50.094688 \nL 294.51875 50.094688 \n\" style=\"fill:none;stroke:#ff0000;stroke-linecap:square;stroke-width:1.5;\"/>\n    </g>\n    <g id=\"line2d_19\">\n     <g>\n      <use style=\"fill:#ff0000;stroke:#ff0000;\" x=\"284.51875\" xlink:href=\"#me74108746d\" y=\"50.094688\"/>\n     </g>\n    </g>\n    <g id=\"text_18\">\n     <!-- Test -->\n     <defs>\n      <path d=\"M 18.3125 70.21875 \nL 18.3125 54.6875 \nL 36.8125 54.6875 \nL 36.8125 47.703125 \nL 18.3125 47.703125 \nL 18.3125 18.015625 \nQ 18.3125 11.328125 20.140625 9.421875 \nQ 21.96875 7.515625 27.59375 7.515625 \nL 36.8125 7.515625 \nL 36.8125 0 \nL 27.59375 0 \nQ 17.1875 0 13.234375 3.875 \nQ 9.28125 7.765625 9.28125 18.015625 \nL 9.28125 47.703125 \nL 2.6875 47.703125 \nL 2.6875 54.6875 \nL 9.28125 54.6875 \nL 9.28125 70.21875 \nz\n\" id=\"DejaVuSans-116\"/>\n     </defs>\n     <g transform=\"translate(302.51875 53.594688)scale(0.1 -0.1)\">\n      <use xlink:href=\"#DejaVuSans-84\"/>\n      <use x=\"44.083984\" xlink:href=\"#DejaVuSans-101\"/>\n      <use x=\"105.607422\" xlink:href=\"#DejaVuSans-115\"/>\n      <use x=\"157.707031\" xlink:href=\"#DejaVuSans-116\"/>\n     </g>\n    </g>\n   </g>\n  </g>\n </g>\n <defs>\n  <clipPath id=\"p55be86c4ae\">\n   <rect height=\"271.8\" width=\"279\" x=\"56.50625\" y=\"22.318125\"/>\n  </clipPath>\n </defs>\n</svg>\n"
          },
          "metadata": {
            "needs_background": "light"
          }
        }
      ]
    },
    {
      "cell_type": "code",
      "source": [
        "randomnums = np.random.choice(10000,10)"
      ],
      "metadata": {
        "id": "56JEMqpt7Eyk"
      },
      "execution_count": 151,
      "outputs": []
    },
    {
      "cell_type": "code",
      "source": [
        "randomnums[0]"
      ],
      "metadata": {
        "colab": {
          "base_uri": "https://localhost:8080/"
        },
        "id": "y0NN1MilDstY",
        "outputId": "8fc39421-1ed5-4e6c-99c2-f8609846ad83"
      },
      "execution_count": 152,
      "outputs": [
        {
          "output_type": "execute_result",
          "data": {
            "text/plain": [
              "6179"
            ]
          },
          "metadata": {},
          "execution_count": 152
        }
      ]
    },
    {
      "cell_type": "code",
      "source": [
        "next(iter(testloader))[0][randomnums,:].shape"
      ],
      "metadata": {
        "colab": {
          "base_uri": "https://localhost:8080/"
        },
        "id": "1GNG-YgL5MrM",
        "outputId": "b6d570e6-49cb-4994-c333-3a1b82b5f04c"
      },
      "execution_count": 153,
      "outputs": [
        {
          "output_type": "execute_result",
          "data": {
            "text/plain": [
              "torch.Size([10, 3, 32, 32])"
            ]
          },
          "metadata": {},
          "execution_count": 153
        }
      ]
    },
    {
      "cell_type": "code",
      "source": [
        "test.data[randomnums,:].shape"
      ],
      "metadata": {
        "colab": {
          "base_uri": "https://localhost:8080/"
        },
        "id": "rfPdaNn6oLv_",
        "outputId": "ce6ee2fa-166c-49ca-c185-f33f16f6aea8"
      },
      "execution_count": 154,
      "outputs": [
        {
          "output_type": "execute_result",
          "data": {
            "text/plain": [
              "(10, 32, 32, 3)"
            ]
          },
          "metadata": {},
          "execution_count": 154
        }
      ]
    },
    {
      "cell_type": "code",
      "source": [
        "next(iter(testloader))[0][54,:].reshape(1,3,32,32).shape"
      ],
      "metadata": {
        "colab": {
          "base_uri": "https://localhost:8080/"
        },
        "id": "p0yqOhLTD114",
        "outputId": "148aa44e-4f6b-4d4a-c4c6-bf47177f6677"
      },
      "execution_count": 155,
      "outputs": [
        {
          "output_type": "execute_result",
          "data": {
            "text/plain": [
              "torch.Size([1, 3, 32, 32])"
            ]
          },
          "metadata": {},
          "execution_count": 155
        }
      ]
    },
    {
      "cell_type": "code",
      "source": [
        "randomnums = np.random.choice(5000,10)\n",
        "CNNAutoenc.cpu()\n",
        "\n",
        "X , y =  next(iter(testloader))\n",
        "CNNout = CNNAutoenc(X[randomnums,:]).detach()\n",
        "CNNout.shape"
      ],
      "metadata": {
        "colab": {
          "base_uri": "https://localhost:8080/"
        },
        "id": "oyo6fHxtWqDc",
        "outputId": "024b9fec-20f2-4d7b-bb1d-573104c20910"
      },
      "execution_count": 156,
      "outputs": [
        {
          "output_type": "execute_result",
          "data": {
            "text/plain": [
              "torch.Size([10, 3, 32, 32])"
            ]
          },
          "metadata": {},
          "execution_count": 156
        }
      ]
    },
    {
      "cell_type": "code",
      "source": [
        ""
      ],
      "metadata": {
        "id": "FEXQ8Dp2Ya-Z"
      },
      "execution_count": 156,
      "outputs": []
    },
    {
      "cell_type": "code",
      "source": [
        "fig,ax = plt.subplots(2,2,figsize=(10,10))\n",
        "randomnums = np.random.choice(5000,2)\n",
        "CNNAutoenc.cpu()\n",
        "\n",
        "X , y =  next(iter(testloader))\n",
        "CNNout = CNNAutoenc(X[randomnums,:]).detach()\n",
        "\n",
        "\n",
        "for i in range(2):\n",
        "  ax[0,i].imshow(test.data[randomnums[i],:])\n",
        "  ax[0,i].set_xticks([])\n",
        "  ax[0,i].set_yticks([])\n",
        "\n",
        "  ax[1,i].imshow(np.transpose(CNNout[i,:],(1,2,0)))\n",
        "  ax[1,i].set_xticks([])\n",
        "  ax[1,i].set_yticks([])\n",
        "  \n",
        "  \n",
        "# ax.plot(testloss,'ro-',label='Test')\n",
        "# ax.set_xticks([])\n",
        "# ax.set_ylabel('Loss')\n",
        "# ax.set_title('Model loss')\n",
        "# ax.legend()\n",
        "\n",
        "plt.show()"
      ],
      "metadata": {
        "colab": {
          "base_uri": "https://localhost:8080/",
          "height": 788
        },
        "id": "NmMQX7fongmU",
        "outputId": "caf9592c-827e-4bc0-fffe-f953a2675847"
      },
      "execution_count": 157,
      "outputs": [
        {
          "output_type": "stream",
          "name": "stderr",
          "text": [
            "Clipping input data to the valid range for imshow with RGB data ([0..1] for floats or [0..255] for integers).\n"
          ]
        },
        {
          "output_type": "display_data",
          "data": {
            "text/plain": [
              "<Figure size 720x720 with 4 Axes>"
            ],
            "image/svg+xml": "<?xml version=\"1.0\" encoding=\"utf-8\" standalone=\"no\"?>\n<!DOCTYPE svg PUBLIC \"-//W3C//DTD SVG 1.1//EN\"\n  \"http://www.w3.org/Graphics/SVG/1.1/DTD/svg11.dtd\">\n<!-- Created with matplotlib (https://matplotlib.org/) -->\n<svg height=\"561.5pt\" version=\"1.1\" viewBox=\"0 0 569.354545 561.5\" width=\"569.354545pt\" xmlns=\"http://www.w3.org/2000/svg\" xmlns:xlink=\"http://www.w3.org/1999/xlink\">\n <defs>\n  <style type=\"text/css\">\n*{stroke-linecap:butt;stroke-linejoin:round;}\n  </style>\n </defs>\n <g id=\"figure_1\">\n  <g id=\"patch_1\">\n   <path d=\"M 0 561.5 \nL 569.354545 561.5 \nL 569.354545 0 \nL 0 0 \nz\n\" style=\"fill:none;\"/>\n  </g>\n  <g id=\"axes_1\">\n   <g id=\"patch_2\">\n    <path d=\"M 10.7 254.290909 \nL 257.790909 254.290909 \nL 257.790909 7.2 \nL 10.7 7.2 \nz\n\" style=\"fill:#ffffff;\"/>\n   </g>\n   <g clip-path=\"url(#p8ca7775bea)\">\n    <image height=\"248\" id=\"image39c5d32fb1\" transform=\"scale(1 -1)translate(0 -248)\" width=\"248\" x=\"10.7\" xlink:href=\"data:image/png;base64,\niVBORw0KGgoAAAANSUhEUgAAAPgAAAD4CAYAAADB0SsLAAAABHNCSVQICAgIfAhkiAAAFJFJREFUeJztnUlzJNd1hW/OWZU1oKowdANodKPJniSxOchDhP6I/4b/lhcOb7zwxhGyIxyKkBUKkaJFiaTZTXZjBgpAjVk5eqH1PW/t2+fbXryqnE5lBM4793r/8I9/2wqgaWu11k8ztFR6YQ/WZ4t7WM+XC7U28PFn5+0G1jetD+s3J+C7Rwlcm022YH2lX1IREYlj/fO7AT7uqi5gPQg6sF6Dg/O8Eq5d5Tmsn1/p11REZF14au3y3R1cO+50Yf3vf/UFrAdd/Z49Ov4Z/u7RCNb/9Z//CdZvry7V2tZoDNe2fgjr+GkhhPy/hgInxDAUOCGGocAJMQwFTohhKHBCDEOBE2KYsKwr+AdBpP8GtAItdElC7NFt97F/OKt0X3RxMYNr26iB9WyAverrQvd8oyiFayXAHrwP9haIiESBfuyRF+CvbvBnex72i2/vdK+6WmEv+ujxIazv7O7Det3q53bWP4Nryzn2/z38OEivr+8P+O7Nd3DtT79+D+vrJd7vsb0/UWudDt5z4Tne0XyDE2IYCpwQw1DghBiGAifEMBQ4IYahwAkxDAVOiGHCxuFlt8BXzTfY782bNaxvgQyuiEjr6+bldHoN10qKjc9xH3vZ9VzfH9Cu8O9iE+n+vYhIscK56STWa53uAK71G/zd0sE++tzT9y6cnl3BteVoCOtRCk5MRLxS33swyfBzKmEflq/OLnA9X6q1izvssW9yvPdgPMbHlvT0e9I4NBS2+H7zDU6IYShwQgxDgRNiGAqcEMNQ4IQYhgInxDBhEGDbpAZxUt+xNolwi96gjWA9rHVbJajwb9PmDtsLswBHH4t73QJcXmDbpLPB59VusLWxvb+t1vYj3Ea33MxhfTrDFl3m6cce1fh+T0/19r8iIk/2dmG99fRrnnXxNV3V+Jr+5vffwHr3cEetlT6O2E7G+v0SEUk72OKrWj2iG3jYgmtw2ptvcEIsQ4ETYhgKnBDDUOCEGIYCJ8QwFDghhqHACTFMmATYX/RaPVaZVril6+0ZHhd77fBsvVKPfCYJ/u4mX8H67BTHTaNG9y69HEdRtxLcDjoZ7MH6KNNjl50An/cQtP8VESnvHSObK33/QBzgeO/FuxtYf7CrRzJFRAY9/dyyDEcup9e3sH53j/3/e1+/LmGGY9GP9vF1GXTw2OW21q955OP73Xo49sw3OCGGocAJMQwFTohhKHBCDEOBE2IYCpwQw1DghBgmjEvsgy+vdY9ueY997o2j3WyUYg+vC3zRboyzycM+9k3Xa+xNNpn+21fW2Be9meL2wn6E2wff3U3VWj9wtGwGY49FRO5XuD7b6Pnj6Qxn7OsC7w/485d/gvVhT89dHz87gmvF1T7Yd+TJl6Bl8xDnwePIMYJb8HWLIv2ah4773fr4WeIbnBDDUOCEGIYCJ8QwFDghhqHACTEMBU6IYShwQgwTJgX2k/NCz0WPhrgf9GAHj5OVBH+3xLqvevvuHVzaFvi3qyyxR982ui/qh7hX9fXNKaxLhDO+3VTPdJ/OcYZ+NcM5+NzR27yNdc83ivXRwiIiWT+D9dVc9/dFRIqF3qs+TnBv8Z2jV7DeSfCeixz0/5+MHXnvHs7gxxHee+C1+nNeVnjPRY0fY77BCbEMBU6IYShwQgxDgRNiGAqcEMNQ4IQYJsx6OG62PXqs1iYDfeSqiMhiitvk3i2x5SOeHgHERpVIC9oei4h4Pv5tCz3duuh1sc01CLBtMnfEKvOlHsP1CuyL9GJ8P/e3D2A9Adbnao3vZ5DjtsmdzgTWm1q/q63D1lwv8LMUOGKXKOraiXHUVGp8P2cLfN1CX7fRNhV+0qsCW5d8gxNiGAqcEMNQ4IQYhgInxDAUOCGGocAJMQwFTohhwhAn/GRT6/HDs/l7uDZKsCfbz/CXoyjcpWCfu6xwK9uqwhG+bqJ7nzsd7HMHjmjij+e4rXKz0q95P8Ye/GiIRxcfPX8G6ye3+nfXDq+5G2BPdtLrwXoARkI3Div6pyn24CPHsaXgnt1c4c9OfRzpvL2+gPXj4wdqbTQZwLV5jn1yvsEJMQwFTohhKHBCDEOBE2IYCpwQw1DghBiGAifEMCHK4IqINCBXHYS4Ba/nGPHbH+ARv0Gle5cnKfaDc3FlzXE5A5+fOsb/ej4+716EPdnBWPc++45r3k3wiSUNHmUbe/rz0Dha+Hoe3lvQifH+gS3QnnhW4nbQy5ljZHPrGFXd0dtF397M4NrMkTUPWuz/L+51jQ1G+LjrFt8TvsEJMQwFTohhKHBCDEOBE2IYCpwQw1DghBiGAifEMGHi6f6fiEjj675q4GM/uC6xJ1sW2IOvwVhV16jaZo793trh/wee7k3mRQ7X+o6seifD3ubulu4HZw7/vm1wDr4VfOxJqgevvQh/edzF+xr6I+wHb0/0vumjCPdUv5jja379Bu+LWJT6dUsDfL+KpeM5LrFXnYL9AZVjvPfsHj/nfIMTYhgKnBDDUOCEGIYCJ8QwFDghhqHACTFM6Av+N7z4uv3QAhvrr3+AY5Flhdc3oPVx7GjJPOxjSyYJHRG/lT7ytWqxFeWH2Fbpx7gVbhLrxx6Bds4iIleO1saywmN4t4FF976Lz2vmsOiCbAzrvaH+3Q1+lOTlc/wH6/YU1oMTPW46X+NrVtzha95J8bN2uP9QrdUVtianl7ewzjc4IYahwAkxDAVOiGEocEIMQ4ETYhgKnBDDUOCEGCZsHJHPBrTR9XzsPTYN9tjrBnt8VaH75G2N44FbQxxdnDjq9fRara03OP5XxjiCezHDkc2TyzO15ndwu+hVg/cWdGtcP9w9VGs7E+xj/8+338J69Wgf1rMtfX/AyQX2scMAn9feCO8fWNzrz2IW4LX1Bj/noxGONh882FFrc9f9TPBn8w1OiGEocEIMQ4ETYhgKnBDDUOCEGIYCJ8QwFDghhgmXOfZV1xs9F13WeKRrUeJ2ssD2FBGRDWh9HJT4t+nxAfZcdyLsXa5B3jxytKp948jofn86hfVwsq3WmgDvW9is8T3ZccxN9jPdVx3BlSI7jhu6A8Yii4i0oN10vsHnFYR4T0YvwfsmHoIxvQ8neF/D7TV+zjuZq3eBfs1fPHsJ13709CNY5xucEMNQ4IQYhgInxDAUOCGGocAJMQwFTohhKHBCDBO2HnY31xs9j1pU+PehakpYv5g6ctXAbt7f1XtJi4i0fVzfOtAzuCIiUV+/Luv353CtX+D88CjEfnC890CtnZ9ewLWLBfbov/jiU1gfHDxVa7/5j1/Dtd0Bzot3t/AI4DzX+6pHAd6vIY1jz0XH0at+X7/muaM3eVTre0VERHYe7sF6Weg6ycBzKCKys3sA63yDE2IYCpwQw1DghBiGAifEMBQ4IYahwAkxTHg/wyNfF0vdItjd01vsioh0ejgmd3F9B+seGJWb7T2Ga8PtXVjfefEK1rO9R2qt3cUtfLOn2Kr6yNGq+r7Qx9We/flf4NpBjT97tKXbQSIiRy8+UWvP73C75+n1JaznyRDWpdA/P+thq0kcI527XWyjSaO/696+P4FLHR285dXPX8P6la9fl+/f6i20RUS8Gp8X3+CEGIYCJ8QwFDghhqHACTEMBU6IYShwQgxDgRNimPDyAnuXaUdv6RoGHbh2zxFlC0I8+tQL9YhgHOP44GCC46CjB7rPLSIynOjRxmQHe+xRgY3RNMNx0bzWffCt6RyuPf89HuE7bvGxjQf6sX36+nO49r9++9+wfu/j52Ve6cfWNPi4oxBHOoMYt8lOk55a65Q4/hsscVy0ifGo6kZ0HdxMcbto+uCEfMBQ4IQYhgInxDAUOCGGocAJMQwFTohhKHBCDBNOb7APHsW6R7e3h1sTJyFuVTvK8FhW39MzvkGot3MWEdkd4M/uOsYHd/u6Dz4a4Va2sW5ji4iIn+BRt4Wvt9G9f4oz+OlffoD1aIVHG7/9Sveyb1t8P4cD7PdezLCHf3+ne75hiO9Xf6j72CIibY198u2ufr993A1a2rP3sP7dO9zquhzo59b6eL9H49EHJ+SDhQInxDAUOCGGocAJMQwFTohhKHBCDEOBE2KYMAxwznZ6o3t4+Rr7mlWJxwc/PsKZ7KbUfdGyxD743jb2qgMf+6L5Wh9tfHJxDdculzjDu7eNjdXeSM9Ntx7+TZ4vsc9dVPi6dTy9X3wd4Z7rlYev6Q8/voP1r7/5Xq1t7+B8/yev9X7uIiJJirPoV/OFWlue4N7kN/e4D368hXWQop7tAfa565Y+OCEfLBQ4IYahwAkxDAVOiGEocEIMQ4ETYpgwcEg8ifU/WK91a0FEpCpxbnI41CN6f/1u3RoJAhy5zBytib9/+xOs//HLr9Xa7/7wFVxb4EOTzz5+BuuHh/qo3PIKj1zeBNiq8ib4upzluqUzLRzf7WjhuynwiN98pT9PxRrHf5tCtzVFRMQRN60q/Vm9vjyHa5c5fs5z7ExKCNpkty1e7DnaYPMNTohhKHBCDEOBE2IYCpwQw1DghBiGAifEMBQ4IYYJlwscdUsT3X9cLnAs8uLiCtaPHuG4qefpHuByiY/76z/iMbqXl7hd9Pmp7n3OVvi7pYdjlT/+hD3403O9DW98dQ/XPne0sm5H+Nh+ONOjkSsft00G039FRCTt4O9+/ESPD2ddPGq6LHNY99b44AKwISTbwi2ZXS28JcLv0XyjP0+NjzdVNPTBCflwocAJMQwFTohhKHBCDEOBE2IYCpwQw1DghBgmbBrso+0fHKi1J8c41/xwH4+6LUqcH14udJ98Op061mKPvixxNrmX6aNwY4cnuxLcJnft8NEXK/26hAucwV+nODedCs5FT69v1NotvmRSOTzZTYs/IOvpx+4LzrlfX+NW1p6jTXYQ6NclaPBxt4520Tf3OEfvzZegiO+XC77BCTEMBU6IYShwQgxDgRNiGAqcEMNQ4IQYhgInxDDhYjGDf/Dj2zdqzdnneoN7VXveU1h/+eK5Wvvi8y/gWnH4pnWNPdsGePRLR/Z42eDzDla4j/ZG9O/Oz3DG/s2//TusX5++hfXhL16qtUNH1nxZ4PNaOnqXb9b6+k3uWOt41krHKOuq0p/ltWPPROk479Zxv2vQT76qcda8cdT5BifEMBQ4IYahwAkxDAVOiGEocEIMQ4ETYphwU+Do4hlo4XtzdwvX/u+bH2B9NvslrJ+cvFVrO9v6iF0RkU8+eQ3rBwc4yjroD9Va6xjRWzgSfnGBrY2NByy8j/H9ii5xW+WbL38L6y9ff67WPv3l38C1BbCaREQ2gq3JutTrLjsIWU0iIrXj2EpQLxz2XuGw6AqHRVcUen3jGMG9ybFlyzc4IYahwAkxDAVOiGEocEIMQ4ETYhgKnBDDUOCEGMb77O9eQXMyB5FQP0wcH49/P16+1KOJIjgiuFiCVrMi0ssGsL67i330n738uVo7PD6GayPQ/ldEZKeDj016HbU0CPA1791iX/SmwG2X44cjtZYk+LuRfS8i0oSOUbg12F/Q4r0HnqN1sYum0X321uHBtw5/vwKfLSJSi15HNRGRluODCflwocAJMQwFTohhKHBCDEOBE2IYCpwQw1DghBgm7Ga65yoissr1Mb1ljnOuQRjBelU52gsD2zQMHd5ii8cHn168hfWz83dqrf1PHPgOHH7xONuCdUn19Z0ghUt3I3w/swn24DsTPQe/PZ7AtVujMawXNc5kx5F+bnGEr2noqqOHSUSCALzrHB67D0YPi4jDycYWf+t6BTv2HvANTohhKHBCDEOBE2IYCpwQw1DghBiGAifEMBQ4IYYJVznus90CFy+Jsc8dxY4G4S320UuQw/UC3Ac77WLvsnH8tm1AL+vSMT64zLEHf5bP8XrQH7zCl0z+AkYPi4ikCfaDfZDZ3nu4D9cOhnqWXETk7PwM1mPwvEShw9/v6v69iEiW9WC938/UWgLy+SIinUxfKyKSdXE9BPtFoiiGa8XDzzHf4IQYhgInxDAUOCGGocAJMQwFTohhKHBCDBOWjsimB5yuOMWWS+yy0RJcX93rrZFdY1W7gmOVVYOji6gVbhjj30VHJ1tnq1tkLno+tv9CH9+TJMXXvKx0m+3y5gKuvbnTo8UiIss1tg9RsDIMsF1UV6ew7mqrnKb653s+th6jBB9bEuM22iFohZ2m2GITR7dovsEJMQwFTohhKHBCDEOBE2IYCpwQw1DghBiGAifEMGHdYo9vMOyrNd/Hvw9V5fKaMQ34A9daz3FsgY+jrGWNfHZXr1r83V7jaMMb6vUoxj536DrvEJ93ASK6TYsbADu+2ukXo89PEuwHx4520a7pwnWj3++2wRppaxwf3qzx+mwMoqqOuGjD8cGEfLhQ4IQYhgInxDAUOCGGocAJMQwFTohhKHBCDBN2ujirmnZ0f9GVay4dPnjlGCcbRrrn65hcLKHDFx1u4VG384XeTnrtaDVdNy6/GHvRSaxn2dPU0cI3xTl41xjd29s7tYbdXJGjoyewvljhPPh8sVBr/R5ui3z89GNYTx0e/J+++Uo/rvtLuNZ36MATnMHf3z9Qa+PRA7g2cOTk+QYnxDAUOCGGocAJMQwFTohhKHBCDEOBE2IYCpwQw4Tdrp73FsGjTTcb3FM9irAn6zn84DjR6/4G+39xgs/rs89+Beurte7R397dwLV3d7ewnjnGzR4/farW+j18XoM+9os91OheRC4udc/3/PIKrn3x8hX+bocHP1/qffC73QFcOxrhfQ2OGLzUYAzvu7ffwrUuH1xafN67D47U2pMn2N935eD5BifEMBQ4IYahwAkxDAVOiGEocEIMQ4ETYpiwabDG61rvN+tIg8p4vAPrMYhFiojUwH6I1tgm6/cmsP70+Bewnqa63VTW2B5crfXYo4hIEOBrPh6PwHHha5Y6RtU2jpbNu3vHau3xHJ9XlOBja4EVJSIy2NJjts5YpKtVtY8jvIePnqm18WgXru2BSLWISAVaUYvgKGyWYXswivXRwyJ8gxNiGgqcEMNQ4IQYhgInxDAUOCGGocAJMQwFTohh/g/TLIYDA9OaiQAAAABJRU5ErkJggg==\" y=\"-6.290909\"/>\n   </g>\n   <g id=\"matplotlib.axis_1\"/>\n   <g id=\"matplotlib.axis_2\"/>\n   <g id=\"patch_3\">\n    <path d=\"M 10.7 254.290909 \nL 10.7 7.2 \n\" style=\"fill:none;stroke:#000000;stroke-linecap:square;stroke-linejoin:miter;stroke-width:0.8;\"/>\n   </g>\n   <g id=\"patch_4\">\n    <path d=\"M 257.790909 254.290909 \nL 257.790909 7.2 \n\" style=\"fill:none;stroke:#000000;stroke-linecap:square;stroke-linejoin:miter;stroke-width:0.8;\"/>\n   </g>\n   <g id=\"patch_5\">\n    <path d=\"M 10.7 254.290909 \nL 257.790909 254.290909 \n\" style=\"fill:none;stroke:#000000;stroke-linecap:square;stroke-linejoin:miter;stroke-width:0.8;\"/>\n   </g>\n   <g id=\"patch_6\">\n    <path d=\"M 10.7 7.2 \nL 257.790909 7.2 \n\" style=\"fill:none;stroke:#000000;stroke-linecap:square;stroke-linejoin:miter;stroke-width:0.8;\"/>\n   </g>\n  </g>\n  <g id=\"axes_2\">\n   <g id=\"patch_7\">\n    <path d=\"M 315.063636 254.290909 \nL 562.154545 254.290909 \nL 562.154545 7.2 \nL 315.063636 7.2 \nz\n\" style=\"fill:#ffffff;\"/>\n   </g>\n   <g clip-path=\"url(#p99ff49d9db)\">\n    <image height=\"248\" id=\"image95eda21395\" transform=\"scale(1 -1)translate(0 -248)\" width=\"248\" x=\"315.063636\" xlink:href=\"data:image/png;base64,\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\" y=\"-6.290909\"/>\n   </g>\n   <g id=\"matplotlib.axis_3\"/>\n   <g id=\"matplotlib.axis_4\"/>\n   <g id=\"patch_8\">\n    <path d=\"M 315.063636 254.290909 \nL 315.063636 7.2 \n\" style=\"fill:none;stroke:#000000;stroke-linecap:square;stroke-linejoin:miter;stroke-width:0.8;\"/>\n   </g>\n   <g id=\"patch_9\">\n    <path d=\"M 562.154545 254.290909 \nL 562.154545 7.2 \n\" style=\"fill:none;stroke:#000000;stroke-linecap:square;stroke-linejoin:miter;stroke-width:0.8;\"/>\n   </g>\n   <g id=\"patch_10\">\n    <path d=\"M 315.063636 254.290909 \nL 562.154545 254.290909 \n\" style=\"fill:none;stroke:#000000;stroke-linecap:square;stroke-linejoin:miter;stroke-width:0.8;\"/>\n   </g>\n   <g id=\"patch_11\">\n    <path d=\"M 315.063636 7.2 \nL 562.154545 7.2 \n\" style=\"fill:none;stroke:#000000;stroke-linecap:square;stroke-linejoin:miter;stroke-width:0.8;\"/>\n   </g>\n  </g>\n  <g id=\"axes_3\">\n   <g id=\"patch_12\">\n    <path d=\"M 10.7 550.8 \nL 257.790909 550.8 \nL 257.790909 303.709091 \nL 10.7 303.709091 \nz\n\" style=\"fill:#ffffff;\"/>\n   </g>\n   <g clip-path=\"url(#pca7154377a)\">\n    <image height=\"248\" id=\"image13663be4e3\" transform=\"scale(1 -1)translate(0 -248)\" width=\"248\" x=\"10.7\" xlink:href=\"data:image/png;base64,\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\" y=\"-302.8\"/>\n   </g>\n   <g id=\"matplotlib.axis_5\"/>\n   <g id=\"matplotlib.axis_6\"/>\n   <g id=\"patch_13\">\n    <path d=\"M 10.7 550.8 \nL 10.7 303.709091 \n\" style=\"fill:none;stroke:#000000;stroke-linecap:square;stroke-linejoin:miter;stroke-width:0.8;\"/>\n   </g>\n   <g id=\"patch_14\">\n    <path d=\"M 257.790909 550.8 \nL 257.790909 303.709091 \n\" style=\"fill:none;stroke:#000000;stroke-linecap:square;stroke-linejoin:miter;stroke-width:0.8;\"/>\n   </g>\n   <g id=\"patch_15\">\n    <path d=\"M 10.7 550.8 \nL 257.790909 550.8 \n\" style=\"fill:none;stroke:#000000;stroke-linecap:square;stroke-linejoin:miter;stroke-width:0.8;\"/>\n   </g>\n   <g id=\"patch_16\">\n    <path d=\"M 10.7 303.709091 \nL 257.790909 303.709091 \n\" style=\"fill:none;stroke:#000000;stroke-linecap:square;stroke-linejoin:miter;stroke-width:0.8;\"/>\n   </g>\n  </g>\n  <g id=\"axes_4\">\n   <g id=\"patch_17\">\n    <path d=\"M 315.063636 550.8 \nL 562.154545 550.8 \nL 562.154545 303.709091 \nL 315.063636 303.709091 \nz\n\" style=\"fill:#ffffff;\"/>\n   </g>\n   <g clip-path=\"url(#p7610949600)\">\n    <image height=\"248\" id=\"image7ce01e05c8\" transform=\"scale(1 -1)translate(0 -248)\" width=\"248\" x=\"315.063636\" xlink:href=\"data:image/png;base64,\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\" y=\"-302.8\"/>\n   </g>\n   <g id=\"matplotlib.axis_7\"/>\n   <g id=\"matplotlib.axis_8\"/>\n   <g id=\"patch_18\">\n    <path d=\"M 315.063636 550.8 \nL 315.063636 303.709091 \n\" style=\"fill:none;stroke:#000000;stroke-linecap:square;stroke-linejoin:miter;stroke-width:0.8;\"/>\n   </g>\n   <g id=\"patch_19\">\n    <path d=\"M 562.154545 550.8 \nL 562.154545 303.709091 \n\" style=\"fill:none;stroke:#000000;stroke-linecap:square;stroke-linejoin:miter;stroke-width:0.8;\"/>\n   </g>\n   <g id=\"patch_20\">\n    <path d=\"M 315.063636 550.8 \nL 562.154545 550.8 \n\" style=\"fill:none;stroke:#000000;stroke-linecap:square;stroke-linejoin:miter;stroke-width:0.8;\"/>\n   </g>\n   <g id=\"patch_21\">\n    <path d=\"M 315.063636 303.709091 \nL 562.154545 303.709091 \n\" style=\"fill:none;stroke:#000000;stroke-linecap:square;stroke-linejoin:miter;stroke-width:0.8;\"/>\n   </g>\n  </g>\n </g>\n <defs>\n  <clipPath id=\"p8ca7775bea\">\n   <rect height=\"247.090909\" width=\"247.090909\" x=\"10.7\" y=\"7.2\"/>\n  </clipPath>\n  <clipPath id=\"p99ff49d9db\">\n   <rect height=\"247.090909\" width=\"247.090909\" x=\"315.063636\" y=\"7.2\"/>\n  </clipPath>\n  <clipPath id=\"pca7154377a\">\n   <rect height=\"247.090909\" width=\"247.090909\" x=\"10.7\" y=\"303.709091\"/>\n  </clipPath>\n  <clipPath id=\"p7610949600\">\n   <rect height=\"247.090909\" width=\"247.090909\" x=\"315.063636\" y=\"303.709091\"/>\n  </clipPath>\n </defs>\n</svg>\n"
          },
          "metadata": {}
        }
      ]
    },
    {
      "cell_type": "code",
      "source": [
        ""
      ],
      "metadata": {
        "id": "_Fr3UmY37X57"
      },
      "execution_count": 157,
      "outputs": []
    }
  ]
}